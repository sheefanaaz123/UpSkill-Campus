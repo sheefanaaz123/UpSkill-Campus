{
 "cells": [
  {
   "cell_type": "markdown",
   "id": "c3052636",
   "metadata": {},
   "source": [
    " # Prediction of Agriculture Crop Production in India "
   ]
  },
  {
   "cell_type": "markdown",
   "id": "3dedd2c7",
   "metadata": {},
   "source": [
    "##  Introduction:\n",
    "\n",
    "Agriculture plays a pivotal role in India's economy, with millions of livelihoods depending on successful crop yields. However, ensuring consistent and optimal crop production remains a significant challenge due to various factors, including climate variability, resource constraints, and changing agricultural practices.\n",
    "\n",
    "In this project, we undertake a predictive analysis of crop production in India, aiming to leverage the power of machine learning regression models to forecast crop yields accurately. The central objective is to develop robust and data-driven models that can provide insights into future agricultural outcomes and aid in informed decision-making for farmers, policymakers, and stakeholders.\n",
    "\n",
    "##  Problem Statement:\n",
    "\n",
    "The primary goal of this project is to create predictive models that can estimate crop yields in different regions of India based on historical production data and relevant agricultural parameters. We will explore multiple regression algorithms, including Decision Trees, Linear Regression, XGBoost, and Random Forest, to find the most suitable approach for crop yield prediction."
   ]
  },
  {
   "cell_type": "markdown",
   "id": "54ca06b3",
   "metadata": {},
   "source": [
    "## ◾ Data Collection and Preprocessing"
   ]
  },
  {
   "cell_type": "code",
   "execution_count": 862,
   "id": "a8c8b5d0",
   "metadata": {},
   "outputs": [],
   "source": [
    "# Installing Chart Studio, an online plot maker tool made available by Plotly ( an open-source and charting library that\n",
    "# provides the facility of interactive plotting. The library is available for several programming languages such as Python,\n",
    "# R, MATLAB, Arduino, and REST, among others). It provides a graphical user interface for importing and analyzing data into\n",
    "# a grid and using stats tools. Graphs can be embedded or downloaded. It is mainly used to enable creating graphs faster and\n",
    "# more efficiently."
   ]
  },
  {
   "cell_type": "code",
   "execution_count": 863,
   "id": "80085119",
   "metadata": {},
   "outputs": [
    {
     "name": "stdout",
     "output_type": "stream",
     "text": [
      "Requirement already satisfied: chart_studio in c:\\users\\kiit\\ana\\lib\\site-packages (1.1.0)\n",
      "Requirement already satisfied: plotly in c:\\users\\kiit\\ana\\lib\\site-packages (from chart_studio) (5.9.0)\n",
      "Requirement already satisfied: six in c:\\users\\kiit\\appdata\\roaming\\python\\python310\\site-packages (from chart_studio) (1.16.0)\n",
      "Requirement already satisfied: retrying>=1.3.3 in c:\\users\\kiit\\ana\\lib\\site-packages (from chart_studio) (1.3.4)\n",
      "Requirement already satisfied: requests in c:\\users\\kiit\\appdata\\roaming\\python\\python310\\site-packages (from chart_studio) (2.27.1)\n",
      "Requirement already satisfied: tenacity>=6.2.0 in c:\\users\\kiit\\ana\\lib\\site-packages (from plotly->chart_studio) (8.0.1)\n",
      "Requirement already satisfied: urllib3<1.27,>=1.21.1 in c:\\users\\kiit\\appdata\\roaming\\python\\python310\\site-packages (from requests->chart_studio) (1.26.9)\n",
      "Requirement already satisfied: idna<4,>=2.5 in c:\\users\\kiit\\appdata\\roaming\\python\\python310\\site-packages (from requests->chart_studio) (3.3)\n",
      "Requirement already satisfied: certifi>=2017.4.17 in c:\\users\\kiit\\appdata\\roaming\\python\\python310\\site-packages (from requests->chart_studio) (2021.10.8)\n",
      "Requirement already satisfied: charset-normalizer~=2.0.0 in c:\\users\\kiit\\appdata\\roaming\\python\\python310\\site-packages (from requests->chart_studio) (2.0.12)\n",
      "Note: you may need to restart the kernel to use updated packages.\n"
     ]
    }
   ],
   "source": [
    "pip install chart_studio"
   ]
  },
  {
   "cell_type": "code",
   "execution_count": 864,
   "id": "99aafc3b",
   "metadata": {},
   "outputs": [],
   "source": [
    "# Installing Cufflink, a python library that connects plotly with pandas so that we can create charts directly on data frames. It basically acts as a plugin."
   ]
  },
  {
   "cell_type": "code",
   "execution_count": 865,
   "id": "110b90a3",
   "metadata": {},
   "outputs": [
    {
     "name": "stdout",
     "output_type": "stream",
     "text": [
      "Requirement already satisfied: cufflinks in c:\\users\\kiit\\ana\\lib\\site-packages (0.17.3)\n",
      "Requirement already satisfied: six>=1.9.0 in c:\\users\\kiit\\appdata\\roaming\\python\\python310\\site-packages (from cufflinks) (1.16.0)\n",
      "Requirement already satisfied: colorlover>=0.2.1 in c:\\users\\kiit\\ana\\lib\\site-packages (from cufflinks) (0.3.0)\n",
      "Requirement already satisfied: plotly>=4.1.1 in c:\\users\\kiit\\ana\\lib\\site-packages (from cufflinks) (5.9.0)\n",
      "Requirement already satisfied: ipython>=5.3.0 in c:\\users\\kiit\\ana\\lib\\site-packages (from cufflinks) (8.10.0)\n",
      "Requirement already satisfied: setuptools>=34.4.1 in c:\\users\\kiit\\ana\\lib\\site-packages (from cufflinks) (65.6.3)\n",
      "Requirement already satisfied: pandas>=0.19.2 in c:\\users\\kiit\\appdata\\roaming\\python\\python310\\site-packages (from cufflinks) (1.4.2)\n",
      "Requirement already satisfied: numpy>=1.9.2 in c:\\users\\kiit\\ana\\lib\\site-packages (from cufflinks) (1.23.5)\n",
      "Requirement already satisfied: ipywidgets>=7.0.0 in c:\\users\\kiit\\ana\\lib\\site-packages (from cufflinks) (7.6.5)\n",
      "Requirement already satisfied: traitlets>=5 in c:\\users\\kiit\\ana\\lib\\site-packages (from ipython>=5.3.0->cufflinks) (5.7.1)\n",
      "Requirement already satisfied: pickleshare in c:\\users\\kiit\\ana\\lib\\site-packages (from ipython>=5.3.0->cufflinks) (0.7.5)\n",
      "Requirement already satisfied: pygments>=2.4.0 in c:\\users\\kiit\\ana\\lib\\site-packages (from ipython>=5.3.0->cufflinks) (2.11.2)\n",
      "Requirement already satisfied: backcall in c:\\users\\kiit\\ana\\lib\\site-packages (from ipython>=5.3.0->cufflinks) (0.2.0)\n",
      "Requirement already satisfied: colorama in c:\\users\\kiit\\appdata\\roaming\\python\\python310\\site-packages (from ipython>=5.3.0->cufflinks) (0.4.4)\n",
      "Requirement already satisfied: stack-data in c:\\users\\kiit\\ana\\lib\\site-packages (from ipython>=5.3.0->cufflinks) (0.2.0)\n",
      "Requirement already satisfied: prompt-toolkit<3.1.0,>=3.0.30 in c:\\users\\kiit\\ana\\lib\\site-packages (from ipython>=5.3.0->cufflinks) (3.0.36)\n",
      "Requirement already satisfied: decorator in c:\\users\\kiit\\ana\\lib\\site-packages (from ipython>=5.3.0->cufflinks) (5.1.1)\n",
      "Requirement already satisfied: matplotlib-inline in c:\\users\\kiit\\ana\\lib\\site-packages (from ipython>=5.3.0->cufflinks) (0.1.6)\n",
      "Requirement already satisfied: jedi>=0.16 in c:\\users\\kiit\\ana\\lib\\site-packages (from ipython>=5.3.0->cufflinks) (0.18.1)\n",
      "Requirement already satisfied: ipykernel>=4.5.1 in c:\\users\\kiit\\ana\\lib\\site-packages (from ipywidgets>=7.0.0->cufflinks) (6.19.2)\n",
      "Requirement already satisfied: jupyterlab-widgets>=1.0.0 in c:\\users\\kiit\\ana\\lib\\site-packages (from ipywidgets>=7.0.0->cufflinks) (1.0.0)\n",
      "Requirement already satisfied: ipython-genutils~=0.2.0 in c:\\users\\kiit\\ana\\lib\\site-packages (from ipywidgets>=7.0.0->cufflinks) (0.2.0)\n",
      "Requirement already satisfied: widgetsnbextension~=3.5.0 in c:\\users\\kiit\\ana\\lib\\site-packages (from ipywidgets>=7.0.0->cufflinks) (3.5.2)\n",
      "Requirement already satisfied: nbformat>=4.2.0 in c:\\users\\kiit\\ana\\lib\\site-packages (from ipywidgets>=7.0.0->cufflinks) (5.7.0)\n",
      "Requirement already satisfied: python-dateutil>=2.8.1 in c:\\users\\kiit\\appdata\\roaming\\python\\python310\\site-packages (from pandas>=0.19.2->cufflinks) (2.8.2)\n",
      "Requirement already satisfied: pytz>=2020.1 in c:\\users\\kiit\\appdata\\roaming\\python\\python310\\site-packages (from pandas>=0.19.2->cufflinks) (2022.1)\n",
      "Requirement already satisfied: tenacity>=6.2.0 in c:\\users\\kiit\\ana\\lib\\site-packages (from plotly>=4.1.1->cufflinks) (8.0.1)\n",
      "Requirement already satisfied: pyzmq>=17 in c:\\users\\kiit\\ana\\lib\\site-packages (from ipykernel>=4.5.1->ipywidgets>=7.0.0->cufflinks) (23.2.0)\n",
      "Requirement already satisfied: packaging in c:\\users\\kiit\\ana\\lib\\site-packages (from ipykernel>=4.5.1->ipywidgets>=7.0.0->cufflinks) (23.0)\n",
      "Requirement already satisfied: jupyter-client>=6.1.12 in c:\\users\\kiit\\ana\\lib\\site-packages (from ipykernel>=4.5.1->ipywidgets>=7.0.0->cufflinks) (7.3.4)\n",
      "Requirement already satisfied: debugpy>=1.0 in c:\\users\\kiit\\ana\\lib\\site-packages (from ipykernel>=4.5.1->ipywidgets>=7.0.0->cufflinks) (1.5.1)\n",
      "Requirement already satisfied: comm>=0.1.1 in c:\\users\\kiit\\ana\\lib\\site-packages (from ipykernel>=4.5.1->ipywidgets>=7.0.0->cufflinks) (0.1.2)\n",
      "Requirement already satisfied: nest-asyncio in c:\\users\\kiit\\ana\\lib\\site-packages (from ipykernel>=4.5.1->ipywidgets>=7.0.0->cufflinks) (1.5.6)\n",
      "Requirement already satisfied: tornado>=6.1 in c:\\users\\kiit\\ana\\lib\\site-packages (from ipykernel>=4.5.1->ipywidgets>=7.0.0->cufflinks) (6.1)\n",
      "Requirement already satisfied: psutil in c:\\users\\kiit\\ana\\lib\\site-packages (from ipykernel>=4.5.1->ipywidgets>=7.0.0->cufflinks) (5.9.0)\n",
      "Requirement already satisfied: parso<0.9.0,>=0.8.0 in c:\\users\\kiit\\ana\\lib\\site-packages (from jedi>=0.16->ipython>=5.3.0->cufflinks) (0.8.3)\n",
      "Requirement already satisfied: jsonschema>=2.6 in c:\\users\\kiit\\ana\\lib\\site-packages (from nbformat>=4.2.0->ipywidgets>=7.0.0->cufflinks) (4.17.3)\n",
      "Requirement already satisfied: fastjsonschema in c:\\users\\kiit\\ana\\lib\\site-packages (from nbformat>=4.2.0->ipywidgets>=7.0.0->cufflinks) (2.16.2)\n",
      "Requirement already satisfied: jupyter-core in c:\\users\\kiit\\ana\\lib\\site-packages (from nbformat>=4.2.0->ipywidgets>=7.0.0->cufflinks) (5.2.0)\n",
      "Requirement already satisfied: wcwidth in c:\\users\\kiit\\ana\\lib\\site-packages (from prompt-toolkit<3.1.0,>=3.0.30->ipython>=5.3.0->cufflinks) (0.2.5)\n",
      "Requirement already satisfied: notebook>=4.4.1 in c:\\users\\kiit\\ana\\lib\\site-packages (from widgetsnbextension~=3.5.0->ipywidgets>=7.0.0->cufflinks) (6.5.2)\n",
      "Requirement already satisfied: executing in c:\\users\\kiit\\ana\\lib\\site-packages (from stack-data->ipython>=5.3.0->cufflinks) (0.8.3)\n",
      "Requirement already satisfied: asttokens in c:\\users\\kiit\\ana\\lib\\site-packages (from stack-data->ipython>=5.3.0->cufflinks) (2.0.5)\n",
      "Requirement already satisfied: pure-eval in c:\\users\\kiit\\ana\\lib\\site-packages (from stack-data->ipython>=5.3.0->cufflinks) (0.2.2)\n",
      "Requirement already satisfied: attrs>=17.4.0 in c:\\users\\kiit\\ana\\lib\\site-packages (from jsonschema>=2.6->nbformat>=4.2.0->ipywidgets>=7.0.0->cufflinks) (22.1.0)\n",
      "Requirement already satisfied: pyrsistent!=0.17.0,!=0.17.1,!=0.17.2,>=0.14.0 in c:\\users\\kiit\\ana\\lib\\site-packages (from jsonschema>=2.6->nbformat>=4.2.0->ipywidgets>=7.0.0->cufflinks) (0.18.0)\n",
      "Requirement already satisfied: entrypoints in c:\\users\\kiit\\ana\\lib\\site-packages (from jupyter-client>=6.1.12->ipykernel>=4.5.1->ipywidgets>=7.0.0->cufflinks) (0.4)\n",
      "Requirement already satisfied: platformdirs>=2.5 in c:\\users\\kiit\\ana\\lib\\site-packages (from jupyter-core->nbformat>=4.2.0->ipywidgets>=7.0.0->cufflinks) (2.5.2)\n",
      "Requirement already satisfied: pywin32>=1.0 in c:\\users\\kiit\\ana\\lib\\site-packages (from jupyter-core->nbformat>=4.2.0->ipywidgets>=7.0.0->cufflinks) (305.1)\n",
      "Requirement already satisfied: argon2-cffi in c:\\users\\kiit\\ana\\lib\\site-packages (from notebook>=4.4.1->widgetsnbextension~=3.5.0->ipywidgets>=7.0.0->cufflinks) (21.3.0)\n",
      "Requirement already satisfied: nbconvert>=5 in c:\\users\\kiit\\ana\\lib\\site-packages (from notebook>=4.4.1->widgetsnbextension~=3.5.0->ipywidgets>=7.0.0->cufflinks) (6.5.4)\n",
      "Requirement already satisfied: prometheus-client in c:\\users\\kiit\\ana\\lib\\site-packages (from notebook>=4.4.1->widgetsnbextension~=3.5.0->ipywidgets>=7.0.0->cufflinks) (0.14.1)\n",
      "Requirement already satisfied: jinja2 in c:\\users\\kiit\\ana\\lib\\site-packages (from notebook>=4.4.1->widgetsnbextension~=3.5.0->ipywidgets>=7.0.0->cufflinks) (3.1.2)\n",
      "Requirement already satisfied: Send2Trash>=1.8.0 in c:\\users\\kiit\\ana\\lib\\site-packages (from notebook>=4.4.1->widgetsnbextension~=3.5.0->ipywidgets>=7.0.0->cufflinks) (1.8.0)\n",
      "Requirement already satisfied: nbclassic>=0.4.7 in c:\\users\\kiit\\ana\\lib\\site-packages (from notebook>=4.4.1->widgetsnbextension~=3.5.0->ipywidgets>=7.0.0->cufflinks) (0.5.2)\n",
      "Requirement already satisfied: terminado>=0.8.3 in c:\\users\\kiit\\ana\\lib\\site-packages (from notebook>=4.4.1->widgetsnbextension~=3.5.0->ipywidgets>=7.0.0->cufflinks) (0.17.1)\n",
      "Requirement already satisfied: jupyter-server>=1.8 in c:\\users\\kiit\\ana\\lib\\site-packages (from nbclassic>=0.4.7->notebook>=4.4.1->widgetsnbextension~=3.5.0->ipywidgets>=7.0.0->cufflinks) (1.23.4)\n",
      "Requirement already satisfied: notebook-shim>=0.1.0 in c:\\users\\kiit\\ana\\lib\\site-packages (from nbclassic>=0.4.7->notebook>=4.4.1->widgetsnbextension~=3.5.0->ipywidgets>=7.0.0->cufflinks) (0.2.2)\n",
      "Requirement already satisfied: lxml in c:\\users\\kiit\\ana\\lib\\site-packages (from nbconvert>=5->notebook>=4.4.1->widgetsnbextension~=3.5.0->ipywidgets>=7.0.0->cufflinks) (4.9.1)\n",
      "Requirement already satisfied: jupyterlab-pygments in c:\\users\\kiit\\ana\\lib\\site-packages (from nbconvert>=5->notebook>=4.4.1->widgetsnbextension~=3.5.0->ipywidgets>=7.0.0->cufflinks) (0.1.2)\n",
      "Requirement already satisfied: pandocfilters>=1.4.1 in c:\\users\\kiit\\ana\\lib\\site-packages (from nbconvert>=5->notebook>=4.4.1->widgetsnbextension~=3.5.0->ipywidgets>=7.0.0->cufflinks) (1.5.0)\n",
      "Requirement already satisfied: bleach in c:\\users\\kiit\\ana\\lib\\site-packages (from nbconvert>=5->notebook>=4.4.1->widgetsnbextension~=3.5.0->ipywidgets>=7.0.0->cufflinks) (4.1.0)\n",
      "Requirement already satisfied: tinycss2 in c:\\users\\kiit\\ana\\lib\\site-packages (from nbconvert>=5->notebook>=4.4.1->widgetsnbextension~=3.5.0->ipywidgets>=7.0.0->cufflinks) (1.2.1)\n",
      "Requirement already satisfied: mistune<2,>=0.8.1 in c:\\users\\kiit\\ana\\lib\\site-packages (from nbconvert>=5->notebook>=4.4.1->widgetsnbextension~=3.5.0->ipywidgets>=7.0.0->cufflinks) (0.8.4)\n",
      "Requirement already satisfied: nbclient>=0.5.0 in c:\\users\\kiit\\ana\\lib\\site-packages (from nbconvert>=5->notebook>=4.4.1->widgetsnbextension~=3.5.0->ipywidgets>=7.0.0->cufflinks) (0.5.13)\n",
      "Requirement already satisfied: defusedxml in c:\\users\\kiit\\ana\\lib\\site-packages (from nbconvert>=5->notebook>=4.4.1->widgetsnbextension~=3.5.0->ipywidgets>=7.0.0->cufflinks) (0.7.1)\n",
      "Requirement already satisfied: beautifulsoup4 in c:\\users\\kiit\\ana\\lib\\site-packages (from nbconvert>=5->notebook>=4.4.1->widgetsnbextension~=3.5.0->ipywidgets>=7.0.0->cufflinks) (4.11.1)\n",
      "Requirement already satisfied: MarkupSafe>=2.0 in c:\\users\\kiit\\ana\\lib\\site-packages (from nbconvert>=5->notebook>=4.4.1->widgetsnbextension~=3.5.0->ipywidgets>=7.0.0->cufflinks) (2.1.1)\n",
      "Requirement already satisfied: pywinpty>=1.1.0 in c:\\users\\kiit\\ana\\lib\\site-packages (from terminado>=0.8.3->notebook>=4.4.1->widgetsnbextension~=3.5.0->ipywidgets>=7.0.0->cufflinks) (2.0.10)\n",
      "Requirement already satisfied: argon2-cffi-bindings in c:\\users\\kiit\\ana\\lib\\site-packages (from argon2-cffi->notebook>=4.4.1->widgetsnbextension~=3.5.0->ipywidgets>=7.0.0->cufflinks) (21.2.0)\n",
      "Requirement already satisfied: anyio<4,>=3.1.0 in c:\\users\\kiit\\ana\\lib\\site-packages (from jupyter-server>=1.8->nbclassic>=0.4.7->notebook>=4.4.1->widgetsnbextension~=3.5.0->ipywidgets>=7.0.0->cufflinks) (3.5.0)\n",
      "Requirement already satisfied: websocket-client in c:\\users\\kiit\\ana\\lib\\site-packages (from jupyter-server>=1.8->nbclassic>=0.4.7->notebook>=4.4.1->widgetsnbextension~=3.5.0->ipywidgets>=7.0.0->cufflinks) (0.58.0)\n",
      "Requirement already satisfied: cffi>=1.0.1 in c:\\users\\kiit\\ana\\lib\\site-packages (from argon2-cffi-bindings->argon2-cffi->notebook>=4.4.1->widgetsnbextension~=3.5.0->ipywidgets>=7.0.0->cufflinks) (1.15.1)\n",
      "Requirement already satisfied: soupsieve>1.2 in c:\\users\\kiit\\ana\\lib\\site-packages (from beautifulsoup4->nbconvert>=5->notebook>=4.4.1->widgetsnbextension~=3.5.0->ipywidgets>=7.0.0->cufflinks) (2.3.2.post1)\n",
      "Requirement already satisfied: webencodings in c:\\users\\kiit\\ana\\lib\\site-packages (from bleach->nbconvert>=5->notebook>=4.4.1->widgetsnbextension~=3.5.0->ipywidgets>=7.0.0->cufflinks) (0.5.1)\n",
      "Requirement already satisfied: idna>=2.8 in c:\\users\\kiit\\appdata\\roaming\\python\\python310\\site-packages (from anyio<4,>=3.1.0->jupyter-server>=1.8->nbclassic>=0.4.7->notebook>=4.4.1->widgetsnbextension~=3.5.0->ipywidgets>=7.0.0->cufflinks) (3.3)\n",
      "Requirement already satisfied: sniffio>=1.1 in c:\\users\\kiit\\ana\\lib\\site-packages (from anyio<4,>=3.1.0->jupyter-server>=1.8->nbclassic>=0.4.7->notebook>=4.4.1->widgetsnbextension~=3.5.0->ipywidgets>=7.0.0->cufflinks) (1.2.0)\n",
      "Requirement already satisfied: pycparser in c:\\users\\kiit\\ana\\lib\\site-packages (from cffi>=1.0.1->argon2-cffi-bindings->argon2-cffi->notebook>=4.4.1->widgetsnbextension~=3.5.0->ipywidgets>=7.0.0->cufflinks) (2.21)\n",
      "Note: you may need to restart the kernel to use updated packages.\n"
     ]
    }
   ],
   "source": [
    "pip install cufflinks"
   ]
  },
  {
   "cell_type": "code",
   "execution_count": 866,
   "id": "1471e072",
   "metadata": {},
   "outputs": [],
   "source": [
    "# Importing essential Python libraries for data analysis, visualization, and interactive plotting,\n",
    "# such as NumPy, Pandas, Seaborn, Matplotlib, Cufflinks, and Plotly. These tools play a crucial role in analyzing\n",
    "# agricultural data and predicting crop production in India. It emphasizes the use of data analytics and \n",
    "# visualization to make informed predictions in the agriculture sector."
   ]
  },
  {
   "cell_type": "code",
   "execution_count": 867,
   "id": "be1bd087",
   "metadata": {},
   "outputs": [
    {
     "data": {
      "text/html": [
       "        <script type=\"text/javascript\">\n",
       "        window.PlotlyConfig = {MathJaxConfig: 'local'};\n",
       "        if (window.MathJax && window.MathJax.Hub && window.MathJax.Hub.Config) {window.MathJax.Hub.Config({SVG: {font: \"STIX-Web\"}});}\n",
       "        if (typeof require !== 'undefined') {\n",
       "        require.undef(\"plotly\");\n",
       "        requirejs.config({\n",
       "            paths: {\n",
       "                'plotly': ['https://cdn.plot.ly/plotly-2.12.1.min']\n",
       "            }\n",
       "        });\n",
       "        require(['plotly'], function(Plotly) {\n",
       "            window._Plotly = Plotly;\n",
       "        });\n",
       "        }\n",
       "        </script>\n",
       "        "
      ]
     },
     "metadata": {},
     "output_type": "display_data"
    }
   ],
   "source": [
    "import numpy as np\n",
    "import pandas as pd\n",
    "import seaborn as sns \n",
    "import matplotlib.pyplot as plt\n",
    "import cufflinks as cs\n",
    "%matplotlib inline\n",
    "import chart_studio as cs\n",
    "import plotly \n",
    "import plotly.express as px\n",
    "from plotly.offline import download_plotlyjs,init_notebook_mode,plot,iplot\n",
    "plotly.offline.init_notebook_mode(connected=True)"
   ]
  },
  {
   "cell_type": "code",
   "execution_count": 868,
   "id": "fdc4d4bc",
   "metadata": {},
   "outputs": [],
   "source": [
    "# The integration of multiple datasets (datafile (1).csv, datafile (2).csv, datafile (3).csv, and datafile.csv) using the\n",
    "# Pandas library in Python. By combining these datasets, the analysis gains greater depth and comprehensiveness, enhancing\n",
    "# the accuracy and reliability of predictions for agriculture crop production in India. The title highlights the importance \n",
    "# of aggregating various data sources to create a more robust foundation for analysis and forecasting in the agriculture \n",
    "# sector."
   ]
  },
  {
   "cell_type": "code",
   "execution_count": 869,
   "id": "4b8ebcff",
   "metadata": {},
   "outputs": [],
   "source": [
    "df1= pd.read_csv('datafile (1).csv')\n",
    "df2=pd.read_csv('datafile (2).csv')\n",
    "df3=pd.read_csv('datafile (3).csv')\n",
    "df4=pd.read_csv('datafile.csv')"
   ]
  },
  {
   "cell_type": "code",
   "execution_count": 870,
   "id": "6d882ff9",
   "metadata": {},
   "outputs": [],
   "source": [
    "# Performing random sampling on the dataframe df1, which contains data related to agriculture crop production in India. \n",
    "# By selecting a random sample of 10 data points, we can gain valuable insights into the dataset's distribution, trends, \n",
    "# and patterns. Random sampling helps in understanding the broader characteristics of the data and serves as a\n",
    "# representative subset for further analysis and inference. "
   ]
  },
  {
   "cell_type": "code",
   "execution_count": 871,
   "id": "45bd4361",
   "metadata": {},
   "outputs": [
    {
     "data": {
      "text/html": [
       "<div>\n",
       "<style scoped>\n",
       "    .dataframe tbody tr th:only-of-type {\n",
       "        vertical-align: middle;\n",
       "    }\n",
       "\n",
       "    .dataframe tbody tr th {\n",
       "        vertical-align: top;\n",
       "    }\n",
       "\n",
       "    .dataframe thead th {\n",
       "        text-align: right;\n",
       "    }\n",
       "</style>\n",
       "<table border=\"1\" class=\"dataframe\">\n",
       "  <thead>\n",
       "    <tr style=\"text-align: right;\">\n",
       "      <th></th>\n",
       "      <th>Crop</th>\n",
       "      <th>State</th>\n",
       "      <th>Cost of Cultivation (`/Hectare) A2+FL</th>\n",
       "      <th>Cost of Cultivation (`/Hectare) C2</th>\n",
       "      <th>Cost of Production (`/Quintal) C2</th>\n",
       "      <th>Yield (Quintal/ Hectare)</th>\n",
       "    </tr>\n",
       "  </thead>\n",
       "  <tbody>\n",
       "    <tr>\n",
       "      <th>11</th>\n",
       "      <td>GRAM</td>\n",
       "      <td>Madhya Pradesh</td>\n",
       "      <td>9803.89</td>\n",
       "      <td>16873.17</td>\n",
       "      <td>1551.94</td>\n",
       "      <td>10.29</td>\n",
       "    </tr>\n",
       "    <tr>\n",
       "      <th>43</th>\n",
       "      <td>SUGARCANE</td>\n",
       "      <td>Maharashtra</td>\n",
       "      <td>57673.60</td>\n",
       "      <td>85801.95</td>\n",
       "      <td>107.56</td>\n",
       "      <td>744.01</td>\n",
       "    </tr>\n",
       "    <tr>\n",
       "      <th>21</th>\n",
       "      <td>MAIZE</td>\n",
       "      <td>Karnataka</td>\n",
       "      <td>13792.85</td>\n",
       "      <td>20671.54</td>\n",
       "      <td>581.69</td>\n",
       "      <td>31.10</td>\n",
       "    </tr>\n",
       "    <tr>\n",
       "      <th>27</th>\n",
       "      <td>MOONG</td>\n",
       "      <td>Karnataka</td>\n",
       "      <td>6440.64</td>\n",
       "      <td>7868.64</td>\n",
       "      <td>5777.48</td>\n",
       "      <td>1.32</td>\n",
       "    </tr>\n",
       "    <tr>\n",
       "      <th>0</th>\n",
       "      <td>ARHAR</td>\n",
       "      <td>Uttar Pradesh</td>\n",
       "      <td>9794.05</td>\n",
       "      <td>23076.74</td>\n",
       "      <td>1941.55</td>\n",
       "      <td>9.83</td>\n",
       "    </tr>\n",
       "    <tr>\n",
       "      <th>15</th>\n",
       "      <td>GROUNDNUT</td>\n",
       "      <td>Karnataka</td>\n",
       "      <td>13647.10</td>\n",
       "      <td>17314.20</td>\n",
       "      <td>3484.01</td>\n",
       "      <td>4.71</td>\n",
       "    </tr>\n",
       "    <tr>\n",
       "      <th>48</th>\n",
       "      <td>WHEAT</td>\n",
       "      <td>Rajasthan</td>\n",
       "      <td>19119.08</td>\n",
       "      <td>29876.36</td>\n",
       "      <td>683.58</td>\n",
       "      <td>37.19</td>\n",
       "    </tr>\n",
       "    <tr>\n",
       "      <th>33</th>\n",
       "      <td>PADDY</td>\n",
       "      <td>Punjab</td>\n",
       "      <td>25154.75</td>\n",
       "      <td>45291.24</td>\n",
       "      <td>669.86</td>\n",
       "      <td>67.41</td>\n",
       "    </tr>\n",
       "    <tr>\n",
       "      <th>7</th>\n",
       "      <td>COTTON</td>\n",
       "      <td>Andhra Pradesh</td>\n",
       "      <td>29140.77</td>\n",
       "      <td>44756.72</td>\n",
       "      <td>2509.99</td>\n",
       "      <td>17.83</td>\n",
       "    </tr>\n",
       "    <tr>\n",
       "      <th>13</th>\n",
       "      <td>GRAM</td>\n",
       "      <td>Maharashtra</td>\n",
       "      <td>12985.95</td>\n",
       "      <td>18679.33</td>\n",
       "      <td>2277.68</td>\n",
       "      <td>8.05</td>\n",
       "    </tr>\n",
       "  </tbody>\n",
       "</table>\n",
       "</div>"
      ],
      "text/plain": [
       "         Crop           State  Cost of Cultivation (`/Hectare) A2+FL  \\\n",
       "11       GRAM  Madhya Pradesh                                9803.89   \n",
       "43  SUGARCANE     Maharashtra                               57673.60   \n",
       "21      MAIZE       Karnataka                               13792.85   \n",
       "27      MOONG       Karnataka                                6440.64   \n",
       "0       ARHAR   Uttar Pradesh                                9794.05   \n",
       "15  GROUNDNUT       Karnataka                               13647.10   \n",
       "48      WHEAT       Rajasthan                               19119.08   \n",
       "33      PADDY          Punjab                               25154.75   \n",
       "7      COTTON  Andhra Pradesh                               29140.77   \n",
       "13       GRAM     Maharashtra                               12985.95   \n",
       "\n",
       "    Cost of Cultivation (`/Hectare) C2  Cost of Production (`/Quintal) C2  \\\n",
       "11                            16873.17                            1551.94   \n",
       "43                            85801.95                             107.56   \n",
       "21                            20671.54                             581.69   \n",
       "27                             7868.64                            5777.48   \n",
       "0                             23076.74                            1941.55   \n",
       "15                            17314.20                            3484.01   \n",
       "48                            29876.36                             683.58   \n",
       "33                            45291.24                             669.86   \n",
       "7                             44756.72                            2509.99   \n",
       "13                            18679.33                            2277.68   \n",
       "\n",
       "    Yield (Quintal/ Hectare)   \n",
       "11                      10.29  \n",
       "43                     744.01  \n",
       "21                      31.10  \n",
       "27                       1.32  \n",
       "0                        9.83  \n",
       "15                       4.71  \n",
       "48                      37.19  \n",
       "33                      67.41  \n",
       "7                       17.83  \n",
       "13                       8.05  "
      ]
     },
     "execution_count": 871,
     "metadata": {},
     "output_type": "execute_result"
    }
   ],
   "source": [
    "df1.sample(10)"
   ]
  },
  {
   "cell_type": "code",
   "execution_count": 872,
   "id": "09ed3532",
   "metadata": {},
   "outputs": [],
   "source": [
    "# Provides an overview of the dataframe df1, which contains data related to agriculture crop production in India. \n",
    "# We can obtain essential information about the dataset, including the number of rows and columns, data types of each column,\n",
    "# and presence of any missing values. "
   ]
  },
  {
   "cell_type": "code",
   "execution_count": 873,
   "id": "b47d2750",
   "metadata": {},
   "outputs": [
    {
     "name": "stdout",
     "output_type": "stream",
     "text": [
      "<class 'pandas.core.frame.DataFrame'>\n",
      "RangeIndex: 49 entries, 0 to 48\n",
      "Data columns (total 6 columns):\n",
      " #   Column                                 Non-Null Count  Dtype  \n",
      "---  ------                                 --------------  -----  \n",
      " 0   Crop                                   49 non-null     object \n",
      " 1   State                                  49 non-null     object \n",
      " 2   Cost of Cultivation (`/Hectare) A2+FL  49 non-null     float64\n",
      " 3   Cost of Cultivation (`/Hectare) C2     49 non-null     float64\n",
      " 4   Cost of Production (`/Quintal) C2      49 non-null     float64\n",
      " 5   Yield (Quintal/ Hectare)               49 non-null     float64\n",
      "dtypes: float64(4), object(2)\n",
      "memory usage: 2.4+ KB\n"
     ]
    }
   ],
   "source": [
    "df1.info()"
   ]
  },
  {
   "cell_type": "code",
   "execution_count": 874,
   "id": "fefb5cd2",
   "metadata": {},
   "outputs": [],
   "source": [
    "#  Perform random sampling on the dataframe df2"
   ]
  },
  {
   "cell_type": "code",
   "execution_count": 875,
   "id": "83c2e6af",
   "metadata": {},
   "outputs": [
    {
     "data": {
      "text/html": [
       "<div>\n",
       "<style scoped>\n",
       "    .dataframe tbody tr th:only-of-type {\n",
       "        vertical-align: middle;\n",
       "    }\n",
       "\n",
       "    .dataframe tbody tr th {\n",
       "        vertical-align: top;\n",
       "    }\n",
       "\n",
       "    .dataframe thead th {\n",
       "        text-align: right;\n",
       "    }\n",
       "</style>\n",
       "<table border=\"1\" class=\"dataframe\">\n",
       "  <thead>\n",
       "    <tr style=\"text-align: right;\">\n",
       "      <th></th>\n",
       "      <th>Crop</th>\n",
       "      <th>Production 2006-07</th>\n",
       "      <th>Production 2007-08</th>\n",
       "      <th>Production 2008-09</th>\n",
       "      <th>Production 2009-10</th>\n",
       "      <th>Production 2010-11</th>\n",
       "      <th>Area 2006-07</th>\n",
       "      <th>Area 2007-08</th>\n",
       "      <th>Area 2008-09</th>\n",
       "      <th>Area 2009-10</th>\n",
       "      <th>Area 2010-11</th>\n",
       "      <th>Yield 2006-07</th>\n",
       "      <th>Yield 2007-08</th>\n",
       "      <th>Yield 2008-09</th>\n",
       "      <th>Yield 2009-10</th>\n",
       "      <th>Yield 2010-11</th>\n",
       "    </tr>\n",
       "  </thead>\n",
       "  <tbody>\n",
       "    <tr>\n",
       "      <th>8</th>\n",
       "      <td>Barley</td>\n",
       "      <td>88.1</td>\n",
       "      <td>79.3</td>\n",
       "      <td>112.0</td>\n",
       "      <td>89.9</td>\n",
       "      <td>110.3</td>\n",
       "      <td>72.8</td>\n",
       "      <td>67.9</td>\n",
       "      <td>79.5</td>\n",
       "      <td>70.2</td>\n",
       "      <td>79.4</td>\n",
       "      <td>121.0</td>\n",
       "      <td>116.9</td>\n",
       "      <td>141.0</td>\n",
       "      <td>127.9</td>\n",
       "      <td>138.9</td>\n",
       "    </tr>\n",
       "    <tr>\n",
       "      <th>44</th>\n",
       "      <td>Cardamom</td>\n",
       "      <td>159.2</td>\n",
       "      <td>135.8</td>\n",
       "      <td>157.1</td>\n",
       "      <td>159.2</td>\n",
       "      <td>162.2</td>\n",
       "      <td>93.4</td>\n",
       "      <td>77.8</td>\n",
       "      <td>87.5</td>\n",
       "      <td>85.8</td>\n",
       "      <td>82.7</td>\n",
       "      <td>170.5</td>\n",
       "      <td>174.7</td>\n",
       "      <td>179.6</td>\n",
       "      <td>185.6</td>\n",
       "      <td>196.1</td>\n",
       "    </tr>\n",
       "    <tr>\n",
       "      <th>17</th>\n",
       "      <td>Groundnut</td>\n",
       "      <td>115.2</td>\n",
       "      <td>217.5</td>\n",
       "      <td>169.8</td>\n",
       "      <td>128.6</td>\n",
       "      <td>195.7</td>\n",
       "      <td>124.1</td>\n",
       "      <td>139.1</td>\n",
       "      <td>136.3</td>\n",
       "      <td>121.1</td>\n",
       "      <td>129.5</td>\n",
       "      <td>92.8</td>\n",
       "      <td>156.3</td>\n",
       "      <td>124.6</td>\n",
       "      <td>106.2</td>\n",
       "      <td>151.2</td>\n",
       "    </tr>\n",
       "    <tr>\n",
       "      <th>35</th>\n",
       "      <td>Tea</td>\n",
       "      <td>132.2</td>\n",
       "      <td>132.8</td>\n",
       "      <td>132.0</td>\n",
       "      <td>132.0</td>\n",
       "      <td>132.0</td>\n",
       "      <td>135.3</td>\n",
       "      <td>137.8</td>\n",
       "      <td>137.8</td>\n",
       "      <td>137.8</td>\n",
       "      <td>137.8</td>\n",
       "      <td>97.7</td>\n",
       "      <td>96.3</td>\n",
       "      <td>95.8</td>\n",
       "      <td>95.8</td>\n",
       "      <td>95.8</td>\n",
       "    </tr>\n",
       "    <tr>\n",
       "      <th>25</th>\n",
       "      <td>Soyabean</td>\n",
       "      <td>253.2</td>\n",
       "      <td>313.8</td>\n",
       "      <td>283.4</td>\n",
       "      <td>285.1</td>\n",
       "      <td>364.4</td>\n",
       "      <td>222.7</td>\n",
       "      <td>237.5</td>\n",
       "      <td>254.5</td>\n",
       "      <td>260.3</td>\n",
       "      <td>256.8</td>\n",
       "      <td>113.7</td>\n",
       "      <td>132.1</td>\n",
       "      <td>111.4</td>\n",
       "      <td>109.5</td>\n",
       "      <td>141.9</td>\n",
       "    </tr>\n",
       "    <tr>\n",
       "      <th>3</th>\n",
       "      <td>Jowar</td>\n",
       "      <td>124.3</td>\n",
       "      <td>137.8</td>\n",
       "      <td>126.0</td>\n",
       "      <td>116.5</td>\n",
       "      <td>121.8</td>\n",
       "      <td>120.7</td>\n",
       "      <td>110.6</td>\n",
       "      <td>107.3</td>\n",
       "      <td>111.0</td>\n",
       "      <td>105.2</td>\n",
       "      <td>103.0</td>\n",
       "      <td>124.6</td>\n",
       "      <td>117.4</td>\n",
       "      <td>105.0</td>\n",
       "      <td>115.8</td>\n",
       "    </tr>\n",
       "    <tr>\n",
       "      <th>54</th>\n",
       "      <td>Tobacco</td>\n",
       "      <td>88.1</td>\n",
       "      <td>83.6</td>\n",
       "      <td>96.4</td>\n",
       "      <td>105.3</td>\n",
       "      <td>140.9</td>\n",
       "      <td>88.8</td>\n",
       "      <td>83.9</td>\n",
       "      <td>94.2</td>\n",
       "      <td>107.1</td>\n",
       "      <td>118.8</td>\n",
       "      <td>99.1</td>\n",
       "      <td>88.3</td>\n",
       "      <td>102.4</td>\n",
       "      <td>109.6</td>\n",
       "      <td>118.6</td>\n",
       "    </tr>\n",
       "    <tr>\n",
       "      <th>40</th>\n",
       "      <td>Dry chilies</td>\n",
       "      <td>163.5</td>\n",
       "      <td>170.8</td>\n",
       "      <td>167.1</td>\n",
       "      <td>158.3</td>\n",
       "      <td>160.9</td>\n",
       "      <td>83.6</td>\n",
       "      <td>88.3</td>\n",
       "      <td>85.4</td>\n",
       "      <td>84.0</td>\n",
       "      <td>86.8</td>\n",
       "      <td>195.5</td>\n",
       "      <td>193.4</td>\n",
       "      <td>195.8</td>\n",
       "      <td>188.4</td>\n",
       "      <td>185.5</td>\n",
       "    </tr>\n",
       "    <tr>\n",
       "      <th>46</th>\n",
       "      <td>Garlic</td>\n",
       "      <td>226.2</td>\n",
       "      <td>311.3</td>\n",
       "      <td>242.1</td>\n",
       "      <td>243.0</td>\n",
       "      <td>308.2</td>\n",
       "      <td>187.6</td>\n",
       "      <td>241.6</td>\n",
       "      <td>195.8</td>\n",
       "      <td>194.4</td>\n",
       "      <td>236.8</td>\n",
       "      <td>120.6</td>\n",
       "      <td>128.8</td>\n",
       "      <td>123.6</td>\n",
       "      <td>125.0</td>\n",
       "      <td>130.1</td>\n",
       "    </tr>\n",
       "    <tr>\n",
       "      <th>10</th>\n",
       "      <td>Cereals</td>\n",
       "      <td>164.1</td>\n",
       "      <td>174.6</td>\n",
       "      <td>177.7</td>\n",
       "      <td>164.4</td>\n",
       "      <td>183.1</td>\n",
       "      <td>130.0</td>\n",
       "      <td>129.9</td>\n",
       "      <td>130.3</td>\n",
       "      <td>126.8</td>\n",
       "      <td>129.8</td>\n",
       "      <td>126.3</td>\n",
       "      <td>134.4</td>\n",
       "      <td>136.4</td>\n",
       "      <td>129.7</td>\n",
       "      <td>141.1</td>\n",
       "    </tr>\n",
       "  </tbody>\n",
       "</table>\n",
       "</div>"
      ],
      "text/plain": [
       "   Crop               Production 2006-07  Production 2007-08  \\\n",
       "8             Barley                88.1                79.3   \n",
       "44         Cardamom                159.2               135.8   \n",
       "17         Groundnut               115.2               217.5   \n",
       "35              Tea                132.2               132.8   \n",
       "25          Soyabean               253.2               313.8   \n",
       "3              Jowar               124.3               137.8   \n",
       "54           Tobacco                88.1                83.6   \n",
       "40      Dry chilies                163.5               170.8   \n",
       "46          Garlic                 226.2               311.3   \n",
       "10           Cereals               164.1               174.6   \n",
       "\n",
       "    Production 2008-09  Production 2009-10  Production 2010-11  Area 2006-07  \\\n",
       "8                112.0                89.9               110.3          72.8   \n",
       "44               157.1               159.2               162.2          93.4   \n",
       "17               169.8               128.6               195.7         124.1   \n",
       "35               132.0               132.0               132.0         135.3   \n",
       "25               283.4               285.1               364.4         222.7   \n",
       "3                126.0               116.5               121.8         120.7   \n",
       "54                96.4               105.3               140.9          88.8   \n",
       "40               167.1               158.3               160.9          83.6   \n",
       "46               242.1               243.0               308.2         187.6   \n",
       "10               177.7               164.4               183.1         130.0   \n",
       "\n",
       "    Area 2007-08  Area 2008-09  Area 2009-10  Area 2010-11  Yield 2006-07  \\\n",
       "8           67.9          79.5          70.2          79.4          121.0   \n",
       "44          77.8          87.5          85.8          82.7          170.5   \n",
       "17         139.1         136.3         121.1         129.5           92.8   \n",
       "35         137.8         137.8         137.8         137.8           97.7   \n",
       "25         237.5         254.5         260.3         256.8          113.7   \n",
       "3          110.6         107.3         111.0         105.2          103.0   \n",
       "54          83.9          94.2         107.1         118.8           99.1   \n",
       "40          88.3          85.4          84.0          86.8          195.5   \n",
       "46         241.6         195.8         194.4         236.8          120.6   \n",
       "10         129.9         130.3         126.8         129.8          126.3   \n",
       "\n",
       "    Yield 2007-08  Yield 2008-09  Yield 2009-10  Yield 2010-11  \n",
       "8           116.9          141.0          127.9          138.9  \n",
       "44          174.7          179.6          185.6          196.1  \n",
       "17          156.3          124.6          106.2          151.2  \n",
       "35           96.3           95.8           95.8           95.8  \n",
       "25          132.1          111.4          109.5          141.9  \n",
       "3           124.6          117.4          105.0          115.8  \n",
       "54           88.3          102.4          109.6          118.6  \n",
       "40          193.4          195.8          188.4          185.5  \n",
       "46          128.8          123.6          125.0          130.1  \n",
       "10          134.4          136.4          129.7          141.1  "
      ]
     },
     "execution_count": 875,
     "metadata": {},
     "output_type": "execute_result"
    }
   ],
   "source": [
    "df2.sample(10)"
   ]
  },
  {
   "cell_type": "code",
   "execution_count": 876,
   "id": "760b96fb",
   "metadata": {},
   "outputs": [],
   "source": [
    "# All columns of df2 dataframe."
   ]
  },
  {
   "cell_type": "code",
   "execution_count": 877,
   "id": "0ab2fb6f",
   "metadata": {},
   "outputs": [
    {
     "data": {
      "text/plain": [
       "Index(['Crop             ', 'Production 2006-07', 'Production 2007-08',\n",
       "       'Production 2008-09', 'Production 2009-10', 'Production 2010-11',\n",
       "       'Area 2006-07', 'Area 2007-08', 'Area 2008-09', 'Area 2009-10',\n",
       "       'Area 2010-11', 'Yield 2006-07', 'Yield 2007-08', 'Yield 2008-09',\n",
       "       'Yield 2009-10', 'Yield 2010-11'],\n",
       "      dtype='object')"
      ]
     },
     "execution_count": 877,
     "metadata": {},
     "output_type": "execute_result"
    }
   ],
   "source": [
    "df2.columns"
   ]
  },
  {
   "cell_type": "code",
   "execution_count": 878,
   "id": "26ac4c68",
   "metadata": {},
   "outputs": [],
   "source": [
    "# Standardizing the column header by renaming the column 'Crop             ' to 'Crop' for consistency and ease of analysis. "
   ]
  },
  {
   "cell_type": "code",
   "execution_count": 879,
   "id": "68133b14",
   "metadata": {},
   "outputs": [
    {
     "data": {
      "text/plain": [
       "Index(['Crop', 'Production 2006-07', 'Production 2007-08',\n",
       "       'Production 2008-09', 'Production 2009-10', 'Production 2010-11',\n",
       "       'Area 2006-07', 'Area 2007-08', 'Area 2008-09', 'Area 2009-10',\n",
       "       'Area 2010-11', 'Yield 2006-07', 'Yield 2007-08', 'Yield 2008-09',\n",
       "       'Yield 2009-10', 'Yield 2010-11'],\n",
       "      dtype='object')"
      ]
     },
     "execution_count": 879,
     "metadata": {},
     "output_type": "execute_result"
    }
   ],
   "source": [
    "df2_pd=df2\n",
    "df2_pd.rename(columns={'Crop             ':'Crop'},inplace=True)\n",
    "df2.columns"
   ]
  },
  {
   "cell_type": "code",
   "execution_count": 880,
   "id": "991529a0",
   "metadata": {},
   "outputs": [
    {
     "data": {
      "text/plain": [
       "0              Total Foodgrains\n",
       "1                          Rice\n",
       "2                         Wheat\n",
       "3                         Jowar\n",
       "4                         Bajra\n",
       "5                         Maize\n",
       "6                          Ragi\n",
       "7                 Small millets\n",
       "8                        Barley\n",
       "9                Coarse Cereals\n",
       "10                      Cereals\n",
       "11                         Gram\n",
       "12                        Arhar\n",
       "13                 Other Pulses\n",
       "14                 Total Pulses\n",
       "15       Total Non-Food grains \n",
       "16               Total Oilseeds\n",
       "17                    Groundnut\n",
       "18                      Sesamum\n",
       "19            Rapeseed &Mustard\n",
       "20                      Linseed\n",
       "21                  Castor seed\n",
       "22                    Safflower\n",
       "23                   Niger seed\n",
       "24                    Sunflower\n",
       "25                     Soyabean\n",
       "26                Nine Oilseeds\n",
       "27                      Coconut\n",
       "28                  Cotton seed\n",
       "29                 Total Fibers\n",
       "30                 Cotton(lint)\n",
       "31                         Jute\n",
       "32                        Mesta\n",
       "33                 Jute & Mesta\n",
       "34                    Sannhamp \n",
       "35                         Tea \n",
       "36                      Coffee \n",
       "37                      Rubber \n",
       "38                 Total Spices\n",
       "39                 Black pepper\n",
       "40                 Dry chilies \n",
       "41                  Dry ginger \n",
       "42                    Turmeric \n",
       "43                   Arecanut  \n",
       "44                    Cardamom \n",
       "45                    Coriander\n",
       "46                     Garlic  \n",
       "47    Total Fruits & Vegetables\n",
       "48                       Potato\n",
       "49                      Tapioca\n",
       "50               Sweet potato  \n",
       "51                        Onion\n",
       "52                     Banana  \n",
       "53                    Sugarcane\n",
       "54                      Tobacco\n",
       "Name: Crop, dtype: object"
      ]
     },
     "execution_count": 880,
     "metadata": {},
     "output_type": "execute_result"
    }
   ],
   "source": [
    "df2['Crop']"
   ]
  },
  {
   "cell_type": "code",
   "execution_count": 881,
   "id": "a6ea83e0",
   "metadata": {},
   "outputs": [
    {
     "data": {
      "text/plain": [
       "(55, 16)"
      ]
     },
     "execution_count": 881,
     "metadata": {},
     "output_type": "execute_result"
    }
   ],
   "source": [
    "df2.shape"
   ]
  },
  {
   "cell_type": "code",
   "execution_count": 882,
   "id": "ccfc698d",
   "metadata": {},
   "outputs": [
    {
     "data": {
      "text/html": [
       "<div>\n",
       "<style scoped>\n",
       "    .dataframe tbody tr th:only-of-type {\n",
       "        vertical-align: middle;\n",
       "    }\n",
       "\n",
       "    .dataframe tbody tr th {\n",
       "        vertical-align: top;\n",
       "    }\n",
       "\n",
       "    .dataframe thead th {\n",
       "        text-align: right;\n",
       "    }\n",
       "</style>\n",
       "<table border=\"1\" class=\"dataframe\">\n",
       "  <thead>\n",
       "    <tr style=\"text-align: right;\">\n",
       "      <th></th>\n",
       "      <th>Crop</th>\n",
       "      <th>Variety</th>\n",
       "      <th>Season/ duration in days</th>\n",
       "      <th>Recommended Zone</th>\n",
       "      <th>Unnamed: 4</th>\n",
       "    </tr>\n",
       "  </thead>\n",
       "  <tbody>\n",
       "    <tr>\n",
       "      <th>70</th>\n",
       "      <td>Jute</td>\n",
       "      <td>SUDHANGSU (JBO-1)</td>\n",
       "      <td>NaN</td>\n",
       "      <td>West Bengal, Assam, Bihar and Orissa.</td>\n",
       "      <td>NaN</td>\n",
       "    </tr>\n",
       "    <tr>\n",
       "      <th>24</th>\n",
       "      <td>Maize</td>\n",
       "      <td>PMH 4 (JH 31153)</td>\n",
       "      <td>NaN</td>\n",
       "      <td>Punjab, Haryana, Delhi and western Uttar Prade...</td>\n",
       "      <td>NaN</td>\n",
       "    </tr>\n",
       "    <tr>\n",
       "      <th>56</th>\n",
       "      <td>Urdbean</td>\n",
       "      <td>Mash 479 (KUG 479)</td>\n",
       "      <td>NaN</td>\n",
       "      <td>Punjab, Haryana, Western Uttar Pradesh and Pla...</td>\n",
       "      <td>NaN</td>\n",
       "    </tr>\n",
       "    <tr>\n",
       "      <th>1</th>\n",
       "      <td>Paddy</td>\n",
       "      <td>(CNI 383-5-11)</td>\n",
       "      <td>NaN</td>\n",
       "      <td>NaN</td>\n",
       "      <td>NaN</td>\n",
       "    </tr>\n",
       "    <tr>\n",
       "      <th>43</th>\n",
       "      <td>Groundnut</td>\n",
       "      <td>Kadiri Harithandhra (K 1319)</td>\n",
       "      <td>122</td>\n",
       "      <td>Karnataka and Maharashtra under timely sown ir...</td>\n",
       "      <td>NaN</td>\n",
       "    </tr>\n",
       "    <tr>\n",
       "      <th>59</th>\n",
       "      <td>Cluster Bean</td>\n",
       "      <td>HG 2-20</td>\n",
       "      <td>100</td>\n",
       "      <td>Uttar Pradesh, Haryana, Gujarat and Rajasthan ...</td>\n",
       "      <td>NaN</td>\n",
       "    </tr>\n",
       "    <tr>\n",
       "      <th>40</th>\n",
       "      <td>Linseed</td>\n",
       "      <td>Ruchi (LCK 5021)</td>\n",
       "      <td>134</td>\n",
       "      <td>Uttar Pradesh (except Bundelkhand), Bihar, Ass...</td>\n",
       "      <td>NaN</td>\n",
       "    </tr>\n",
       "    <tr>\n",
       "      <th>8</th>\n",
       "      <td>Wheat</td>\n",
       "      <td>MPO(JW)  1215 (MPO 1215)</td>\n",
       "      <td>120</td>\n",
       "      <td>Madhya Pradesh, Chhattisgarh, Gujarat and Raja...</td>\n",
       "      <td>NaN</td>\n",
       "    </tr>\n",
       "    <tr>\n",
       "      <th>18</th>\n",
       "      <td>Barley</td>\n",
       "      <td>DWRB 73</td>\n",
       "      <td>NaN</td>\n",
       "      <td>Punjab, Haryana, Western Uttar Pradesh, Delhi ...</td>\n",
       "      <td>NaN</td>\n",
       "    </tr>\n",
       "    <tr>\n",
       "      <th>34</th>\n",
       "      <td>Indian Mustard</td>\n",
       "      <td>DRMR 601 (NRCDR 601)</td>\n",
       "      <td>144</td>\n",
       "      <td>Rajasthan, Haryana, Punjab, Delhi and Jammu &amp; ...</td>\n",
       "      <td>NaN</td>\n",
       "    </tr>\n",
       "  </tbody>\n",
       "</table>\n",
       "</div>"
      ],
      "text/plain": [
       "              Crop                       Variety Season/ duration in days  \\\n",
       "70            Jute             SUDHANGSU (JBO-1)                      NaN   \n",
       "24           Maize              PMH 4 (JH 31153)                      NaN   \n",
       "56         Urdbean            Mash 479 (KUG 479)                      NaN   \n",
       "1            Paddy                (CNI 383-5-11)                      NaN   \n",
       "43       Groundnut  Kadiri Harithandhra (K 1319)                      122   \n",
       "59    Cluster Bean                       HG 2-20                      100   \n",
       "40         Linseed              Ruchi (LCK 5021)                      134   \n",
       "8            Wheat      MPO(JW)  1215 (MPO 1215)                      120   \n",
       "18          Barley                       DWRB 73                      NaN   \n",
       "34  Indian Mustard          DRMR 601 (NRCDR 601)                      144   \n",
       "\n",
       "                                     Recommended Zone  Unnamed: 4  \n",
       "70              West Bengal, Assam, Bihar and Orissa.         NaN  \n",
       "24  Punjab, Haryana, Delhi and western Uttar Prade...         NaN  \n",
       "56  Punjab, Haryana, Western Uttar Pradesh and Pla...         NaN  \n",
       "1                                                 NaN         NaN  \n",
       "43  Karnataka and Maharashtra under timely sown ir...         NaN  \n",
       "59  Uttar Pradesh, Haryana, Gujarat and Rajasthan ...         NaN  \n",
       "40  Uttar Pradesh (except Bundelkhand), Bihar, Ass...         NaN  \n",
       "8   Madhya Pradesh, Chhattisgarh, Gujarat and Raja...         NaN  \n",
       "18  Punjab, Haryana, Western Uttar Pradesh, Delhi ...         NaN  \n",
       "34  Rajasthan, Haryana, Punjab, Delhi and Jammu & ...         NaN  "
      ]
     },
     "execution_count": 882,
     "metadata": {},
     "output_type": "execute_result"
    }
   ],
   "source": [
    "df3.sample(10)"
   ]
  },
  {
   "cell_type": "code",
   "execution_count": 883,
   "id": "74e142f8",
   "metadata": {},
   "outputs": [
    {
     "data": {
      "text/html": [
       "<div>\n",
       "<style scoped>\n",
       "    .dataframe tbody tr th:only-of-type {\n",
       "        vertical-align: middle;\n",
       "    }\n",
       "\n",
       "    .dataframe tbody tr th {\n",
       "        vertical-align: top;\n",
       "    }\n",
       "\n",
       "    .dataframe thead th {\n",
       "        text-align: right;\n",
       "    }\n",
       "</style>\n",
       "<table border=\"1\" class=\"dataframe\">\n",
       "  <thead>\n",
       "    <tr style=\"text-align: right;\">\n",
       "      <th></th>\n",
       "      <th>Crop</th>\n",
       "      <th>2004-05</th>\n",
       "      <th>2005-06</th>\n",
       "      <th>2006-07</th>\n",
       "      <th>2007-08</th>\n",
       "      <th>2008-09</th>\n",
       "      <th>2009-10</th>\n",
       "      <th>2010-11</th>\n",
       "      <th>2011-12</th>\n",
       "    </tr>\n",
       "  </thead>\n",
       "  <tbody>\n",
       "    <tr>\n",
       "      <th>0</th>\n",
       "      <td>Rice</td>\n",
       "      <td>100.0</td>\n",
       "      <td>101.0</td>\n",
       "      <td>99.0</td>\n",
       "      <td>105.0</td>\n",
       "      <td>112.0</td>\n",
       "      <td>121.0</td>\n",
       "      <td>117.0</td>\n",
       "      <td>110.0</td>\n",
       "    </tr>\n",
       "    <tr>\n",
       "      <th>1</th>\n",
       "      <td>Wheat</td>\n",
       "      <td>100.0</td>\n",
       "      <td>101.0</td>\n",
       "      <td>112.0</td>\n",
       "      <td>115.0</td>\n",
       "      <td>117.0</td>\n",
       "      <td>127.0</td>\n",
       "      <td>120.0</td>\n",
       "      <td>108.0</td>\n",
       "    </tr>\n",
       "    <tr>\n",
       "      <th>2</th>\n",
       "      <td>Coarse Cereals</td>\n",
       "      <td>100.0</td>\n",
       "      <td>107.0</td>\n",
       "      <td>110.0</td>\n",
       "      <td>115.0</td>\n",
       "      <td>113.0</td>\n",
       "      <td>123.0</td>\n",
       "      <td>122.0</td>\n",
       "      <td>136.0</td>\n",
       "    </tr>\n",
       "    <tr>\n",
       "      <th>3</th>\n",
       "      <td>Pulses</td>\n",
       "      <td>100.0</td>\n",
       "      <td>108.0</td>\n",
       "      <td>134.0</td>\n",
       "      <td>124.0</td>\n",
       "      <td>124.0</td>\n",
       "      <td>146.0</td>\n",
       "      <td>137.0</td>\n",
       "      <td>129.0</td>\n",
       "    </tr>\n",
       "    <tr>\n",
       "      <th>4</th>\n",
       "      <td>Vegetables</td>\n",
       "      <td>100.0</td>\n",
       "      <td>109.0</td>\n",
       "      <td>103.0</td>\n",
       "      <td>118.0</td>\n",
       "      <td>113.0</td>\n",
       "      <td>124.0</td>\n",
       "      <td>128.0</td>\n",
       "      <td>115.0</td>\n",
       "    </tr>\n",
       "    <tr>\n",
       "      <th>5</th>\n",
       "      <td>Fruits</td>\n",
       "      <td>100.0</td>\n",
       "      <td>99.0</td>\n",
       "      <td>99.0</td>\n",
       "      <td>98.0</td>\n",
       "      <td>102.0</td>\n",
       "      <td>104.0</td>\n",
       "      <td>114.0</td>\n",
       "      <td>119.0</td>\n",
       "    </tr>\n",
       "    <tr>\n",
       "      <th>6</th>\n",
       "      <td>Milk</td>\n",
       "      <td>100.0</td>\n",
       "      <td>97.0</td>\n",
       "      <td>98.0</td>\n",
       "      <td>98.0</td>\n",
       "      <td>98.0</td>\n",
       "      <td>112.0</td>\n",
       "      <td>123.0</td>\n",
       "      <td>124.0</td>\n",
       "    </tr>\n",
       "    <tr>\n",
       "      <th>7</th>\n",
       "      <td>Eggs, Fish and Meat</td>\n",
       "      <td>100.0</td>\n",
       "      <td>102.0</td>\n",
       "      <td>101.0</td>\n",
       "      <td>100.0</td>\n",
       "      <td>99.0</td>\n",
       "      <td>116.0</td>\n",
       "      <td>133.0</td>\n",
       "      <td>137.0</td>\n",
       "    </tr>\n",
       "    <tr>\n",
       "      <th>8</th>\n",
       "      <td>Oilseeds</td>\n",
       "      <td>100.0</td>\n",
       "      <td>86.0</td>\n",
       "      <td>85.0</td>\n",
       "      <td>97.0</td>\n",
       "      <td>104.0</td>\n",
       "      <td>103.0</td>\n",
       "      <td>99.0</td>\n",
       "      <td>102.0</td>\n",
       "    </tr>\n",
       "    <tr>\n",
       "      <th>9</th>\n",
       "      <td>Sugarcane</td>\n",
       "      <td>100.0</td>\n",
       "      <td>96.0</td>\n",
       "      <td>91.0</td>\n",
       "      <td>87.0</td>\n",
       "      <td>80.0</td>\n",
       "      <td>81.0</td>\n",
       "      <td>109.0</td>\n",
       "      <td>107.0</td>\n",
       "    </tr>\n",
       "  </tbody>\n",
       "</table>\n",
       "</div>"
      ],
      "text/plain": [
       "                  Crop  2004-05  2005-06  2006-07  2007-08  2008-09  2009-10  \\\n",
       "0                 Rice    100.0    101.0     99.0    105.0    112.0    121.0   \n",
       "1                Wheat    100.0    101.0    112.0    115.0    117.0    127.0   \n",
       "2       Coarse Cereals    100.0    107.0    110.0    115.0    113.0    123.0   \n",
       "3               Pulses    100.0    108.0    134.0    124.0    124.0    146.0   \n",
       "4          Vegetables     100.0    109.0    103.0    118.0    113.0    124.0   \n",
       "5               Fruits    100.0     99.0     99.0     98.0    102.0    104.0   \n",
       "6                 Milk    100.0     97.0     98.0     98.0     98.0    112.0   \n",
       "7  Eggs, Fish and Meat    100.0    102.0    101.0    100.0     99.0    116.0   \n",
       "8             Oilseeds    100.0     86.0     85.0     97.0    104.0    103.0   \n",
       "9           Sugarcane     100.0     96.0     91.0     87.0     80.0     81.0   \n",
       "\n",
       "   2010-11  2011-12  \n",
       "0    117.0    110.0  \n",
       "1    120.0    108.0  \n",
       "2    122.0    136.0  \n",
       "3    137.0    129.0  \n",
       "4    128.0    115.0  \n",
       "5    114.0    119.0  \n",
       "6    123.0    124.0  \n",
       "7    133.0    137.0  \n",
       "8     99.0    102.0  \n",
       "9    109.0    107.0  "
      ]
     },
     "execution_count": 883,
     "metadata": {},
     "output_type": "execute_result"
    }
   ],
   "source": [
    "df4.head(10)"
   ]
  },
  {
   "cell_type": "code",
   "execution_count": 884,
   "id": "13a45131",
   "metadata": {},
   "outputs": [],
   "source": [
    "# Evaluating the presence of missing values within the dataframe."
   ]
  },
  {
   "cell_type": "code",
   "execution_count": 885,
   "id": "f8885eb9",
   "metadata": {},
   "outputs": [
    {
     "data": {
      "text/plain": [
       "Crop                                     0\n",
       "State                                    0\n",
       "Cost of Cultivation (`/Hectare) A2+FL    0\n",
       "Cost of Cultivation (`/Hectare) C2       0\n",
       "Cost of Production (`/Quintal) C2        0\n",
       "Yield (Quintal/ Hectare)                 0\n",
       "dtype: int64"
      ]
     },
     "execution_count": 885,
     "metadata": {},
     "output_type": "execute_result"
    }
   ],
   "source": [
    "df1.isna().sum()"
   ]
  },
  {
   "cell_type": "code",
   "execution_count": 886,
   "id": "abc4568f",
   "metadata": {},
   "outputs": [
    {
     "data": {
      "text/plain": [
       "Crop                  0\n",
       "Production 2006-07    0\n",
       "Production 2007-08    0\n",
       "Production 2008-09    0\n",
       "Production 2009-10    0\n",
       "Production 2010-11    0\n",
       "Area 2006-07          0\n",
       "Area 2007-08          0\n",
       "Area 2008-09          0\n",
       "Area 2009-10          0\n",
       "Area 2010-11          0\n",
       "Yield 2006-07         0\n",
       "Yield 2007-08         0\n",
       "Yield 2008-09         0\n",
       "Yield 2009-10         0\n",
       "Yield 2010-11         0\n",
       "dtype: int64"
      ]
     },
     "execution_count": 886,
     "metadata": {},
     "output_type": "execute_result"
    }
   ],
   "source": [
    "df2.isna().sum()"
   ]
  },
  {
   "cell_type": "code",
   "execution_count": 887,
   "id": "2c5cf8f2",
   "metadata": {},
   "outputs": [
    {
     "data": {
      "text/plain": [
       "Crop                         0\n",
       "Variety                      0\n",
       "Season/ duration in days    28\n",
       "Recommended Zone             1\n",
       "Unnamed: 4                  78\n",
       "dtype: int64"
      ]
     },
     "execution_count": 887,
     "metadata": {},
     "output_type": "execute_result"
    }
   ],
   "source": [
    "df3.isna().sum()"
   ]
  },
  {
   "cell_type": "code",
   "execution_count": 888,
   "id": "5473fb85",
   "metadata": {},
   "outputs": [
    {
     "data": {
      "text/plain": [
       "Crop       1\n",
       "2004-05    1\n",
       "2005-06    1\n",
       "2006-07    1\n",
       "2007-08    1\n",
       "2008-09    1\n",
       "2009-10    1\n",
       "2010-11    1\n",
       "2011-12    1\n",
       "dtype: int64"
      ]
     },
     "execution_count": 888,
     "metadata": {},
     "output_type": "execute_result"
    }
   ],
   "source": [
    "df4.isna().sum()"
   ]
  },
  {
   "cell_type": "code",
   "execution_count": 889,
   "id": "f3ddce77",
   "metadata": {},
   "outputs": [],
   "source": [
    "# Imputing Missing Values for Accurate Analysis of Agriculture Crop Production in India"
   ]
  },
  {
   "cell_type": "code",
   "execution_count": 890,
   "id": "b02f9ced",
   "metadata": {},
   "outputs": [],
   "source": [
    "mean=df4['2004-05'].mean(skipna= True)\n",
    "df4['2004-05']=df4['2004-05'].fillna(mean)\n",
    "\n",
    "mean= df4['2005-06'].mean(skipna=True)\n",
    "df4['2005-06']=df4['2005-06'].fillna(mean)\n",
    "\n",
    "mean= df4['2006-07'].mean(skipna= True)\n",
    "df4['2006-07']=df4['2006-07'].fillna(mean)\n",
    "\n",
    "mean= df4['2007-08'].mean(skipna=True)\n",
    "df4['2007-08']=df4['2007-08'].fillna(mean)\n",
    "\n",
    "mean= df4['2008-09'].mean(skipna=True)\n",
    "df4['2008-09']=df4['2008-09'].fillna(mean)\n",
    "\n",
    "mean=df4['2009-10'].mean(skipna=True)\n",
    "df4['2009-10']=df4['2009-10'].fillna(mean)\n",
    "\n",
    "mean=df4['2010-11'].mean(skipna=True)\n",
    "df4['2010-11']=df4['2010-11'].fillna(mean)\n",
    "\n",
    "mean=df4['2011-12'].mean(skipna=True)\n",
    "df4['2011-12']=df4['2011-12'].fillna(mean)"
   ]
  },
  {
   "cell_type": "code",
   "execution_count": 891,
   "id": "00f55bc8",
   "metadata": {},
   "outputs": [],
   "source": [
    "# Removing Rows with Missing Crop Information in Agriculture Crop Production Dataset for India"
   ]
  },
  {
   "cell_type": "code",
   "execution_count": 892,
   "id": "34447790",
   "metadata": {},
   "outputs": [
    {
     "data": {
      "text/plain": [
       "Crop       0\n",
       "2004-05    0\n",
       "2005-06    0\n",
       "2006-07    0\n",
       "2007-08    0\n",
       "2008-09    0\n",
       "2009-10    0\n",
       "2010-11    0\n",
       "2011-12    0\n",
       "dtype: int64"
      ]
     },
     "execution_count": 892,
     "metadata": {},
     "output_type": "execute_result"
    }
   ],
   "source": [
    "df4.dropna(subset=['Crop'],axis=0,inplace =True)\n",
    "df4.isna().sum()"
   ]
  },
  {
   "cell_type": "code",
   "execution_count": 893,
   "id": "4907129a",
   "metadata": {},
   "outputs": [],
   "source": [
    "# Unique Crop Types in Agriculture Dataset for India"
   ]
  },
  {
   "cell_type": "code",
   "execution_count": 894,
   "id": "ff3c1aac",
   "metadata": {},
   "outputs": [
    {
     "data": {
      "text/plain": [
       "array(['Paddy', 'Wheat', 'Barley', 'Maize', 'Pearl Millet',\n",
       "       'Finger Millet', 'Indian Mustard', 'Yellow Sarson', 'Linseed',\n",
       "       'Groundnut', 'Sesame', 'Chickpea ', 'Bengal Gram', 'Lentil',\n",
       "       'Fieldpea', 'French Bean', 'Mungbean', 'Urdbean', 'Cluster Bean',\n",
       "       'Horse Gram', 'Sugarcane', 'Napier Bajra Hybrid', 'Oat',\n",
       "       'Tall Fescue Grass', 'Cowpea (Fodder)', 'Jute', 'Mesta', 'Cotton',\n",
       "       'Desi Cotton'], dtype=object)"
      ]
     },
     "execution_count": 894,
     "metadata": {},
     "output_type": "execute_result"
    }
   ],
   "source": [
    "df3['Crop'].unique()"
   ]
  },
  {
   "cell_type": "code",
   "execution_count": 895,
   "id": "83de28d4",
   "metadata": {},
   "outputs": [
    {
     "data": {
      "text/plain": [
       "ARHAR                   5\n",
       "COTTON                  5\n",
       "GRAM                    5\n",
       "GROUNDNUT               5\n",
       "MAIZE                   5\n",
       "MOONG                   5\n",
       "PADDY                   5\n",
       "RAPESEED AND MUSTARD    5\n",
       "SUGARCANE               5\n",
       "WHEAT                   4\n",
       "Name: Crop, dtype: int64"
      ]
     },
     "execution_count": 895,
     "metadata": {},
     "output_type": "execute_result"
    }
   ],
   "source": [
    "count=df1['Crop'].value_counts()\n",
    "count"
   ]
  },
  {
   "cell_type": "markdown",
   "id": "d9821e71",
   "metadata": {},
   "source": [
    "## ◾ Data Visualization"
   ]
  },
  {
   "cell_type": "code",
   "execution_count": 896,
   "id": "fc6dd6a8",
   "metadata": {},
   "outputs": [],
   "source": [
    "# Generating a pie chart to visualize the distribution of crop production in India for the year 2011-12. \n",
    "# The chart is created using the Matplotlib and Seaborn libraries in Python."
   ]
  },
  {
   "cell_type": "code",
   "execution_count": 897,
   "id": "ee34a5ce",
   "metadata": {},
   "outputs": [
    {
     "data": {
      "image/png": "[encoded data removed]",
      "text/plain": [
       "<Figure size 600x600 with 1 Axes>"
      ]
     },
     "metadata": {},
     "output_type": "display_data"
    }
   ],
   "source": [
    "plt.figure(figsize=(6,6))\n",
    "sns.set_style('whitegrid')\n",
    "color=sns.color_palette('pastel')\n",
    "plt.pie(df4['2011-12'], labels=df4['Crop'], autopct='%0.2f%%', shadow= True, colors=color)\n",
    "plt.title('Production of crops in 2011-12')\n",
    "plt.show()\n"
   ]
  },
  {
   "cell_type": "code",
   "execution_count": 898,
   "id": "57960097",
   "metadata": {},
   "outputs": [],
   "source": [
    "# Using of a count plot to assess the distribution of crop varieties in Indian agriculture, providing valuable insights \n",
    "# into the prevalence and frequency of different crops grown in the country. This information is essential for understanding\n",
    "# the crop diversity and agricultural practices in India."
   ]
  },
  {
   "cell_type": "code",
   "execution_count": 899,
   "id": "bdc6ca17",
   "metadata": {},
   "outputs": [
    {
     "data": {
      "image/png": "[encoded data removed]",
      "text/plain": [
       "<Figure size 600x600 with 1 Axes>"
      ]
     },
     "metadata": {},
     "output_type": "display_data"
    }
   ],
   "source": [
    "plt.figure(figsize=(6,6))\n",
    "sns.countplot(x=df3['Crop'],data=df3)\n",
    "plt.xticks(rotation='vertical')\n",
    "plt.xlabel('Crop')\n",
    "plt.ylabel('count')\n",
    "plt.title('Crop Varieties')\n",
    "plt.show()"
   ]
  },
  {
   "cell_type": "code",
   "execution_count": 900,
   "id": "d65183e7",
   "metadata": {},
   "outputs": [],
   "source": [
    "#  Using a bar plot for conducting a comparative analysis of crop yield in India for the specific year, providing valuable \n",
    "# insights into the yield variations across different crop varieties. The plot's large size and carefully adjusted font\n",
    "# sizes enhance readability and facilitate better understanding of the data."
   ]
  },
  {
   "cell_type": "code",
   "execution_count": 901,
   "id": "84a2467c",
   "metadata": {},
   "outputs": [
    {
     "data": {
      "image/png": "[encoded data removed]",
      "text/plain": [
       "<Figure size 4000x1000 with 1 Axes>"
      ]
     },
     "metadata": {},
     "output_type": "display_data"
    }
   ],
   "source": [
    "plt.figure(figsize=(40,10))\n",
    "sns.barplot(x=df2['Crop'],y=df2['Yield 2010-11'],data=df2)\n",
    "plt.xticks(rotation='vertical',fontsize=25)\n",
    "plt.yticks(fontsize=25)\n",
    "plt.xlabel('Crop',fontsize=35)\n",
    "plt.ylabel('Yield in 2010-11',fontsize=20)\n",
    "plt.title('Yield in 2010-11',fontsize=50)\n",
    "plt.show()"
   ]
  },
  {
   "cell_type": "code",
   "execution_count": 902,
   "id": "673ba174",
   "metadata": {},
   "outputs": [],
   "source": [
    "# Grouping the data in the dataframe df1 by the 'Crop' column and then calculates the mean of each group.\n",
    "# This analysis allows for a crop-wise examination of various agricultural parameters in India."
   ]
  },
  {
   "cell_type": "code",
   "execution_count": 903,
   "id": "77b80fed",
   "metadata": {},
   "outputs": [
    {
     "data": {
      "text/html": [
       "<div>\n",
       "<style scoped>\n",
       "    .dataframe tbody tr th:only-of-type {\n",
       "        vertical-align: middle;\n",
       "    }\n",
       "\n",
       "    .dataframe tbody tr th {\n",
       "        vertical-align: top;\n",
       "    }\n",
       "\n",
       "    .dataframe thead th {\n",
       "        text-align: right;\n",
       "    }\n",
       "</style>\n",
       "<table border=\"1\" class=\"dataframe\">\n",
       "  <thead>\n",
       "    <tr style=\"text-align: right;\">\n",
       "      <th></th>\n",
       "      <th>Cost of Cultivation (`/Hectare) A2+FL</th>\n",
       "      <th>Cost of Cultivation (`/Hectare) C2</th>\n",
       "      <th>Cost of Production (`/Quintal) C2</th>\n",
       "      <th>Yield (Quintal/ Hectare)</th>\n",
       "    </tr>\n",
       "    <tr>\n",
       "      <th>Crop</th>\n",
       "      <th></th>\n",
       "      <th></th>\n",
       "      <th></th>\n",
       "      <th></th>\n",
       "    </tr>\n",
       "  </thead>\n",
       "  <tbody>\n",
       "    <tr>\n",
       "      <th>ARHAR</th>\n",
       "      <td>13607.646</td>\n",
       "      <td>21719.8460</td>\n",
       "      <td>2491.7300</td>\n",
       "      <td>8.406</td>\n",
       "    </tr>\n",
       "    <tr>\n",
       "      <th>COTTON</th>\n",
       "      <td>28286.874</td>\n",
       "      <td>42958.1980</td>\n",
       "      <td>2271.9660</td>\n",
       "      <td>18.772</td>\n",
       "    </tr>\n",
       "    <tr>\n",
       "      <th>GRAM</th>\n",
       "      <td>11719.510</td>\n",
       "      <td>19308.7740</td>\n",
       "      <td>1792.6000</td>\n",
       "      <td>10.558</td>\n",
       "    </tr>\n",
       "    <tr>\n",
       "      <th>GROUNDNUT</th>\n",
       "      <td>21282.782</td>\n",
       "      <td>28188.0760</td>\n",
       "      <td>2704.6380</td>\n",
       "      <td>10.288</td>\n",
       "    </tr>\n",
       "    <tr>\n",
       "      <th>MAIZE</th>\n",
       "      <td>16610.150</td>\n",
       "      <td>23837.2980</td>\n",
       "      <td>774.5660</td>\n",
       "      <td>30.798</td>\n",
       "    </tr>\n",
       "    <tr>\n",
       "      <th>MOONG</th>\n",
       "      <td>7118.670</td>\n",
       "      <td>10776.3960</td>\n",
       "      <td>2990.1000</td>\n",
       "      <td>4.196</td>\n",
       "    </tr>\n",
       "    <tr>\n",
       "      <th>PADDY</th>\n",
       "      <td>22810.140</td>\n",
       "      <td>35768.2220</td>\n",
       "      <td>727.7340</td>\n",
       "      <td>46.296</td>\n",
       "    </tr>\n",
       "    <tr>\n",
       "      <th>RAPESEED AND MUSTARD</th>\n",
       "      <td>12260.490</td>\n",
       "      <td>21223.4320</td>\n",
       "      <td>1415.5940</td>\n",
       "      <td>14.320</td>\n",
       "    </tr>\n",
       "    <tr>\n",
       "      <th>SUGARCANE</th>\n",
       "      <td>52164.716</td>\n",
       "      <td>79655.0260</td>\n",
       "      <td>98.6480</td>\n",
       "      <td>790.496</td>\n",
       "    </tr>\n",
       "    <tr>\n",
       "      <th>WHEAT</th>\n",
       "      <td>17127.110</td>\n",
       "      <td>29923.0825</td>\n",
       "      <td>767.1175</td>\n",
       "      <td>33.900</td>\n",
       "    </tr>\n",
       "  </tbody>\n",
       "</table>\n",
       "</div>"
      ],
      "text/plain": [
       "                      Cost of Cultivation (`/Hectare) A2+FL  \\\n",
       "Crop                                                          \n",
       "ARHAR                                             13607.646   \n",
       "COTTON                                            28286.874   \n",
       "GRAM                                              11719.510   \n",
       "GROUNDNUT                                         21282.782   \n",
       "MAIZE                                             16610.150   \n",
       "MOONG                                              7118.670   \n",
       "PADDY                                             22810.140   \n",
       "RAPESEED AND MUSTARD                              12260.490   \n",
       "SUGARCANE                                         52164.716   \n",
       "WHEAT                                             17127.110   \n",
       "\n",
       "                      Cost of Cultivation (`/Hectare) C2  \\\n",
       "Crop                                                       \n",
       "ARHAR                                         21719.8460   \n",
       "COTTON                                        42958.1980   \n",
       "GRAM                                          19308.7740   \n",
       "GROUNDNUT                                     28188.0760   \n",
       "MAIZE                                         23837.2980   \n",
       "MOONG                                         10776.3960   \n",
       "PADDY                                         35768.2220   \n",
       "RAPESEED AND MUSTARD                          21223.4320   \n",
       "SUGARCANE                                     79655.0260   \n",
       "WHEAT                                         29923.0825   \n",
       "\n",
       "                      Cost of Production (`/Quintal) C2  \\\n",
       "Crop                                                      \n",
       "ARHAR                                         2491.7300   \n",
       "COTTON                                        2271.9660   \n",
       "GRAM                                          1792.6000   \n",
       "GROUNDNUT                                     2704.6380   \n",
       "MAIZE                                          774.5660   \n",
       "MOONG                                         2990.1000   \n",
       "PADDY                                          727.7340   \n",
       "RAPESEED AND MUSTARD                          1415.5940   \n",
       "SUGARCANE                                       98.6480   \n",
       "WHEAT                                          767.1175   \n",
       "\n",
       "                      Yield (Quintal/ Hectare)   \n",
       "Crop                                             \n",
       "ARHAR                                     8.406  \n",
       "COTTON                                   18.772  \n",
       "GRAM                                     10.558  \n",
       "GROUNDNUT                                10.288  \n",
       "MAIZE                                    30.798  \n",
       "MOONG                                     4.196  \n",
       "PADDY                                    46.296  \n",
       "RAPESEED AND MUSTARD                     14.320  \n",
       "SUGARCANE                               790.496  \n",
       "WHEAT                                    33.900  "
      ]
     },
     "execution_count": 903,
     "metadata": {},
     "output_type": "execute_result"
    }
   ],
   "source": [
    "s=df1.groupby('Crop')\n",
    "s.mean()"
   ]
  },
  {
   "cell_type": "code",
   "execution_count": 904,
   "id": "93c15045",
   "metadata": {},
   "outputs": [],
   "source": [
    "# crop-wise comparative analysis of mean agricultural parameters in India using a bar plot."
   ]
  },
  {
   "cell_type": "code",
   "execution_count": 905,
   "id": "c4b8425f",
   "metadata": {},
   "outputs": [
    {
     "data": {
      "text/plain": [
       "<Axes: xlabel='Crop'>"
      ]
     },
     "execution_count": 905,
     "metadata": {},
     "output_type": "execute_result"
    },
    {
     "data": {
      "image/png": "[encoded data removed]",
      "text/plain": [
       "<Figure size 1200x600 with 1 Axes>"
      ]
     },
     "metadata": {},
     "output_type": "display_data"
    }
   ],
   "source": [
    "cols=df1.columns\n",
    "color=sns.color_palette('pastel')\n",
    "df1.groupby('Crop')[cols].mean().plot(kind='bar', figsize=(12,6),color=color)"
   ]
  },
  {
   "cell_type": "code",
   "execution_count": 906,
   "id": "8b907eed",
   "metadata": {},
   "outputs": [],
   "source": [
    "# State-wise Yield Analysis of Agricultural Crops in India"
   ]
  },
  {
   "cell_type": "code",
   "execution_count": 907,
   "id": "296cd434",
   "metadata": {},
   "outputs": [
    {
     "data": {
      "application/vnd.plotly.v1+json": {
       "config": {
        "plotlyServerURL": "https://plot.ly"
       },
       "data": [
        {
         "domain": {
          "x": [
           0,
           1
          ],
          "y": [
           0,
           1
          ]
         },
         "hovertemplate": "label=%{label}<br>value=%{value}<extra></extra>",
         "labels": [
          [
           "Andhra Pradesh",
           [
            6.42,
            17.83,
            16.69,
            11.97,
            42.68,
            5.9,
            56,
            757.92
           ]
          ],
          [
           "Bihar",
           [
            42.95
           ]
          ],
          [
           "Gujarat",
           [
            9.59,
            19.05,
            13.45,
            11.61
           ]
          ],
          [
           "Haryana",
           [
            19.9,
            19.94
           ]
          ],
          [
           "Karnataka",
           [
            7.47,
            4.71,
            31.1,
            1.32,
            986.21
           ]
          ],
          [
           "Madhya Pradesh",
           [
            10.29,
            12.94,
            23.59
           ]
          ],
          [
           "Maharashtra",
           [
            8.72,
            12.69,
            8.05,
            9.33,
            6.7,
            744.01
           ]
          ],
          [
           "Orissa",
           [
            3.01,
            32.42
           ]
          ],
          [
           "Punjab",
           [
            24.39,
            67.41,
            39.83
           ]
          ],
          [
           "Rajasthan",
           [
            6.83,
            23.56,
            4.05,
            13.54,
            37.19
           ]
          ],
          [
           "Tamil Nadu",
           [
            11.98,
            1015.45
           ]
          ],
          [
           "Uttar Pradesh",
           [
            9.83,
            10.93,
            13.7,
            36.61,
            13.57,
            448.89,
            34.99
           ]
          ],
          [
           "West Bengal",
           [
            39.04
           ]
          ]
         ],
         "legendgroup": "",
         "name": "",
         "showlegend": true,
         "type": "pie",
         "values": [
          915.41,
          42.95,
          53.7,
          39.84,
          1030.81,
          46.82,
          789.5,
          35.43,
          131.63,
          85.16999999999999,
          1027.43,
          568.52,
          39.04
         ]
        }
       ],
       "layout": {
        "legend": {
         "tracegroupgap": 0
        },
        "template": {
         "data": {
          "bar": [
           {
            "error_x": {
             "color": "#2a3f5f"
            },
            "error_y": {
             "color": "#2a3f5f"
            },
            "marker": {
             "line": {
              "color": "#E5ECF6",
              "width": 0.5
             },
             "pattern": {
              "fillmode": "overlay",
              "size": 10,
              "solidity": 0.2
             }
            },
            "type": "bar"
           }
          ],
          "barpolar": [
           {
            "marker": {
             "line": {
              "color": "#E5ECF6",
              "width": 0.5
             },
             "pattern": {
              "fillmode": "overlay",
              "size": 10,
              "solidity": 0.2
             }
            },
            "type": "barpolar"
           }
          ],
          "carpet": [
           {
            "aaxis": {
             "endlinecolor": "#2a3f5f",
             "gridcolor": "white",
             "linecolor": "white",
             "minorgridcolor": "white",
             "startlinecolor": "#2a3f5f"
            },
            "baxis": {
             "endlinecolor": "#2a3f5f",
             "gridcolor": "white",
             "linecolor": "white",
             "minorgridcolor": "white",
             "startlinecolor": "#2a3f5f"
            },
            "type": "carpet"
           }
          ],
          "choropleth": [
           {
            "colorbar": {
             "outlinewidth": 0,
             "ticks": ""
            },
            "type": "choropleth"
           }
          ],
          "contour": [
           {
            "colorbar": {
             "outlinewidth": 0,
             "ticks": ""
            },
            "colorscale": [
             [
              0,
              "#0d0887"
             ],
             [
              0.1111111111111111,
              "#46039f"
             ],
             [
              0.2222222222222222,
              "#7201a8"
             ],
             [
              0.3333333333333333,
              "#9c179e"
             ],
             [
              0.4444444444444444,
              "#bd3786"
             ],
             [
              0.5555555555555556,
              "#d8576b"
             ],
             [
              0.6666666666666666,
              "#ed7953"
             ],
             [
              0.7777777777777778,
              "#fb9f3a"
             ],
             [
              0.8888888888888888,
              "#fdca26"
             ],
             [
              1,
              "#f0f921"
             ]
            ],
            "type": "contour"
           }
          ],
          "contourcarpet": [
           {
            "colorbar": {
             "outlinewidth": 0,
             "ticks": ""
            },
            "type": "contourcarpet"
           }
          ],
          "heatmap": [
           {
            "colorbar": {
             "outlinewidth": 0,
             "ticks": ""
            },
            "colorscale": [
             [
              0,
              "#0d0887"
             ],
             [
              0.1111111111111111,
              "#46039f"
             ],
             [
              0.2222222222222222,
              "#7201a8"
             ],
             [
              0.3333333333333333,
              "#9c179e"
             ],
             [
              0.4444444444444444,
              "#bd3786"
             ],
             [
              0.5555555555555556,
              "#d8576b"
             ],
             [
              0.6666666666666666,
              "#ed7953"
             ],
             [
              0.7777777777777778,
              "#fb9f3a"
             ],
             [
              0.8888888888888888,
              "#fdca26"
             ],
             [
              1,
              "#f0f921"
             ]
            ],
            "type": "heatmap"
           }
          ],
          "heatmapgl": [
           {
            "colorbar": {
             "outlinewidth": 0,
             "ticks": ""
            },
            "colorscale": [
             [
              0,
              "#0d0887"
             ],
             [
              0.1111111111111111,
              "#46039f"
             ],
             [
              0.2222222222222222,
              "#7201a8"
             ],
             [
              0.3333333333333333,
              "#9c179e"
             ],
             [
              0.4444444444444444,
              "#bd3786"
             ],
             [
              0.5555555555555556,
              "#d8576b"
             ],
             [
              0.6666666666666666,
              "#ed7953"
             ],
             [
              0.7777777777777778,
              "#fb9f3a"
             ],
             [
              0.8888888888888888,
              "#fdca26"
             ],
             [
              1,
              "#f0f921"
             ]
            ],
            "type": "heatmapgl"
           }
          ],
          "histogram": [
           {
            "marker": {
             "pattern": {
              "fillmode": "overlay",
              "size": 10,
              "solidity": 0.2
             }
            },
            "type": "histogram"
           }
          ],
          "histogram2d": [
           {
            "colorbar": {
             "outlinewidth": 0,
             "ticks": ""
            },
            "colorscale": [
             [
              0,
              "#0d0887"
             ],
             [
              0.1111111111111111,
              "#46039f"
             ],
             [
              0.2222222222222222,
              "#7201a8"
             ],
             [
              0.3333333333333333,
              "#9c179e"
             ],
             [
              0.4444444444444444,
              "#bd3786"
             ],
             [
              0.5555555555555556,
              "#d8576b"
             ],
             [
              0.6666666666666666,
              "#ed7953"
             ],
             [
              0.7777777777777778,
              "#fb9f3a"
             ],
             [
              0.8888888888888888,
              "#fdca26"
             ],
             [
              1,
              "#f0f921"
             ]
            ],
            "type": "histogram2d"
           }
          ],
          "histogram2dcontour": [
           {
            "colorbar": {
             "outlinewidth": 0,
             "ticks": ""
            },
            "colorscale": [
             [
              0,
              "#0d0887"
             ],
             [
              0.1111111111111111,
              "#46039f"
             ],
             [
              0.2222222222222222,
              "#7201a8"
             ],
             [
              0.3333333333333333,
              "#9c179e"
             ],
             [
              0.4444444444444444,
              "#bd3786"
             ],
             [
              0.5555555555555556,
              "#d8576b"
             ],
             [
              0.6666666666666666,
              "#ed7953"
             ],
             [
              0.7777777777777778,
              "#fb9f3a"
             ],
             [
              0.8888888888888888,
              "#fdca26"
             ],
             [
              1,
              "#f0f921"
             ]
            ],
            "type": "histogram2dcontour"
           }
          ],
          "mesh3d": [
           {
            "colorbar": {
             "outlinewidth": 0,
             "ticks": ""
            },
            "type": "mesh3d"
           }
          ],
          "parcoords": [
           {
            "line": {
             "colorbar": {
              "outlinewidth": 0,
              "ticks": ""
             }
            },
            "type": "parcoords"
           }
          ],
          "pie": [
           {
            "automargin": true,
            "type": "pie"
           }
          ],
          "scatter": [
           {
            "fillpattern": {
             "fillmode": "overlay",
             "size": 10,
             "solidity": 0.2
            },
            "type": "scatter"
           }
          ],
          "scatter3d": [
           {
            "line": {
             "colorbar": {
              "outlinewidth": 0,
              "ticks": ""
             }
            },
            "marker": {
             "colorbar": {
              "outlinewidth": 0,
              "ticks": ""
             }
            },
            "type": "scatter3d"
           }
          ],
          "scattercarpet": [
           {
            "marker": {
             "colorbar": {
              "outlinewidth": 0,
              "ticks": ""
             }
            },
            "type": "scattercarpet"
           }
          ],
          "scattergeo": [
           {
            "marker": {
             "colorbar": {
              "outlinewidth": 0,
              "ticks": ""
             }
            },
            "type": "scattergeo"
           }
          ],
          "scattergl": [
           {
            "marker": {
             "colorbar": {
              "outlinewidth": 0,
              "ticks": ""
             }
            },
            "type": "scattergl"
           }
          ],
          "scattermapbox": [
           {
            "marker": {
             "colorbar": {
              "outlinewidth": 0,
              "ticks": ""
             }
            },
            "type": "scattermapbox"
           }
          ],
          "scatterpolar": [
           {
            "marker": {
             "colorbar": {
              "outlinewidth": 0,
              "ticks": ""
             }
            },
            "type": "scatterpolar"
           }
          ],
          "scatterpolargl": [
           {
            "marker": {
             "colorbar": {
              "outlinewidth": 0,
              "ticks": ""
             }
            },
            "type": "scatterpolargl"
           }
          ],
          "scatterternary": [
           {
            "marker": {
             "colorbar": {
              "outlinewidth": 0,
              "ticks": ""
             }
            },
            "type": "scatterternary"
           }
          ],
          "surface": [
           {
            "colorbar": {
             "outlinewidth": 0,
             "ticks": ""
            },
            "colorscale": [
             [
              0,
              "#0d0887"
             ],
             [
              0.1111111111111111,
              "#46039f"
             ],
             [
              0.2222222222222222,
              "#7201a8"
             ],
             [
              0.3333333333333333,
              "#9c179e"
             ],
             [
              0.4444444444444444,
              "#bd3786"
             ],
             [
              0.5555555555555556,
              "#d8576b"
             ],
             [
              0.6666666666666666,
              "#ed7953"
             ],
             [
              0.7777777777777778,
              "#fb9f3a"
             ],
             [
              0.8888888888888888,
              "#fdca26"
             ],
             [
              1,
              "#f0f921"
             ]
            ],
            "type": "surface"
           }
          ],
          "table": [
           {
            "cells": {
             "fill": {
              "color": "#EBF0F8"
             },
             "line": {
              "color": "white"
             }
            },
            "header": {
             "fill": {
              "color": "#C8D4E3"
             },
             "line": {
              "color": "white"
             }
            },
            "type": "table"
           }
          ]
         },
         "layout": {
          "annotationdefaults": {
           "arrowcolor": "#2a3f5f",
           "arrowhead": 0,
           "arrowwidth": 1
          },
          "autotypenumbers": "strict",
          "coloraxis": {
           "colorbar": {
            "outlinewidth": 0,
            "ticks": ""
           }
          },
          "colorscale": {
           "diverging": [
            [
             0,
             "#8e0152"
            ],
            [
             0.1,
             "#c51b7d"
            ],
            [
             0.2,
             "#de77ae"
            ],
            [
             0.3,
             "#f1b6da"
            ],
            [
             0.4,
             "#fde0ef"
            ],
            [
             0.5,
             "#f7f7f7"
            ],
            [
             0.6,
             "#e6f5d0"
            ],
            [
             0.7,
             "#b8e186"
            ],
            [
             0.8,
             "#7fbc41"
            ],
            [
             0.9,
             "#4d9221"
            ],
            [
             1,
             "#276419"
            ]
           ],
           "sequential": [
            [
             0,
             "#0d0887"
            ],
            [
             0.1111111111111111,
             "#46039f"
            ],
            [
             0.2222222222222222,
             "#7201a8"
            ],
            [
             0.3333333333333333,
             "#9c179e"
            ],
            [
             0.4444444444444444,
             "#bd3786"
            ],
            [
             0.5555555555555556,
             "#d8576b"
            ],
            [
             0.6666666666666666,
             "#ed7953"
            ],
            [
             0.7777777777777778,
             "#fb9f3a"
            ],
            [
             0.8888888888888888,
             "#fdca26"
            ],
            [
             1,
             "#f0f921"
            ]
           ],
           "sequentialminus": [
            [
             0,
             "#0d0887"
            ],
            [
             0.1111111111111111,
             "#46039f"
            ],
            [
             0.2222222222222222,
             "#7201a8"
            ],
            [
             0.3333333333333333,
             "#9c179e"
            ],
            [
             0.4444444444444444,
             "#bd3786"
            ],
            [
             0.5555555555555556,
             "#d8576b"
            ],
            [
             0.6666666666666666,
             "#ed7953"
            ],
            [
             0.7777777777777778,
             "#fb9f3a"
            ],
            [
             0.8888888888888888,
             "#fdca26"
            ],
            [
             1,
             "#f0f921"
            ]
           ]
          },
          "colorway": [
           "#636efa",
           "#EF553B",
           "#00cc96",
           "#ab63fa",
           "#FFA15A",
           "#19d3f3",
           "#FF6692",
           "#B6E880",
           "#FF97FF",
           "#FECB52"
          ],
          "font": {
           "color": "#2a3f5f"
          },
          "geo": {
           "bgcolor": "white",
           "lakecolor": "white",
           "landcolor": "#E5ECF6",
           "showlakes": true,
           "showland": true,
           "subunitcolor": "white"
          },
          "hoverlabel": {
           "align": "left"
          },
          "hovermode": "closest",
          "mapbox": {
           "style": "light"
          },
          "paper_bgcolor": "white",
          "plot_bgcolor": "#E5ECF6",
          "polar": {
           "angularaxis": {
            "gridcolor": "white",
            "linecolor": "white",
            "ticks": ""
           },
           "bgcolor": "#E5ECF6",
           "radialaxis": {
            "gridcolor": "white",
            "linecolor": "white",
            "ticks": ""
           }
          },
          "scene": {
           "xaxis": {
            "backgroundcolor": "#E5ECF6",
            "gridcolor": "white",
            "gridwidth": 2,
            "linecolor": "white",
            "showbackground": true,
            "ticks": "",
            "zerolinecolor": "white"
           },
           "yaxis": {
            "backgroundcolor": "#E5ECF6",
            "gridcolor": "white",
            "gridwidth": 2,
            "linecolor": "white",
            "showbackground": true,
            "ticks": "",
            "zerolinecolor": "white"
           },
           "zaxis": {
            "backgroundcolor": "#E5ECF6",
            "gridcolor": "white",
            "gridwidth": 2,
            "linecolor": "white",
            "showbackground": true,
            "ticks": "",
            "zerolinecolor": "white"
           }
          },
          "shapedefaults": {
           "line": {
            "color": "#2a3f5f"
           }
          },
          "ternary": {
           "aaxis": {
            "gridcolor": "white",
            "linecolor": "white",
            "ticks": ""
           },
           "baxis": {
            "gridcolor": "white",
            "linecolor": "white",
            "ticks": ""
           },
           "bgcolor": "#E5ECF6",
           "caxis": {
            "gridcolor": "white",
            "linecolor": "white",
            "ticks": ""
           }
          },
          "title": {
           "x": 0.05
          },
          "xaxis": {
           "automargin": true,
           "gridcolor": "white",
           "linecolor": "white",
           "ticks": "",
           "title": {
            "standoff": 15
           },
           "zerolinecolor": "white",
           "zerolinewidth": 2
          },
          "yaxis": {
           "automargin": true,
           "gridcolor": "white",
           "linecolor": "white",
           "ticks": "",
           "title": {
            "standoff": 15
           },
           "zerolinecolor": "white",
           "zerolinewidth": 2
          }
         }
        },
        "title": {
         "text": "State wise yeild(Quintal/Hectare) "
        }
       }
      },
      "text/html": [
       "<div>                            <div id=\"2b08c6b5-725a-4e89-92df-091db3b04f06\" class=\"plotly-graph-div\" style=\"height:525px; width:100%;\"></div>            <script type=\"text/javascript\">                require([\"plotly\"], function(Plotly) {                    window.PLOTLYENV=window.PLOTLYENV || {};                                    if (document.getElementById(\"2b08c6b5-725a-4e89-92df-091db3b04f06\")) {                    Plotly.newPlot(                        \"2b08c6b5-725a-4e89-92df-091db3b04f06\",                        [{\"domain\":{\"x\":[0.0,1.0],\"y\":[0.0,1.0]},\"hovertemplate\":\"label=%{label}<br>value=%{value}<extra></extra>\",\"labels\":[[\"Andhra Pradesh\",[6.42,17.83,16.69,11.97,42.68,5.9,56.0,757.92]],[\"Bihar\",[42.95]],[\"Gujarat\",[9.59,19.05,13.45,11.61]],[\"Haryana\",[19.9,19.94]],[\"Karnataka\",[7.47,4.71,31.1,1.32,986.21]],[\"Madhya Pradesh\",[10.29,12.94,23.59]],[\"Maharashtra\",[8.72,12.69,8.05,9.33,6.7,744.01]],[\"Orissa\",[3.01,32.42]],[\"Punjab\",[24.39,67.41,39.83]],[\"Rajasthan\",[6.83,23.56,4.05,13.54,37.19]],[\"Tamil Nadu\",[11.98,1015.45]],[\"Uttar Pradesh\",[9.83,10.93,13.7,36.61,13.57,448.89,34.99]],[\"West Bengal\",[39.04]]],\"legendgroup\":\"\",\"name\":\"\",\"showlegend\":true,\"values\":[915.41,42.95,53.7,39.84,1030.81,46.82,789.5,35.43,131.63,85.16999999999999,1027.43,568.52,39.04],\"type\":\"pie\"}],                        {\"template\":{\"data\":{\"histogram2dcontour\":[{\"type\":\"histogram2dcontour\",\"colorbar\":{\"outlinewidth\":0,\"ticks\":\"\"},\"colorscale\":[[0.0,\"#0d0887\"],[0.1111111111111111,\"#46039f\"],[0.2222222222222222,\"#7201a8\"],[0.3333333333333333,\"#9c179e\"],[0.4444444444444444,\"#bd3786\"],[0.5555555555555556,\"#d8576b\"],[0.6666666666666666,\"#ed7953\"],[0.7777777777777778,\"#fb9f3a\"],[0.8888888888888888,\"#fdca26\"],[1.0,\"#f0f921\"]]}],\"choropleth\":[{\"type\":\"choropleth\",\"colorbar\":{\"outlinewidth\":0,\"ticks\":\"\"}}],\"histogram2d\":[{\"type\":\"histogram2d\",\"colorbar\":{\"outlinewidth\":0,\"ticks\":\"\"},\"colorscale\":[[0.0,\"#0d0887\"],[0.1111111111111111,\"#46039f\"],[0.2222222222222222,\"#7201a8\"],[0.3333333333333333,\"#9c179e\"],[0.4444444444444444,\"#bd3786\"],[0.5555555555555556,\"#d8576b\"],[0.6666666666666666,\"#ed7953\"],[0.7777777777777778,\"#fb9f3a\"],[0.8888888888888888,\"#fdca26\"],[1.0,\"#f0f921\"]]}],\"heatmap\":[{\"type\":\"heatmap\",\"colorbar\":{\"outlinewidth\":0,\"ticks\":\"\"},\"colorscale\":[[0.0,\"#0d0887\"],[0.1111111111111111,\"#46039f\"],[0.2222222222222222,\"#7201a8\"],[0.3333333333333333,\"#9c179e\"],[0.4444444444444444,\"#bd3786\"],[0.5555555555555556,\"#d8576b\"],[0.6666666666666666,\"#ed7953\"],[0.7777777777777778,\"#fb9f3a\"],[0.8888888888888888,\"#fdca26\"],[1.0,\"#f0f921\"]]}],\"heatmapgl\":[{\"type\":\"heatmapgl\",\"colorbar\":{\"outlinewidth\":0,\"ticks\":\"\"},\"colorscale\":[[0.0,\"#0d0887\"],[0.1111111111111111,\"#46039f\"],[0.2222222222222222,\"#7201a8\"],[0.3333333333333333,\"#9c179e\"],[0.4444444444444444,\"#bd3786\"],[0.5555555555555556,\"#d8576b\"],[0.6666666666666666,\"#ed7953\"],[0.7777777777777778,\"#fb9f3a\"],[0.8888888888888888,\"#fdca26\"],[1.0,\"#f0f921\"]]}],\"contourcarpet\":[{\"type\":\"contourcarpet\",\"colorbar\":{\"outlinewidth\":0,\"ticks\":\"\"}}],\"contour\":[{\"type\":\"contour\",\"colorbar\":{\"outlinewidth\":0,\"ticks\":\"\"},\"colorscale\":[[0.0,\"#0d0887\"],[0.1111111111111111,\"#46039f\"],[0.2222222222222222,\"#7201a8\"],[0.3333333333333333,\"#9c179e\"],[0.4444444444444444,\"#bd3786\"],[0.5555555555555556,\"#d8576b\"],[0.6666666666666666,\"#ed7953\"],[0.7777777777777778,\"#fb9f3a\"],[0.8888888888888888,\"#fdca26\"],[1.0,\"#f0f921\"]]}],\"surface\":[{\"type\":\"surface\",\"colorbar\":{\"outlinewidth\":0,\"ticks\":\"\"},\"colorscale\":[[0.0,\"#0d0887\"],[0.1111111111111111,\"#46039f\"],[0.2222222222222222,\"#7201a8\"],[0.3333333333333333,\"#9c179e\"],[0.4444444444444444,\"#bd3786\"],[0.5555555555555556,\"#d8576b\"],[0.6666666666666666,\"#ed7953\"],[0.7777777777777778,\"#fb9f3a\"],[0.8888888888888888,\"#fdca26\"],[1.0,\"#f0f921\"]]}],\"mesh3d\":[{\"type\":\"mesh3d\",\"colorbar\":{\"outlinewidth\":0,\"ticks\":\"\"}}],\"scatter\":[{\"fillpattern\":{\"fillmode\":\"overlay\",\"size\":10,\"solidity\":0.2},\"type\":\"scatter\"}],\"parcoords\":[{\"type\":\"parcoords\",\"line\":{\"colorbar\":{\"outlinewidth\":0,\"ticks\":\"\"}}}],\"scatterpolargl\":[{\"type\":\"scatterpolargl\",\"marker\":{\"colorbar\":{\"outlinewidth\":0,\"ticks\":\"\"}}}],\"bar\":[{\"error_x\":{\"color\":\"#2a3f5f\"},\"error_y\":{\"color\":\"#2a3f5f\"},\"marker\":{\"line\":{\"color\":\"#E5ECF6\",\"width\":0.5},\"pattern\":{\"fillmode\":\"overlay\",\"size\":10,\"solidity\":0.2}},\"type\":\"bar\"}],\"scattergeo\":[{\"type\":\"scattergeo\",\"marker\":{\"colorbar\":{\"outlinewidth\":0,\"ticks\":\"\"}}}],\"scatterpolar\":[{\"type\":\"scatterpolar\",\"marker\":{\"colorbar\":{\"outlinewidth\":0,\"ticks\":\"\"}}}],\"histogram\":[{\"marker\":{\"pattern\":{\"fillmode\":\"overlay\",\"size\":10,\"solidity\":0.2}},\"type\":\"histogram\"}],\"scattergl\":[{\"type\":\"scattergl\",\"marker\":{\"colorbar\":{\"outlinewidth\":0,\"ticks\":\"\"}}}],\"scatter3d\":[{\"type\":\"scatter3d\",\"line\":{\"colorbar\":{\"outlinewidth\":0,\"ticks\":\"\"}},\"marker\":{\"colorbar\":{\"outlinewidth\":0,\"ticks\":\"\"}}}],\"scattermapbox\":[{\"type\":\"scattermapbox\",\"marker\":{\"colorbar\":{\"outlinewidth\":0,\"ticks\":\"\"}}}],\"scatterternary\":[{\"type\":\"scatterternary\",\"marker\":{\"colorbar\":{\"outlinewidth\":0,\"ticks\":\"\"}}}],\"scattercarpet\":[{\"type\":\"scattercarpet\",\"marker\":{\"colorbar\":{\"outlinewidth\":0,\"ticks\":\"\"}}}],\"carpet\":[{\"aaxis\":{\"endlinecolor\":\"#2a3f5f\",\"gridcolor\":\"white\",\"linecolor\":\"white\",\"minorgridcolor\":\"white\",\"startlinecolor\":\"#2a3f5f\"},\"baxis\":{\"endlinecolor\":\"#2a3f5f\",\"gridcolor\":\"white\",\"linecolor\":\"white\",\"minorgridcolor\":\"white\",\"startlinecolor\":\"#2a3f5f\"},\"type\":\"carpet\"}],\"table\":[{\"cells\":{\"fill\":{\"color\":\"#EBF0F8\"},\"line\":{\"color\":\"white\"}},\"header\":{\"fill\":{\"color\":\"#C8D4E3\"},\"line\":{\"color\":\"white\"}},\"type\":\"table\"}],\"barpolar\":[{\"marker\":{\"line\":{\"color\":\"#E5ECF6\",\"width\":0.5},\"pattern\":{\"fillmode\":\"overlay\",\"size\":10,\"solidity\":0.2}},\"type\":\"barpolar\"}],\"pie\":[{\"automargin\":true,\"type\":\"pie\"}]},\"layout\":{\"autotypenumbers\":\"strict\",\"colorway\":[\"#636efa\",\"#EF553B\",\"#00cc96\",\"#ab63fa\",\"#FFA15A\",\"#19d3f3\",\"#FF6692\",\"#B6E880\",\"#FF97FF\",\"#FECB52\"],\"font\":{\"color\":\"#2a3f5f\"},\"hovermode\":\"closest\",\"hoverlabel\":{\"align\":\"left\"},\"paper_bgcolor\":\"white\",\"plot_bgcolor\":\"#E5ECF6\",\"polar\":{\"bgcolor\":\"#E5ECF6\",\"angularaxis\":{\"gridcolor\":\"white\",\"linecolor\":\"white\",\"ticks\":\"\"},\"radialaxis\":{\"gridcolor\":\"white\",\"linecolor\":\"white\",\"ticks\":\"\"}},\"ternary\":{\"bgcolor\":\"#E5ECF6\",\"aaxis\":{\"gridcolor\":\"white\",\"linecolor\":\"white\",\"ticks\":\"\"},\"baxis\":{\"gridcolor\":\"white\",\"linecolor\":\"white\",\"ticks\":\"\"},\"caxis\":{\"gridcolor\":\"white\",\"linecolor\":\"white\",\"ticks\":\"\"}},\"coloraxis\":{\"colorbar\":{\"outlinewidth\":0,\"ticks\":\"\"}},\"colorscale\":{\"sequential\":[[0.0,\"#0d0887\"],[0.1111111111111111,\"#46039f\"],[0.2222222222222222,\"#7201a8\"],[0.3333333333333333,\"#9c179e\"],[0.4444444444444444,\"#bd3786\"],[0.5555555555555556,\"#d8576b\"],[0.6666666666666666,\"#ed7953\"],[0.7777777777777778,\"#fb9f3a\"],[0.8888888888888888,\"#fdca26\"],[1.0,\"#f0f921\"]],\"sequentialminus\":[[0.0,\"#0d0887\"],[0.1111111111111111,\"#46039f\"],[0.2222222222222222,\"#7201a8\"],[0.3333333333333333,\"#9c179e\"],[0.4444444444444444,\"#bd3786\"],[0.5555555555555556,\"#d8576b\"],[0.6666666666666666,\"#ed7953\"],[0.7777777777777778,\"#fb9f3a\"],[0.8888888888888888,\"#fdca26\"],[1.0,\"#f0f921\"]],\"diverging\":[[0,\"#8e0152\"],[0.1,\"#c51b7d\"],[0.2,\"#de77ae\"],[0.3,\"#f1b6da\"],[0.4,\"#fde0ef\"],[0.5,\"#f7f7f7\"],[0.6,\"#e6f5d0\"],[0.7,\"#b8e186\"],[0.8,\"#7fbc41\"],[0.9,\"#4d9221\"],[1,\"#276419\"]]},\"xaxis\":{\"gridcolor\":\"white\",\"linecolor\":\"white\",\"ticks\":\"\",\"title\":{\"standoff\":15},\"zerolinecolor\":\"white\",\"automargin\":true,\"zerolinewidth\":2},\"yaxis\":{\"gridcolor\":\"white\",\"linecolor\":\"white\",\"ticks\":\"\",\"title\":{\"standoff\":15},\"zerolinecolor\":\"white\",\"automargin\":true,\"zerolinewidth\":2},\"scene\":{\"xaxis\":{\"backgroundcolor\":\"#E5ECF6\",\"gridcolor\":\"white\",\"linecolor\":\"white\",\"showbackground\":true,\"ticks\":\"\",\"zerolinecolor\":\"white\",\"gridwidth\":2},\"yaxis\":{\"backgroundcolor\":\"#E5ECF6\",\"gridcolor\":\"white\",\"linecolor\":\"white\",\"showbackground\":true,\"ticks\":\"\",\"zerolinecolor\":\"white\",\"gridwidth\":2},\"zaxis\":{\"backgroundcolor\":\"#E5ECF6\",\"gridcolor\":\"white\",\"linecolor\":\"white\",\"showbackground\":true,\"ticks\":\"\",\"zerolinecolor\":\"white\",\"gridwidth\":2}},\"shapedefaults\":{\"line\":{\"color\":\"#2a3f5f\"}},\"annotationdefaults\":{\"arrowcolor\":\"#2a3f5f\",\"arrowhead\":0,\"arrowwidth\":1},\"geo\":{\"bgcolor\":\"white\",\"landcolor\":\"#E5ECF6\",\"subunitcolor\":\"white\",\"showland\":true,\"showlakes\":true,\"lakecolor\":\"white\"},\"title\":{\"x\":0.05},\"mapbox\":{\"style\":\"light\"}}},\"legend\":{\"tracegroupgap\":0},\"title\":{\"text\":\"State wise yeild(Quintal/Hectare) \"}},                        {\"responsive\": true}                    ).then(function(){\n",
       "                            \n",
       "var gd = document.getElementById('2b08c6b5-725a-4e89-92df-091db3b04f06');\n",
       "var x = new MutationObserver(function (mutations, observer) {{\n",
       "        var display = window.getComputedStyle(gd).display;\n",
       "        if (!display || display === 'none') {{\n",
       "            console.log([gd, 'removed!']);\n",
       "            Plotly.purge(gd);\n",
       "            observer.disconnect();\n",
       "        }}\n",
       "}});\n",
       "\n",
       "// Listen for the removal of the full notebook cells\n",
       "var notebookContainer = gd.closest('#notebook-container');\n",
       "if (notebookContainer) {{\n",
       "    x.observe(notebookContainer, {childList: true});\n",
       "}}\n",
       "\n",
       "// Listen for the clearing of the current output cell\n",
       "var outputEl = gd.closest('.output');\n",
       "if (outputEl) {{\n",
       "    x.observe(outputEl, {childList: true});\n",
       "}}\n",
       "\n",
       "                        })                };                });            </script>        </div>"
      ]
     },
     "metadata": {},
     "output_type": "display_data"
    }
   ],
   "source": [
    "fig=px.pie(df1,values=df1.groupby('State')[cols[-1]].sum(),names=df1.groupby('State')[cols[-1]],\n",
    "           title='State wise yeild(Quintal/Hectare) ')\n",
    "fig.show()"
   ]
  },
  {
   "cell_type": "markdown",
   "id": "aaaa1c51",
   "metadata": {},
   "source": [
    "## ◾ Feature Selection and Engineering"
   ]
  },
  {
   "cell_type": "code",
   "execution_count": 908,
   "id": "3e9257e1",
   "metadata": {},
   "outputs": [],
   "source": [
    "# Selection of Relevant Columns for Crop Data Analysis"
   ]
  },
  {
   "cell_type": "code",
   "execution_count": 909,
   "id": "30fc9441",
   "metadata": {},
   "outputs": [
    {
     "data": {
      "text/plain": [
       "Index(['Production 2006-07', 'Production 2007-08', 'Production 2008-09',\n",
       "       'Production 2009-10'],\n",
       "      dtype='object')"
      ]
     },
     "execution_count": 909,
     "metadata": {},
     "output_type": "execute_result"
    }
   ],
   "source": [
    "col=df2.columns\n",
    "col= col.drop(col[5:16])\n",
    "col=col.drop(col[0])\n",
    "col"
   ]
  },
  {
   "cell_type": "code",
   "execution_count": 910,
   "id": "701fab25",
   "metadata": {},
   "outputs": [],
   "source": [
    "# Time Series Analysis of Crop Production in India (2006-2011)"
   ]
  },
  {
   "cell_type": "code",
   "execution_count": 911,
   "id": "57e7ffca",
   "metadata": {},
   "outputs": [],
   "source": [
    "t=df2[['Crop','Production 2006-07','Production 2007-08','Production 2008-09','Production 2009-10','Production 2010-11']]\n",
    "t.rename(index=t['Crop'],inplace=True)"
   ]
  },
  {
   "cell_type": "code",
   "execution_count": 912,
   "id": "4d1dd37b",
   "metadata": {},
   "outputs": [],
   "source": [
    "# Generating a stacked bar chart to visualize the total crop production in India from 2006 to 2011. \n",
    "# The chart represents the cumulative production of different crops for each year."
   ]
  },
  {
   "cell_type": "code",
   "execution_count": 913,
   "id": "2d6e9f2c",
   "metadata": {},
   "outputs": [
    {
     "name": "stderr",
     "output_type": "stream",
     "text": [
      "C:\\Users\\KIIT\\AppData\\Roaming\\Python\\Python310\\site-packages\\pandas\\plotting\\_matplotlib\\core.py:278: UserWarning:\n",
      "\n",
      "'color' and 'colormap' cannot be used simultaneously. Using 'color'\n",
      "\n",
      "C:\\Users\\KIIT\\AppData\\Roaming\\Python\\Python310\\site-packages\\pandas\\plotting\\_matplotlib\\style.py:123: UserWarning:\n",
      "\n",
      "'color' and 'colormap' cannot be used simultaneously. Using 'color'\n",
      "\n"
     ]
    },
    {
     "data": {
      "image/png": "[encoded data removed]",
      "text/plain": [
       "<Figure size 1200x600 with 1 Axes>"
      ]
     },
     "metadata": {},
     "output_type": "display_data"
    }
   ],
   "source": [
    "t.plot(kind='bar',stacked= True,figsize=(12,6),color=sns.color_palette('Paired'),cmap=True)\n",
    "plt.title('Total Production of Crops in 2006-2011 period')\n",
    "plt.xlabel('Crops')\n",
    "plt.ylabel('Production')\n",
    "plt.xticks(fontsize=10)\n",
    "plt.show()"
   ]
  },
  {
   "cell_type": "code",
   "execution_count": 914,
   "id": "2320d5b0",
   "metadata": {},
   "outputs": [],
   "source": [
    "# Aggregate Yield Analysis: Crop-wise and State-wise Total Yield (Quintal/Hectare)"
   ]
  },
  {
   "cell_type": "code",
   "execution_count": 915,
   "id": "97a1d2e5",
   "metadata": {},
   "outputs": [
    {
     "data": {
      "text/html": [
       "<div>\n",
       "<style scoped>\n",
       "    .dataframe tbody tr th:only-of-type {\n",
       "        vertical-align: middle;\n",
       "    }\n",
       "\n",
       "    .dataframe tbody tr th {\n",
       "        vertical-align: top;\n",
       "    }\n",
       "\n",
       "    .dataframe thead th {\n",
       "        text-align: right;\n",
       "    }\n",
       "</style>\n",
       "<table border=\"1\" class=\"dataframe\">\n",
       "  <thead>\n",
       "    <tr style=\"text-align: right;\">\n",
       "      <th></th>\n",
       "      <th></th>\n",
       "      <th>Yield (Quintal/ Hectare)</th>\n",
       "    </tr>\n",
       "    <tr>\n",
       "      <th>Crop</th>\n",
       "      <th>State</th>\n",
       "      <th></th>\n",
       "    </tr>\n",
       "  </thead>\n",
       "  <tbody>\n",
       "    <tr>\n",
       "      <th rowspan=\"5\" valign=\"top\">ARHAR</th>\n",
       "      <th>Andhra Pradesh</th>\n",
       "      <td>6.42</td>\n",
       "    </tr>\n",
       "    <tr>\n",
       "      <th>Gujarat</th>\n",
       "      <td>9.59</td>\n",
       "    </tr>\n",
       "    <tr>\n",
       "      <th>Karnataka</th>\n",
       "      <td>7.47</td>\n",
       "    </tr>\n",
       "    <tr>\n",
       "      <th>Maharashtra</th>\n",
       "      <td>8.72</td>\n",
       "    </tr>\n",
       "    <tr>\n",
       "      <th>Uttar Pradesh</th>\n",
       "      <td>9.83</td>\n",
       "    </tr>\n",
       "    <tr>\n",
       "      <th rowspan=\"5\" valign=\"top\">COTTON</th>\n",
       "      <th>Andhra Pradesh</th>\n",
       "      <td>17.83</td>\n",
       "    </tr>\n",
       "    <tr>\n",
       "      <th>Gujarat</th>\n",
       "      <td>19.05</td>\n",
       "    </tr>\n",
       "    <tr>\n",
       "      <th>Haryana</th>\n",
       "      <td>19.90</td>\n",
       "    </tr>\n",
       "    <tr>\n",
       "      <th>Maharashtra</th>\n",
       "      <td>12.69</td>\n",
       "    </tr>\n",
       "    <tr>\n",
       "      <th>Punjab</th>\n",
       "      <td>24.39</td>\n",
       "    </tr>\n",
       "    <tr>\n",
       "      <th rowspan=\"5\" valign=\"top\">GRAM</th>\n",
       "      <th>Andhra Pradesh</th>\n",
       "      <td>16.69</td>\n",
       "    </tr>\n",
       "    <tr>\n",
       "      <th>Madhya Pradesh</th>\n",
       "      <td>10.29</td>\n",
       "    </tr>\n",
       "    <tr>\n",
       "      <th>Maharashtra</th>\n",
       "      <td>8.05</td>\n",
       "    </tr>\n",
       "    <tr>\n",
       "      <th>Rajasthan</th>\n",
       "      <td>6.83</td>\n",
       "    </tr>\n",
       "    <tr>\n",
       "      <th>Uttar Pradesh</th>\n",
       "      <td>10.93</td>\n",
       "    </tr>\n",
       "    <tr>\n",
       "      <th rowspan=\"5\" valign=\"top\">GROUNDNUT</th>\n",
       "      <th>Andhra Pradesh</th>\n",
       "      <td>11.97</td>\n",
       "    </tr>\n",
       "    <tr>\n",
       "      <th>Gujarat</th>\n",
       "      <td>13.45</td>\n",
       "    </tr>\n",
       "    <tr>\n",
       "      <th>Karnataka</th>\n",
       "      <td>4.71</td>\n",
       "    </tr>\n",
       "    <tr>\n",
       "      <th>Maharashtra</th>\n",
       "      <td>9.33</td>\n",
       "    </tr>\n",
       "    <tr>\n",
       "      <th>Tamil Nadu</th>\n",
       "      <td>11.98</td>\n",
       "    </tr>\n",
       "    <tr>\n",
       "      <th rowspan=\"5\" valign=\"top\">MAIZE</th>\n",
       "      <th>Andhra Pradesh</th>\n",
       "      <td>42.68</td>\n",
       "    </tr>\n",
       "    <tr>\n",
       "      <th>Bihar</th>\n",
       "      <td>42.95</td>\n",
       "    </tr>\n",
       "    <tr>\n",
       "      <th>Karnataka</th>\n",
       "      <td>31.10</td>\n",
       "    </tr>\n",
       "    <tr>\n",
       "      <th>Rajasthan</th>\n",
       "      <td>23.56</td>\n",
       "    </tr>\n",
       "    <tr>\n",
       "      <th>Uttar Pradesh</th>\n",
       "      <td>13.70</td>\n",
       "    </tr>\n",
       "    <tr>\n",
       "      <th rowspan=\"5\" valign=\"top\">MOONG</th>\n",
       "      <th>Andhra Pradesh</th>\n",
       "      <td>5.90</td>\n",
       "    </tr>\n",
       "    <tr>\n",
       "      <th>Karnataka</th>\n",
       "      <td>1.32</td>\n",
       "    </tr>\n",
       "    <tr>\n",
       "      <th>Maharashtra</th>\n",
       "      <td>6.70</td>\n",
       "    </tr>\n",
       "    <tr>\n",
       "      <th>Orissa</th>\n",
       "      <td>3.01</td>\n",
       "    </tr>\n",
       "    <tr>\n",
       "      <th>Rajasthan</th>\n",
       "      <td>4.05</td>\n",
       "    </tr>\n",
       "    <tr>\n",
       "      <th rowspan=\"5\" valign=\"top\">PADDY</th>\n",
       "      <th>Andhra Pradesh</th>\n",
       "      <td>56.00</td>\n",
       "    </tr>\n",
       "    <tr>\n",
       "      <th>Orissa</th>\n",
       "      <td>32.42</td>\n",
       "    </tr>\n",
       "    <tr>\n",
       "      <th>Punjab</th>\n",
       "      <td>67.41</td>\n",
       "    </tr>\n",
       "    <tr>\n",
       "      <th>Uttar Pradesh</th>\n",
       "      <td>36.61</td>\n",
       "    </tr>\n",
       "    <tr>\n",
       "      <th>West Bengal</th>\n",
       "      <td>39.04</td>\n",
       "    </tr>\n",
       "    <tr>\n",
       "      <th rowspan=\"5\" valign=\"top\">RAPESEED AND MUSTARD</th>\n",
       "      <th>Gujarat</th>\n",
       "      <td>11.61</td>\n",
       "    </tr>\n",
       "    <tr>\n",
       "      <th>Haryana</th>\n",
       "      <td>19.94</td>\n",
       "    </tr>\n",
       "    <tr>\n",
       "      <th>Madhya Pradesh</th>\n",
       "      <td>12.94</td>\n",
       "    </tr>\n",
       "    <tr>\n",
       "      <th>Rajasthan</th>\n",
       "      <td>13.54</td>\n",
       "    </tr>\n",
       "    <tr>\n",
       "      <th>Uttar Pradesh</th>\n",
       "      <td>13.57</td>\n",
       "    </tr>\n",
       "    <tr>\n",
       "      <th rowspan=\"5\" valign=\"top\">SUGARCANE</th>\n",
       "      <th>Andhra Pradesh</th>\n",
       "      <td>757.92</td>\n",
       "    </tr>\n",
       "    <tr>\n",
       "      <th>Karnataka</th>\n",
       "      <td>986.21</td>\n",
       "    </tr>\n",
       "    <tr>\n",
       "      <th>Maharashtra</th>\n",
       "      <td>744.01</td>\n",
       "    </tr>\n",
       "    <tr>\n",
       "      <th>Tamil Nadu</th>\n",
       "      <td>1015.45</td>\n",
       "    </tr>\n",
       "    <tr>\n",
       "      <th>Uttar Pradesh</th>\n",
       "      <td>448.89</td>\n",
       "    </tr>\n",
       "    <tr>\n",
       "      <th rowspan=\"4\" valign=\"top\">WHEAT</th>\n",
       "      <th>Madhya Pradesh</th>\n",
       "      <td>23.59</td>\n",
       "    </tr>\n",
       "    <tr>\n",
       "      <th>Punjab</th>\n",
       "      <td>39.83</td>\n",
       "    </tr>\n",
       "    <tr>\n",
       "      <th>Rajasthan</th>\n",
       "      <td>37.19</td>\n",
       "    </tr>\n",
       "    <tr>\n",
       "      <th>Uttar Pradesh</th>\n",
       "      <td>34.99</td>\n",
       "    </tr>\n",
       "  </tbody>\n",
       "</table>\n",
       "</div>"
      ],
      "text/plain": [
       "                                     Yield (Quintal/ Hectare) \n",
       "Crop                 State                                    \n",
       "ARHAR                Andhra Pradesh                       6.42\n",
       "                     Gujarat                              9.59\n",
       "                     Karnataka                            7.47\n",
       "                     Maharashtra                          8.72\n",
       "                     Uttar Pradesh                        9.83\n",
       "COTTON               Andhra Pradesh                      17.83\n",
       "                     Gujarat                             19.05\n",
       "                     Haryana                             19.90\n",
       "                     Maharashtra                         12.69\n",
       "                     Punjab                              24.39\n",
       "GRAM                 Andhra Pradesh                      16.69\n",
       "                     Madhya Pradesh                      10.29\n",
       "                     Maharashtra                          8.05\n",
       "                     Rajasthan                            6.83\n",
       "                     Uttar Pradesh                       10.93\n",
       "GROUNDNUT            Andhra Pradesh                      11.97\n",
       "                     Gujarat                             13.45\n",
       "                     Karnataka                            4.71\n",
       "                     Maharashtra                          9.33\n",
       "                     Tamil Nadu                          11.98\n",
       "MAIZE                Andhra Pradesh                      42.68\n",
       "                     Bihar                               42.95\n",
       "                     Karnataka                           31.10\n",
       "                     Rajasthan                           23.56\n",
       "                     Uttar Pradesh                       13.70\n",
       "MOONG                Andhra Pradesh                       5.90\n",
       "                     Karnataka                            1.32\n",
       "                     Maharashtra                          6.70\n",
       "                     Orissa                               3.01\n",
       "                     Rajasthan                            4.05\n",
       "PADDY                Andhra Pradesh                      56.00\n",
       "                     Orissa                              32.42\n",
       "                     Punjab                              67.41\n",
       "                     Uttar Pradesh                       36.61\n",
       "                     West Bengal                         39.04\n",
       "RAPESEED AND MUSTARD Gujarat                             11.61\n",
       "                     Haryana                             19.94\n",
       "                     Madhya Pradesh                      12.94\n",
       "                     Rajasthan                           13.54\n",
       "                     Uttar Pradesh                       13.57\n",
       "SUGARCANE            Andhra Pradesh                     757.92\n",
       "                     Karnataka                          986.21\n",
       "                     Maharashtra                        744.01\n",
       "                     Tamil Nadu                        1015.45\n",
       "                     Uttar Pradesh                      448.89\n",
       "WHEAT                Madhya Pradesh                      23.59\n",
       "                     Punjab                              39.83\n",
       "                     Rajasthan                           37.19\n",
       "                     Uttar Pradesh                       34.99"
      ]
     },
     "execution_count": 915,
     "metadata": {},
     "output_type": "execute_result"
    }
   ],
   "source": [
    "e=df1.groupby(['Crop','State'])['Yield (Quintal/ Hectare) '].sum()\n",
    "e=pd.DataFrame(e)\n",
    "e"
   ]
  },
  {
   "cell_type": "code",
   "execution_count": 916,
   "id": "ba5a6a89",
   "metadata": {},
   "outputs": [],
   "source": [
    "# Agricultural Yield Analysis: State-wise Crop Yield (Quintal/Hectare) Sunburst Chart\""
   ]
  },
  {
   "cell_type": "code",
   "execution_count": 917,
   "id": "ba28ee79",
   "metadata": {},
   "outputs": [
    {
     "data": {
      "application/vnd.plotly.v1+json": {
       "config": {
        "plotlyServerURL": "https://plot.ly"
       },
       "data": [
        {
         "branchvalues": "total",
         "customdata": [
          [
           6.42
          ],
          [
           9.59
          ],
          [
           7.47
          ],
          [
           8.72
          ],
          [
           9.83
          ],
          [
           17.83
          ],
          [
           19.05
          ],
          [
           19.9
          ],
          [
           12.69
          ],
          [
           24.39
          ],
          [
           16.69
          ],
          [
           10.29
          ],
          [
           8.05
          ],
          [
           6.83
          ],
          [
           10.93
          ],
          [
           11.97
          ],
          [
           13.45
          ],
          [
           4.71
          ],
          [
           9.33
          ],
          [
           11.98
          ],
          [
           42.68
          ],
          [
           42.95
          ],
          [
           31.1
          ],
          [
           23.56
          ],
          [
           13.7
          ],
          [
           5.9
          ],
          [
           1.32
          ],
          [
           6.7
          ],
          [
           3.01
          ],
          [
           4.05
          ],
          [
           56
          ],
          [
           32.42
          ],
          [
           67.41
          ],
          [
           36.61
          ],
          [
           39.04
          ],
          [
           11.61
          ],
          [
           19.94
          ],
          [
           12.94
          ],
          [
           13.54
          ],
          [
           13.57
          ],
          [
           757.92
          ],
          [
           986.21
          ],
          [
           744.01
          ],
          [
           1015.45
          ],
          [
           448.89
          ],
          [
           23.59
          ],
          [
           39.83
          ],
          [
           37.19
          ],
          [
           34.99
          ],
          [
           915.41
          ],
          [
           42.95
          ],
          [
           53.7
          ],
          [
           39.84
          ],
          [
           1030.81
          ],
          [
           46.82
          ],
          [
           789.5
          ],
          [
           35.43
          ],
          [
           131.63
          ],
          [
           85.16999999999999
          ],
          [
           1027.43
          ],
          [
           568.52
          ],
          [
           39.04
          ]
         ],
         "domain": {
          "x": [
           0,
           1
          ],
          "y": [
           0,
           1
          ]
         },
         "hovertemplate": "labels=%{label}<br>Yield (Quintal/ Hectare) =%{customdata[0]}<br>parent=%{parent}<br>id=%{id}<extra></extra>",
         "ids": [
          "Andhra Pradesh/ARHAR",
          "Gujarat/ARHAR",
          "Karnataka/ARHAR",
          "Maharashtra/ARHAR",
          "Uttar Pradesh/ARHAR",
          "Andhra Pradesh/COTTON",
          "Gujarat/COTTON",
          "Haryana/COTTON",
          "Maharashtra/COTTON",
          "Punjab/COTTON",
          "Andhra Pradesh/GRAM",
          "Madhya Pradesh/GRAM",
          "Maharashtra/GRAM",
          "Rajasthan/GRAM",
          "Uttar Pradesh/GRAM",
          "Andhra Pradesh/GROUNDNUT",
          "Gujarat/GROUNDNUT",
          "Karnataka/GROUNDNUT",
          "Maharashtra/GROUNDNUT",
          "Tamil Nadu/GROUNDNUT",
          "Andhra Pradesh/MAIZE",
          "Bihar/MAIZE",
          "Karnataka/MAIZE",
          "Rajasthan/MAIZE",
          "Uttar Pradesh/MAIZE",
          "Andhra Pradesh/MOONG",
          "Karnataka/MOONG",
          "Maharashtra/MOONG",
          "Orissa/MOONG",
          "Rajasthan/MOONG",
          "Andhra Pradesh/PADDY",
          "Orissa/PADDY",
          "Punjab/PADDY",
          "Uttar Pradesh/PADDY",
          "West Bengal/PADDY",
          "Gujarat/RAPESEED AND MUSTARD",
          "Haryana/RAPESEED AND MUSTARD",
          "Madhya Pradesh/RAPESEED AND MUSTARD",
          "Rajasthan/RAPESEED AND MUSTARD",
          "Uttar Pradesh/RAPESEED AND MUSTARD",
          "Andhra Pradesh/SUGARCANE",
          "Karnataka/SUGARCANE",
          "Maharashtra/SUGARCANE",
          "Tamil Nadu/SUGARCANE",
          "Uttar Pradesh/SUGARCANE",
          "Madhya Pradesh/WHEAT",
          "Punjab/WHEAT",
          "Rajasthan/WHEAT",
          "Uttar Pradesh/WHEAT",
          "Andhra Pradesh",
          "Bihar",
          "Gujarat",
          "Haryana",
          "Karnataka",
          "Madhya Pradesh",
          "Maharashtra",
          "Orissa",
          "Punjab",
          "Rajasthan",
          "Tamil Nadu",
          "Uttar Pradesh",
          "West Bengal"
         ],
         "labels": [
          "ARHAR",
          "ARHAR",
          "ARHAR",
          "ARHAR",
          "ARHAR",
          "COTTON",
          "COTTON",
          "COTTON",
          "COTTON",
          "COTTON",
          "GRAM",
          "GRAM",
          "GRAM",
          "GRAM",
          "GRAM",
          "GROUNDNUT",
          "GROUNDNUT",
          "GROUNDNUT",
          "GROUNDNUT",
          "GROUNDNUT",
          "MAIZE",
          "MAIZE",
          "MAIZE",
          "MAIZE",
          "MAIZE",
          "MOONG",
          "MOONG",
          "MOONG",
          "MOONG",
          "MOONG",
          "PADDY",
          "PADDY",
          "PADDY",
          "PADDY",
          "PADDY",
          "RAPESEED AND MUSTARD",
          "RAPESEED AND MUSTARD",
          "RAPESEED AND MUSTARD",
          "RAPESEED AND MUSTARD",
          "RAPESEED AND MUSTARD",
          "SUGARCANE",
          "SUGARCANE",
          "SUGARCANE",
          "SUGARCANE",
          "SUGARCANE",
          "WHEAT",
          "WHEAT",
          "WHEAT",
          "WHEAT",
          "Andhra Pradesh",
          "Bihar",
          "Gujarat",
          "Haryana",
          "Karnataka",
          "Madhya Pradesh",
          "Maharashtra",
          "Orissa",
          "Punjab",
          "Rajasthan",
          "Tamil Nadu",
          "Uttar Pradesh",
          "West Bengal"
         ],
         "name": "",
         "parents": [
          "Andhra Pradesh",
          "Gujarat",
          "Karnataka",
          "Maharashtra",
          "Uttar Pradesh",
          "Andhra Pradesh",
          "Gujarat",
          "Haryana",
          "Maharashtra",
          "Punjab",
          "Andhra Pradesh",
          "Madhya Pradesh",
          "Maharashtra",
          "Rajasthan",
          "Uttar Pradesh",
          "Andhra Pradesh",
          "Gujarat",
          "Karnataka",
          "Maharashtra",
          "Tamil Nadu",
          "Andhra Pradesh",
          "Bihar",
          "Karnataka",
          "Rajasthan",
          "Uttar Pradesh",
          "Andhra Pradesh",
          "Karnataka",
          "Maharashtra",
          "Orissa",
          "Rajasthan",
          "Andhra Pradesh",
          "Orissa",
          "Punjab",
          "Uttar Pradesh",
          "West Bengal",
          "Gujarat",
          "Haryana",
          "Madhya Pradesh",
          "Rajasthan",
          "Uttar Pradesh",
          "Andhra Pradesh",
          "Karnataka",
          "Maharashtra",
          "Tamil Nadu",
          "Uttar Pradesh",
          "Madhya Pradesh",
          "Punjab",
          "Rajasthan",
          "Uttar Pradesh",
          "",
          "",
          "",
          "",
          "",
          "",
          "",
          "",
          "",
          "",
          "",
          "",
          ""
         ],
         "type": "sunburst",
         "values": [
          6.42,
          9.59,
          7.47,
          8.72,
          9.83,
          17.83,
          19.05,
          19.9,
          12.69,
          24.39,
          16.69,
          10.29,
          8.05,
          6.83,
          10.93,
          11.97,
          13.45,
          4.71,
          9.33,
          11.98,
          42.68,
          42.95,
          31.1,
          23.56,
          13.7,
          5.9,
          1.32,
          6.7,
          3.01,
          4.05,
          56,
          32.42,
          67.41,
          36.61,
          39.04,
          11.61,
          19.94,
          12.94,
          13.54,
          13.57,
          757.92,
          986.21,
          744.01,
          1015.45,
          448.89,
          23.59,
          39.83,
          37.19,
          34.99,
          915.41,
          42.95,
          53.7,
          39.84,
          1030.81,
          46.82,
          789.5,
          35.43,
          131.63,
          85.16999999999999,
          1027.43,
          568.52,
          39.04
         ]
        }
       ],
       "layout": {
        "legend": {
         "tracegroupgap": 0
        },
        "margin": {
         "t": 60
        },
        "template": {
         "data": {
          "bar": [
           {
            "error_x": {
             "color": "#2a3f5f"
            },
            "error_y": {
             "color": "#2a3f5f"
            },
            "marker": {
             "line": {
              "color": "#E5ECF6",
              "width": 0.5
             },
             "pattern": {
              "fillmode": "overlay",
              "size": 10,
              "solidity": 0.2
             }
            },
            "type": "bar"
           }
          ],
          "barpolar": [
           {
            "marker": {
             "line": {
              "color": "#E5ECF6",
              "width": 0.5
             },
             "pattern": {
              "fillmode": "overlay",
              "size": 10,
              "solidity": 0.2
             }
            },
            "type": "barpolar"
           }
          ],
          "carpet": [
           {
            "aaxis": {
             "endlinecolor": "#2a3f5f",
             "gridcolor": "white",
             "linecolor": "white",
             "minorgridcolor": "white",
             "startlinecolor": "#2a3f5f"
            },
            "baxis": {
             "endlinecolor": "#2a3f5f",
             "gridcolor": "white",
             "linecolor": "white",
             "minorgridcolor": "white",
             "startlinecolor": "#2a3f5f"
            },
            "type": "carpet"
           }
          ],
          "choropleth": [
           {
            "colorbar": {
             "outlinewidth": 0,
             "ticks": ""
            },
            "type": "choropleth"
           }
          ],
          "contour": [
           {
            "colorbar": {
             "outlinewidth": 0,
             "ticks": ""
            },
            "colorscale": [
             [
              0,
              "#0d0887"
             ],
             [
              0.1111111111111111,
              "#46039f"
             ],
             [
              0.2222222222222222,
              "#7201a8"
             ],
             [
              0.3333333333333333,
              "#9c179e"
             ],
             [
              0.4444444444444444,
              "#bd3786"
             ],
             [
              0.5555555555555556,
              "#d8576b"
             ],
             [
              0.6666666666666666,
              "#ed7953"
             ],
             [
              0.7777777777777778,
              "#fb9f3a"
             ],
             [
              0.8888888888888888,
              "#fdca26"
             ],
             [
              1,
              "#f0f921"
             ]
            ],
            "type": "contour"
           }
          ],
          "contourcarpet": [
           {
            "colorbar": {
             "outlinewidth": 0,
             "ticks": ""
            },
            "type": "contourcarpet"
           }
          ],
          "heatmap": [
           {
            "colorbar": {
             "outlinewidth": 0,
             "ticks": ""
            },
            "colorscale": [
             [
              0,
              "#0d0887"
             ],
             [
              0.1111111111111111,
              "#46039f"
             ],
             [
              0.2222222222222222,
              "#7201a8"
             ],
             [
              0.3333333333333333,
              "#9c179e"
             ],
             [
              0.4444444444444444,
              "#bd3786"
             ],
             [
              0.5555555555555556,
              "#d8576b"
             ],
             [
              0.6666666666666666,
              "#ed7953"
             ],
             [
              0.7777777777777778,
              "#fb9f3a"
             ],
             [
              0.8888888888888888,
              "#fdca26"
             ],
             [
              1,
              "#f0f921"
             ]
            ],
            "type": "heatmap"
           }
          ],
          "heatmapgl": [
           {
            "colorbar": {
             "outlinewidth": 0,
             "ticks": ""
            },
            "colorscale": [
             [
              0,
              "#0d0887"
             ],
             [
              0.1111111111111111,
              "#46039f"
             ],
             [
              0.2222222222222222,
              "#7201a8"
             ],
             [
              0.3333333333333333,
              "#9c179e"
             ],
             [
              0.4444444444444444,
              "#bd3786"
             ],
             [
              0.5555555555555556,
              "#d8576b"
             ],
             [
              0.6666666666666666,
              "#ed7953"
             ],
             [
              0.7777777777777778,
              "#fb9f3a"
             ],
             [
              0.8888888888888888,
              "#fdca26"
             ],
             [
              1,
              "#f0f921"
             ]
            ],
            "type": "heatmapgl"
           }
          ],
          "histogram": [
           {
            "marker": {
             "pattern": {
              "fillmode": "overlay",
              "size": 10,
              "solidity": 0.2
             }
            },
            "type": "histogram"
           }
          ],
          "histogram2d": [
           {
            "colorbar": {
             "outlinewidth": 0,
             "ticks": ""
            },
            "colorscale": [
             [
              0,
              "#0d0887"
             ],
             [
              0.1111111111111111,
              "#46039f"
             ],
             [
              0.2222222222222222,
              "#7201a8"
             ],
             [
              0.3333333333333333,
              "#9c179e"
             ],
             [
              0.4444444444444444,
              "#bd3786"
             ],
             [
              0.5555555555555556,
              "#d8576b"
             ],
             [
              0.6666666666666666,
              "#ed7953"
             ],
             [
              0.7777777777777778,
              "#fb9f3a"
             ],
             [
              0.8888888888888888,
              "#fdca26"
             ],
             [
              1,
              "#f0f921"
             ]
            ],
            "type": "histogram2d"
           }
          ],
          "histogram2dcontour": [
           {
            "colorbar": {
             "outlinewidth": 0,
             "ticks": ""
            },
            "colorscale": [
             [
              0,
              "#0d0887"
             ],
             [
              0.1111111111111111,
              "#46039f"
             ],
             [
              0.2222222222222222,
              "#7201a8"
             ],
             [
              0.3333333333333333,
              "#9c179e"
             ],
             [
              0.4444444444444444,
              "#bd3786"
             ],
             [
              0.5555555555555556,
              "#d8576b"
             ],
             [
              0.6666666666666666,
              "#ed7953"
             ],
             [
              0.7777777777777778,
              "#fb9f3a"
             ],
             [
              0.8888888888888888,
              "#fdca26"
             ],
             [
              1,
              "#f0f921"
             ]
            ],
            "type": "histogram2dcontour"
           }
          ],
          "mesh3d": [
           {
            "colorbar": {
             "outlinewidth": 0,
             "ticks": ""
            },
            "type": "mesh3d"
           }
          ],
          "parcoords": [
           {
            "line": {
             "colorbar": {
              "outlinewidth": 0,
              "ticks": ""
             }
            },
            "type": "parcoords"
           }
          ],
          "pie": [
           {
            "automargin": true,
            "type": "pie"
           }
          ],
          "scatter": [
           {
            "fillpattern": {
             "fillmode": "overlay",
             "size": 10,
             "solidity": 0.2
            },
            "type": "scatter"
           }
          ],
          "scatter3d": [
           {
            "line": {
             "colorbar": {
              "outlinewidth": 0,
              "ticks": ""
             }
            },
            "marker": {
             "colorbar": {
              "outlinewidth": 0,
              "ticks": ""
             }
            },
            "type": "scatter3d"
           }
          ],
          "scattercarpet": [
           {
            "marker": {
             "colorbar": {
              "outlinewidth": 0,
              "ticks": ""
             }
            },
            "type": "scattercarpet"
           }
          ],
          "scattergeo": [
           {
            "marker": {
             "colorbar": {
              "outlinewidth": 0,
              "ticks": ""
             }
            },
            "type": "scattergeo"
           }
          ],
          "scattergl": [
           {
            "marker": {
             "colorbar": {
              "outlinewidth": 0,
              "ticks": ""
             }
            },
            "type": "scattergl"
           }
          ],
          "scattermapbox": [
           {
            "marker": {
             "colorbar": {
              "outlinewidth": 0,
              "ticks": ""
             }
            },
            "type": "scattermapbox"
           }
          ],
          "scatterpolar": [
           {
            "marker": {
             "colorbar": {
              "outlinewidth": 0,
              "ticks": ""
             }
            },
            "type": "scatterpolar"
           }
          ],
          "scatterpolargl": [
           {
            "marker": {
             "colorbar": {
              "outlinewidth": 0,
              "ticks": ""
             }
            },
            "type": "scatterpolargl"
           }
          ],
          "scatterternary": [
           {
            "marker": {
             "colorbar": {
              "outlinewidth": 0,
              "ticks": ""
             }
            },
            "type": "scatterternary"
           }
          ],
          "surface": [
           {
            "colorbar": {
             "outlinewidth": 0,
             "ticks": ""
            },
            "colorscale": [
             [
              0,
              "#0d0887"
             ],
             [
              0.1111111111111111,
              "#46039f"
             ],
             [
              0.2222222222222222,
              "#7201a8"
             ],
             [
              0.3333333333333333,
              "#9c179e"
             ],
             [
              0.4444444444444444,
              "#bd3786"
             ],
             [
              0.5555555555555556,
              "#d8576b"
             ],
             [
              0.6666666666666666,
              "#ed7953"
             ],
             [
              0.7777777777777778,
              "#fb9f3a"
             ],
             [
              0.8888888888888888,
              "#fdca26"
             ],
             [
              1,
              "#f0f921"
             ]
            ],
            "type": "surface"
           }
          ],
          "table": [
           {
            "cells": {
             "fill": {
              "color": "#EBF0F8"
             },
             "line": {
              "color": "white"
             }
            },
            "header": {
             "fill": {
              "color": "#C8D4E3"
             },
             "line": {
              "color": "white"
             }
            },
            "type": "table"
           }
          ]
         },
         "layout": {
          "annotationdefaults": {
           "arrowcolor": "#2a3f5f",
           "arrowhead": 0,
           "arrowwidth": 1
          },
          "autotypenumbers": "strict",
          "coloraxis": {
           "colorbar": {
            "outlinewidth": 0,
            "ticks": ""
           }
          },
          "colorscale": {
           "diverging": [
            [
             0,
             "#8e0152"
            ],
            [
             0.1,
             "#c51b7d"
            ],
            [
             0.2,
             "#de77ae"
            ],
            [
             0.3,
             "#f1b6da"
            ],
            [
             0.4,
             "#fde0ef"
            ],
            [
             0.5,
             "#f7f7f7"
            ],
            [
             0.6,
             "#e6f5d0"
            ],
            [
             0.7,
             "#b8e186"
            ],
            [
             0.8,
             "#7fbc41"
            ],
            [
             0.9,
             "#4d9221"
            ],
            [
             1,
             "#276419"
            ]
           ],
           "sequential": [
            [
             0,
             "#0d0887"
            ],
            [
             0.1111111111111111,
             "#46039f"
            ],
            [
             0.2222222222222222,
             "#7201a8"
            ],
            [
             0.3333333333333333,
             "#9c179e"
            ],
            [
             0.4444444444444444,
             "#bd3786"
            ],
            [
             0.5555555555555556,
             "#d8576b"
            ],
            [
             0.6666666666666666,
             "#ed7953"
            ],
            [
             0.7777777777777778,
             "#fb9f3a"
            ],
            [
             0.8888888888888888,
             "#fdca26"
            ],
            [
             1,
             "#f0f921"
            ]
           ],
           "sequentialminus": [
            [
             0,
             "#0d0887"
            ],
            [
             0.1111111111111111,
             "#46039f"
            ],
            [
             0.2222222222222222,
             "#7201a8"
            ],
            [
             0.3333333333333333,
             "#9c179e"
            ],
            [
             0.4444444444444444,
             "#bd3786"
            ],
            [
             0.5555555555555556,
             "#d8576b"
            ],
            [
             0.6666666666666666,
             "#ed7953"
            ],
            [
             0.7777777777777778,
             "#fb9f3a"
            ],
            [
             0.8888888888888888,
             "#fdca26"
            ],
            [
             1,
             "#f0f921"
            ]
           ]
          },
          "colorway": [
           "#636efa",
           "#EF553B",
           "#00cc96",
           "#ab63fa",
           "#FFA15A",
           "#19d3f3",
           "#FF6692",
           "#B6E880",
           "#FF97FF",
           "#FECB52"
          ],
          "font": {
           "color": "#2a3f5f"
          },
          "geo": {
           "bgcolor": "white",
           "lakecolor": "white",
           "landcolor": "#E5ECF6",
           "showlakes": true,
           "showland": true,
           "subunitcolor": "white"
          },
          "hoverlabel": {
           "align": "left"
          },
          "hovermode": "closest",
          "mapbox": {
           "style": "light"
          },
          "paper_bgcolor": "white",
          "plot_bgcolor": "#E5ECF6",
          "polar": {
           "angularaxis": {
            "gridcolor": "white",
            "linecolor": "white",
            "ticks": ""
           },
           "bgcolor": "#E5ECF6",
           "radialaxis": {
            "gridcolor": "white",
            "linecolor": "white",
            "ticks": ""
           }
          },
          "scene": {
           "xaxis": {
            "backgroundcolor": "#E5ECF6",
            "gridcolor": "white",
            "gridwidth": 2,
            "linecolor": "white",
            "showbackground": true,
            "ticks": "",
            "zerolinecolor": "white"
           },
           "yaxis": {
            "backgroundcolor": "#E5ECF6",
            "gridcolor": "white",
            "gridwidth": 2,
            "linecolor": "white",
            "showbackground": true,
            "ticks": "",
            "zerolinecolor": "white"
           },
           "zaxis": {
            "backgroundcolor": "#E5ECF6",
            "gridcolor": "white",
            "gridwidth": 2,
            "linecolor": "white",
            "showbackground": true,
            "ticks": "",
            "zerolinecolor": "white"
           }
          },
          "shapedefaults": {
           "line": {
            "color": "#2a3f5f"
           }
          },
          "ternary": {
           "aaxis": {
            "gridcolor": "white",
            "linecolor": "white",
            "ticks": ""
           },
           "baxis": {
            "gridcolor": "white",
            "linecolor": "white",
            "ticks": ""
           },
           "bgcolor": "#E5ECF6",
           "caxis": {
            "gridcolor": "white",
            "linecolor": "white",
            "ticks": ""
           }
          },
          "title": {
           "x": 0.05
          },
          "xaxis": {
           "automargin": true,
           "gridcolor": "white",
           "linecolor": "white",
           "ticks": "",
           "title": {
            "standoff": 15
           },
           "zerolinecolor": "white",
           "zerolinewidth": 2
          },
          "yaxis": {
           "automargin": true,
           "gridcolor": "white",
           "linecolor": "white",
           "ticks": "",
           "title": {
            "standoff": 15
           },
           "zerolinecolor": "white",
           "zerolinewidth": 2
          }
         }
        }
       }
      },
      "text/html": [
       "<div>                            <div id=\"72d50401-be08-42fd-83b7-ce132de1d703\" class=\"plotly-graph-div\" style=\"height:525px; width:100%;\"></div>            <script type=\"text/javascript\">                require([\"plotly\"], function(Plotly) {                    window.PLOTLYENV=window.PLOTLYENV || {};                                    if (document.getElementById(\"72d50401-be08-42fd-83b7-ce132de1d703\")) {                    Plotly.newPlot(                        \"72d50401-be08-42fd-83b7-ce132de1d703\",                        [{\"branchvalues\":\"total\",\"customdata\":[[6.42],[9.59],[7.47],[8.72],[9.83],[17.83],[19.05],[19.9],[12.69],[24.39],[16.69],[10.29],[8.05],[6.83],[10.93],[11.97],[13.45],[4.71],[9.33],[11.98],[42.68],[42.95],[31.1],[23.56],[13.7],[5.9],[1.32],[6.7],[3.01],[4.05],[56.0],[32.42],[67.41],[36.61],[39.04],[11.61],[19.94],[12.94],[13.54],[13.57],[757.92],[986.21],[744.01],[1015.45],[448.89],[23.59],[39.83],[37.19],[34.99],[915.41],[42.95],[53.7],[39.84],[1030.81],[46.82],[789.5],[35.43],[131.63],[85.16999999999999],[1027.43],[568.52],[39.04]],\"domain\":{\"x\":[0.0,1.0],\"y\":[0.0,1.0]},\"hovertemplate\":\"labels=%{label}<br>Yield (Quintal/ Hectare) =%{customdata[0]}<br>parent=%{parent}<br>id=%{id}<extra></extra>\",\"ids\":[\"Andhra Pradesh/ARHAR\",\"Gujarat/ARHAR\",\"Karnataka/ARHAR\",\"Maharashtra/ARHAR\",\"Uttar Pradesh/ARHAR\",\"Andhra Pradesh/COTTON\",\"Gujarat/COTTON\",\"Haryana/COTTON\",\"Maharashtra/COTTON\",\"Punjab/COTTON\",\"Andhra Pradesh/GRAM\",\"Madhya Pradesh/GRAM\",\"Maharashtra/GRAM\",\"Rajasthan/GRAM\",\"Uttar Pradesh/GRAM\",\"Andhra Pradesh/GROUNDNUT\",\"Gujarat/GROUNDNUT\",\"Karnataka/GROUNDNUT\",\"Maharashtra/GROUNDNUT\",\"Tamil Nadu/GROUNDNUT\",\"Andhra Pradesh/MAIZE\",\"Bihar/MAIZE\",\"Karnataka/MAIZE\",\"Rajasthan/MAIZE\",\"Uttar Pradesh/MAIZE\",\"Andhra Pradesh/MOONG\",\"Karnataka/MOONG\",\"Maharashtra/MOONG\",\"Orissa/MOONG\",\"Rajasthan/MOONG\",\"Andhra Pradesh/PADDY\",\"Orissa/PADDY\",\"Punjab/PADDY\",\"Uttar Pradesh/PADDY\",\"West Bengal/PADDY\",\"Gujarat/RAPESEED AND MUSTARD\",\"Haryana/RAPESEED AND MUSTARD\",\"Madhya Pradesh/RAPESEED AND MUSTARD\",\"Rajasthan/RAPESEED AND MUSTARD\",\"Uttar Pradesh/RAPESEED AND MUSTARD\",\"Andhra Pradesh/SUGARCANE\",\"Karnataka/SUGARCANE\",\"Maharashtra/SUGARCANE\",\"Tamil Nadu/SUGARCANE\",\"Uttar Pradesh/SUGARCANE\",\"Madhya Pradesh/WHEAT\",\"Punjab/WHEAT\",\"Rajasthan/WHEAT\",\"Uttar Pradesh/WHEAT\",\"Andhra Pradesh\",\"Bihar\",\"Gujarat\",\"Haryana\",\"Karnataka\",\"Madhya Pradesh\",\"Maharashtra\",\"Orissa\",\"Punjab\",\"Rajasthan\",\"Tamil Nadu\",\"Uttar Pradesh\",\"West Bengal\"],\"labels\":[\"ARHAR\",\"ARHAR\",\"ARHAR\",\"ARHAR\",\"ARHAR\",\"COTTON\",\"COTTON\",\"COTTON\",\"COTTON\",\"COTTON\",\"GRAM\",\"GRAM\",\"GRAM\",\"GRAM\",\"GRAM\",\"GROUNDNUT\",\"GROUNDNUT\",\"GROUNDNUT\",\"GROUNDNUT\",\"GROUNDNUT\",\"MAIZE\",\"MAIZE\",\"MAIZE\",\"MAIZE\",\"MAIZE\",\"MOONG\",\"MOONG\",\"MOONG\",\"MOONG\",\"MOONG\",\"PADDY\",\"PADDY\",\"PADDY\",\"PADDY\",\"PADDY\",\"RAPESEED AND MUSTARD\",\"RAPESEED AND MUSTARD\",\"RAPESEED AND MUSTARD\",\"RAPESEED AND MUSTARD\",\"RAPESEED AND MUSTARD\",\"SUGARCANE\",\"SUGARCANE\",\"SUGARCANE\",\"SUGARCANE\",\"SUGARCANE\",\"WHEAT\",\"WHEAT\",\"WHEAT\",\"WHEAT\",\"Andhra Pradesh\",\"Bihar\",\"Gujarat\",\"Haryana\",\"Karnataka\",\"Madhya Pradesh\",\"Maharashtra\",\"Orissa\",\"Punjab\",\"Rajasthan\",\"Tamil Nadu\",\"Uttar Pradesh\",\"West Bengal\"],\"name\":\"\",\"parents\":[\"Andhra Pradesh\",\"Gujarat\",\"Karnataka\",\"Maharashtra\",\"Uttar Pradesh\",\"Andhra Pradesh\",\"Gujarat\",\"Haryana\",\"Maharashtra\",\"Punjab\",\"Andhra Pradesh\",\"Madhya Pradesh\",\"Maharashtra\",\"Rajasthan\",\"Uttar Pradesh\",\"Andhra Pradesh\",\"Gujarat\",\"Karnataka\",\"Maharashtra\",\"Tamil Nadu\",\"Andhra Pradesh\",\"Bihar\",\"Karnataka\",\"Rajasthan\",\"Uttar Pradesh\",\"Andhra Pradesh\",\"Karnataka\",\"Maharashtra\",\"Orissa\",\"Rajasthan\",\"Andhra Pradesh\",\"Orissa\",\"Punjab\",\"Uttar Pradesh\",\"West Bengal\",\"Gujarat\",\"Haryana\",\"Madhya Pradesh\",\"Rajasthan\",\"Uttar Pradesh\",\"Andhra Pradesh\",\"Karnataka\",\"Maharashtra\",\"Tamil Nadu\",\"Uttar Pradesh\",\"Madhya Pradesh\",\"Punjab\",\"Rajasthan\",\"Uttar Pradesh\",\"\",\"\",\"\",\"\",\"\",\"\",\"\",\"\",\"\",\"\",\"\",\"\",\"\"],\"values\":[6.42,9.59,7.47,8.72,9.83,17.83,19.05,19.9,12.69,24.39,16.69,10.29,8.05,6.83,10.93,11.97,13.45,4.71,9.33,11.98,42.68,42.95,31.1,23.56,13.7,5.9,1.32,6.7,3.01,4.05,56.0,32.42,67.41,36.61,39.04,11.61,19.94,12.94,13.54,13.57,757.92,986.21,744.01,1015.45,448.89,23.59,39.83,37.19,34.99,915.41,42.95,53.7,39.84,1030.81,46.82,789.5,35.43,131.63,85.16999999999999,1027.43,568.52,39.04],\"type\":\"sunburst\"}],                        {\"template\":{\"data\":{\"histogram2dcontour\":[{\"type\":\"histogram2dcontour\",\"colorbar\":{\"outlinewidth\":0,\"ticks\":\"\"},\"colorscale\":[[0.0,\"#0d0887\"],[0.1111111111111111,\"#46039f\"],[0.2222222222222222,\"#7201a8\"],[0.3333333333333333,\"#9c179e\"],[0.4444444444444444,\"#bd3786\"],[0.5555555555555556,\"#d8576b\"],[0.6666666666666666,\"#ed7953\"],[0.7777777777777778,\"#fb9f3a\"],[0.8888888888888888,\"#fdca26\"],[1.0,\"#f0f921\"]]}],\"choropleth\":[{\"type\":\"choropleth\",\"colorbar\":{\"outlinewidth\":0,\"ticks\":\"\"}}],\"histogram2d\":[{\"type\":\"histogram2d\",\"colorbar\":{\"outlinewidth\":0,\"ticks\":\"\"},\"colorscale\":[[0.0,\"#0d0887\"],[0.1111111111111111,\"#46039f\"],[0.2222222222222222,\"#7201a8\"],[0.3333333333333333,\"#9c179e\"],[0.4444444444444444,\"#bd3786\"],[0.5555555555555556,\"#d8576b\"],[0.6666666666666666,\"#ed7953\"],[0.7777777777777778,\"#fb9f3a\"],[0.8888888888888888,\"#fdca26\"],[1.0,\"#f0f921\"]]}],\"heatmap\":[{\"type\":\"heatmap\",\"colorbar\":{\"outlinewidth\":0,\"ticks\":\"\"},\"colorscale\":[[0.0,\"#0d0887\"],[0.1111111111111111,\"#46039f\"],[0.2222222222222222,\"#7201a8\"],[0.3333333333333333,\"#9c179e\"],[0.4444444444444444,\"#bd3786\"],[0.5555555555555556,\"#d8576b\"],[0.6666666666666666,\"#ed7953\"],[0.7777777777777778,\"#fb9f3a\"],[0.8888888888888888,\"#fdca26\"],[1.0,\"#f0f921\"]]}],\"heatmapgl\":[{\"type\":\"heatmapgl\",\"colorbar\":{\"outlinewidth\":0,\"ticks\":\"\"},\"colorscale\":[[0.0,\"#0d0887\"],[0.1111111111111111,\"#46039f\"],[0.2222222222222222,\"#7201a8\"],[0.3333333333333333,\"#9c179e\"],[0.4444444444444444,\"#bd3786\"],[0.5555555555555556,\"#d8576b\"],[0.6666666666666666,\"#ed7953\"],[0.7777777777777778,\"#fb9f3a\"],[0.8888888888888888,\"#fdca26\"],[1.0,\"#f0f921\"]]}],\"contourcarpet\":[{\"type\":\"contourcarpet\",\"colorbar\":{\"outlinewidth\":0,\"ticks\":\"\"}}],\"contour\":[{\"type\":\"contour\",\"colorbar\":{\"outlinewidth\":0,\"ticks\":\"\"},\"colorscale\":[[0.0,\"#0d0887\"],[0.1111111111111111,\"#46039f\"],[0.2222222222222222,\"#7201a8\"],[0.3333333333333333,\"#9c179e\"],[0.4444444444444444,\"#bd3786\"],[0.5555555555555556,\"#d8576b\"],[0.6666666666666666,\"#ed7953\"],[0.7777777777777778,\"#fb9f3a\"],[0.8888888888888888,\"#fdca26\"],[1.0,\"#f0f921\"]]}],\"surface\":[{\"type\":\"surface\",\"colorbar\":{\"outlinewidth\":0,\"ticks\":\"\"},\"colorscale\":[[0.0,\"#0d0887\"],[0.1111111111111111,\"#46039f\"],[0.2222222222222222,\"#7201a8\"],[0.3333333333333333,\"#9c179e\"],[0.4444444444444444,\"#bd3786\"],[0.5555555555555556,\"#d8576b\"],[0.6666666666666666,\"#ed7953\"],[0.7777777777777778,\"#fb9f3a\"],[0.8888888888888888,\"#fdca26\"],[1.0,\"#f0f921\"]]}],\"mesh3d\":[{\"type\":\"mesh3d\",\"colorbar\":{\"outlinewidth\":0,\"ticks\":\"\"}}],\"scatter\":[{\"fillpattern\":{\"fillmode\":\"overlay\",\"size\":10,\"solidity\":0.2},\"type\":\"scatter\"}],\"parcoords\":[{\"type\":\"parcoords\",\"line\":{\"colorbar\":{\"outlinewidth\":0,\"ticks\":\"\"}}}],\"scatterpolargl\":[{\"type\":\"scatterpolargl\",\"marker\":{\"colorbar\":{\"outlinewidth\":0,\"ticks\":\"\"}}}],\"bar\":[{\"error_x\":{\"color\":\"#2a3f5f\"},\"error_y\":{\"color\":\"#2a3f5f\"},\"marker\":{\"line\":{\"color\":\"#E5ECF6\",\"width\":0.5},\"pattern\":{\"fillmode\":\"overlay\",\"size\":10,\"solidity\":0.2}},\"type\":\"bar\"}],\"scattergeo\":[{\"type\":\"scattergeo\",\"marker\":{\"colorbar\":{\"outlinewidth\":0,\"ticks\":\"\"}}}],\"scatterpolar\":[{\"type\":\"scatterpolar\",\"marker\":{\"colorbar\":{\"outlinewidth\":0,\"ticks\":\"\"}}}],\"histogram\":[{\"marker\":{\"pattern\":{\"fillmode\":\"overlay\",\"size\":10,\"solidity\":0.2}},\"type\":\"histogram\"}],\"scattergl\":[{\"type\":\"scattergl\",\"marker\":{\"colorbar\":{\"outlinewidth\":0,\"ticks\":\"\"}}}],\"scatter3d\":[{\"type\":\"scatter3d\",\"line\":{\"colorbar\":{\"outlinewidth\":0,\"ticks\":\"\"}},\"marker\":{\"colorbar\":{\"outlinewidth\":0,\"ticks\":\"\"}}}],\"scattermapbox\":[{\"type\":\"scattermapbox\",\"marker\":{\"colorbar\":{\"outlinewidth\":0,\"ticks\":\"\"}}}],\"scatterternary\":[{\"type\":\"scatterternary\",\"marker\":{\"colorbar\":{\"outlinewidth\":0,\"ticks\":\"\"}}}],\"scattercarpet\":[{\"type\":\"scattercarpet\",\"marker\":{\"colorbar\":{\"outlinewidth\":0,\"ticks\":\"\"}}}],\"carpet\":[{\"aaxis\":{\"endlinecolor\":\"#2a3f5f\",\"gridcolor\":\"white\",\"linecolor\":\"white\",\"minorgridcolor\":\"white\",\"startlinecolor\":\"#2a3f5f\"},\"baxis\":{\"endlinecolor\":\"#2a3f5f\",\"gridcolor\":\"white\",\"linecolor\":\"white\",\"minorgridcolor\":\"white\",\"startlinecolor\":\"#2a3f5f\"},\"type\":\"carpet\"}],\"table\":[{\"cells\":{\"fill\":{\"color\":\"#EBF0F8\"},\"line\":{\"color\":\"white\"}},\"header\":{\"fill\":{\"color\":\"#C8D4E3\"},\"line\":{\"color\":\"white\"}},\"type\":\"table\"}],\"barpolar\":[{\"marker\":{\"line\":{\"color\":\"#E5ECF6\",\"width\":0.5},\"pattern\":{\"fillmode\":\"overlay\",\"size\":10,\"solidity\":0.2}},\"type\":\"barpolar\"}],\"pie\":[{\"automargin\":true,\"type\":\"pie\"}]},\"layout\":{\"autotypenumbers\":\"strict\",\"colorway\":[\"#636efa\",\"#EF553B\",\"#00cc96\",\"#ab63fa\",\"#FFA15A\",\"#19d3f3\",\"#FF6692\",\"#B6E880\",\"#FF97FF\",\"#FECB52\"],\"font\":{\"color\":\"#2a3f5f\"},\"hovermode\":\"closest\",\"hoverlabel\":{\"align\":\"left\"},\"paper_bgcolor\":\"white\",\"plot_bgcolor\":\"#E5ECF6\",\"polar\":{\"bgcolor\":\"#E5ECF6\",\"angularaxis\":{\"gridcolor\":\"white\",\"linecolor\":\"white\",\"ticks\":\"\"},\"radialaxis\":{\"gridcolor\":\"white\",\"linecolor\":\"white\",\"ticks\":\"\"}},\"ternary\":{\"bgcolor\":\"#E5ECF6\",\"aaxis\":{\"gridcolor\":\"white\",\"linecolor\":\"white\",\"ticks\":\"\"},\"baxis\":{\"gridcolor\":\"white\",\"linecolor\":\"white\",\"ticks\":\"\"},\"caxis\":{\"gridcolor\":\"white\",\"linecolor\":\"white\",\"ticks\":\"\"}},\"coloraxis\":{\"colorbar\":{\"outlinewidth\":0,\"ticks\":\"\"}},\"colorscale\":{\"sequential\":[[0.0,\"#0d0887\"],[0.1111111111111111,\"#46039f\"],[0.2222222222222222,\"#7201a8\"],[0.3333333333333333,\"#9c179e\"],[0.4444444444444444,\"#bd3786\"],[0.5555555555555556,\"#d8576b\"],[0.6666666666666666,\"#ed7953\"],[0.7777777777777778,\"#fb9f3a\"],[0.8888888888888888,\"#fdca26\"],[1.0,\"#f0f921\"]],\"sequentialminus\":[[0.0,\"#0d0887\"],[0.1111111111111111,\"#46039f\"],[0.2222222222222222,\"#7201a8\"],[0.3333333333333333,\"#9c179e\"],[0.4444444444444444,\"#bd3786\"],[0.5555555555555556,\"#d8576b\"],[0.6666666666666666,\"#ed7953\"],[0.7777777777777778,\"#fb9f3a\"],[0.8888888888888888,\"#fdca26\"],[1.0,\"#f0f921\"]],\"diverging\":[[0,\"#8e0152\"],[0.1,\"#c51b7d\"],[0.2,\"#de77ae\"],[0.3,\"#f1b6da\"],[0.4,\"#fde0ef\"],[0.5,\"#f7f7f7\"],[0.6,\"#e6f5d0\"],[0.7,\"#b8e186\"],[0.8,\"#7fbc41\"],[0.9,\"#4d9221\"],[1,\"#276419\"]]},\"xaxis\":{\"gridcolor\":\"white\",\"linecolor\":\"white\",\"ticks\":\"\",\"title\":{\"standoff\":15},\"zerolinecolor\":\"white\",\"automargin\":true,\"zerolinewidth\":2},\"yaxis\":{\"gridcolor\":\"white\",\"linecolor\":\"white\",\"ticks\":\"\",\"title\":{\"standoff\":15},\"zerolinecolor\":\"white\",\"automargin\":true,\"zerolinewidth\":2},\"scene\":{\"xaxis\":{\"backgroundcolor\":\"#E5ECF6\",\"gridcolor\":\"white\",\"linecolor\":\"white\",\"showbackground\":true,\"ticks\":\"\",\"zerolinecolor\":\"white\",\"gridwidth\":2},\"yaxis\":{\"backgroundcolor\":\"#E5ECF6\",\"gridcolor\":\"white\",\"linecolor\":\"white\",\"showbackground\":true,\"ticks\":\"\",\"zerolinecolor\":\"white\",\"gridwidth\":2},\"zaxis\":{\"backgroundcolor\":\"#E5ECF6\",\"gridcolor\":\"white\",\"linecolor\":\"white\",\"showbackground\":true,\"ticks\":\"\",\"zerolinecolor\":\"white\",\"gridwidth\":2}},\"shapedefaults\":{\"line\":{\"color\":\"#2a3f5f\"}},\"annotationdefaults\":{\"arrowcolor\":\"#2a3f5f\",\"arrowhead\":0,\"arrowwidth\":1},\"geo\":{\"bgcolor\":\"white\",\"landcolor\":\"#E5ECF6\",\"subunitcolor\":\"white\",\"showland\":true,\"showlakes\":true,\"lakecolor\":\"white\"},\"title\":{\"x\":0.05},\"mapbox\":{\"style\":\"light\"}}},\"legend\":{\"tracegroupgap\":0},\"margin\":{\"t\":60}},                        {\"responsive\": true}                    ).then(function(){\n",
       "                            \n",
       "var gd = document.getElementById('72d50401-be08-42fd-83b7-ce132de1d703');\n",
       "var x = new MutationObserver(function (mutations, observer) {{\n",
       "        var display = window.getComputedStyle(gd).display;\n",
       "        if (!display || display === 'none') {{\n",
       "            console.log([gd, 'removed!']);\n",
       "            Plotly.purge(gd);\n",
       "            observer.disconnect();\n",
       "        }}\n",
       "}});\n",
       "\n",
       "// Listen for the removal of the full notebook cells\n",
       "var notebookContainer = gd.closest('#notebook-container');\n",
       "if (notebookContainer) {{\n",
       "    x.observe(notebookContainer, {childList: true});\n",
       "}}\n",
       "\n",
       "// Listen for the clearing of the current output cell\n",
       "var outputEl = gd.closest('.output');\n",
       "if (outputEl) {{\n",
       "    x.observe(outputEl, {childList: true});\n",
       "}}\n",
       "\n",
       "                        })                };                });            </script>        </div>"
      ]
     },
     "metadata": {},
     "output_type": "display_data"
    },
    {
     "data": {
      "text/plain": [
       "<Figure size 600x600 with 0 Axes>"
      ]
     },
     "metadata": {},
     "output_type": "display_data"
    }
   ],
   "source": [
    "plt.figure(figsize=(6,6))\n",
    "o=px.sunburst(df1,path=['State','Crop'],values='Yield (Quintal/ Hectare) ',\n",
    "              hover_data=['Yield (Quintal/ Hectare) '])\n",
    "o.show()"
   ]
  },
  {
   "cell_type": "code",
   "execution_count": 918,
   "id": "4b6b4840",
   "metadata": {},
   "outputs": [],
   "source": [
    "# Data Transformation: Transposing and Cleaning Crop Production Dataset."
   ]
  },
  {
   "cell_type": "code",
   "execution_count": 919,
   "id": "4d5c657a",
   "metadata": {},
   "outputs": [
    {
     "data": {
      "text/html": [
       "<div>\n",
       "<style scoped>\n",
       "    .dataframe tbody tr th:only-of-type {\n",
       "        vertical-align: middle;\n",
       "    }\n",
       "\n",
       "    .dataframe tbody tr th {\n",
       "        vertical-align: top;\n",
       "    }\n",
       "\n",
       "    .dataframe thead th {\n",
       "        text-align: right;\n",
       "    }\n",
       "</style>\n",
       "<table border=\"1\" class=\"dataframe\">\n",
       "  <thead>\n",
       "    <tr style=\"text-align: right;\">\n",
       "      <th></th>\n",
       "      <th>Rice</th>\n",
       "      <th>Wheat</th>\n",
       "      <th>Coarse Cereals</th>\n",
       "      <th>Pulses</th>\n",
       "      <th>Vegetables</th>\n",
       "      <th>Fruits</th>\n",
       "      <th>Milk</th>\n",
       "      <th>Eggs, Fish and Meat</th>\n",
       "      <th>Oilseeds</th>\n",
       "      <th>Sugarcane</th>\n",
       "      <th>Fibers</th>\n",
       "      <th>All Agriculture</th>\n",
       "    </tr>\n",
       "  </thead>\n",
       "  <tbody>\n",
       "    <tr>\n",
       "      <th>2004-05</th>\n",
       "      <td>100.0</td>\n",
       "      <td>100.0</td>\n",
       "      <td>100.0</td>\n",
       "      <td>100.0</td>\n",
       "      <td>100.0</td>\n",
       "      <td>100.0</td>\n",
       "      <td>100.0</td>\n",
       "      <td>100.0</td>\n",
       "      <td>100.0</td>\n",
       "      <td>100.0</td>\n",
       "      <td>100.0</td>\n",
       "      <td>100.0</td>\n",
       "    </tr>\n",
       "    <tr>\n",
       "      <th>2005-06</th>\n",
       "      <td>101.0</td>\n",
       "      <td>101.0</td>\n",
       "      <td>107.0</td>\n",
       "      <td>108.0</td>\n",
       "      <td>109.0</td>\n",
       "      <td>99.0</td>\n",
       "      <td>97.0</td>\n",
       "      <td>102.0</td>\n",
       "      <td>86.0</td>\n",
       "      <td>96.0</td>\n",
       "      <td>92.0</td>\n",
       "      <td>99.0</td>\n",
       "    </tr>\n",
       "    <tr>\n",
       "      <th>2006-07</th>\n",
       "      <td>99.0</td>\n",
       "      <td>112.0</td>\n",
       "      <td>110.0</td>\n",
       "      <td>134.0</td>\n",
       "      <td>103.0</td>\n",
       "      <td>99.0</td>\n",
       "      <td>98.0</td>\n",
       "      <td>101.0</td>\n",
       "      <td>85.0</td>\n",
       "      <td>91.0</td>\n",
       "      <td>91.0</td>\n",
       "      <td>101.0</td>\n",
       "    </tr>\n",
       "    <tr>\n",
       "      <th>2007-08</th>\n",
       "      <td>105.0</td>\n",
       "      <td>115.0</td>\n",
       "      <td>115.0</td>\n",
       "      <td>124.0</td>\n",
       "      <td>118.0</td>\n",
       "      <td>98.0</td>\n",
       "      <td>98.0</td>\n",
       "      <td>100.0</td>\n",
       "      <td>97.0</td>\n",
       "      <td>87.0</td>\n",
       "      <td>96.0</td>\n",
       "      <td>104.0</td>\n",
       "    </tr>\n",
       "    <tr>\n",
       "      <th>2008-09</th>\n",
       "      <td>112.0</td>\n",
       "      <td>117.0</td>\n",
       "      <td>113.0</td>\n",
       "      <td>124.0</td>\n",
       "      <td>113.0</td>\n",
       "      <td>102.0</td>\n",
       "      <td>98.0</td>\n",
       "      <td>99.0</td>\n",
       "      <td>104.0</td>\n",
       "      <td>80.0</td>\n",
       "      <td>109.0</td>\n",
       "      <td>106.0</td>\n",
       "    </tr>\n",
       "    <tr>\n",
       "      <th>2009-10</th>\n",
       "      <td>121.0</td>\n",
       "      <td>127.0</td>\n",
       "      <td>123.0</td>\n",
       "      <td>146.0</td>\n",
       "      <td>124.0</td>\n",
       "      <td>104.0</td>\n",
       "      <td>112.0</td>\n",
       "      <td>116.0</td>\n",
       "      <td>103.0</td>\n",
       "      <td>81.0</td>\n",
       "      <td>107.0</td>\n",
       "      <td>115.0</td>\n",
       "    </tr>\n",
       "    <tr>\n",
       "      <th>2010-11</th>\n",
       "      <td>117.0</td>\n",
       "      <td>120.0</td>\n",
       "      <td>122.0</td>\n",
       "      <td>137.0</td>\n",
       "      <td>128.0</td>\n",
       "      <td>114.0</td>\n",
       "      <td>123.0</td>\n",
       "      <td>133.0</td>\n",
       "      <td>99.0</td>\n",
       "      <td>109.0</td>\n",
       "      <td>138.0</td>\n",
       "      <td>123.0</td>\n",
       "    </tr>\n",
       "    <tr>\n",
       "      <th>2011-12</th>\n",
       "      <td>110.0</td>\n",
       "      <td>108.0</td>\n",
       "      <td>136.0</td>\n",
       "      <td>129.0</td>\n",
       "      <td>115.0</td>\n",
       "      <td>119.0</td>\n",
       "      <td>124.0</td>\n",
       "      <td>137.0</td>\n",
       "      <td>102.0</td>\n",
       "      <td>107.0</td>\n",
       "      <td>140.0</td>\n",
       "      <td>122.0</td>\n",
       "    </tr>\n",
       "  </tbody>\n",
       "</table>\n",
       "</div>"
      ],
      "text/plain": [
       "          Rice  Wheat Coarse Cereals Pulses Vegetables  Fruits   Milk  \\\n",
       "2004-05  100.0  100.0          100.0  100.0       100.0  100.0  100.0   \n",
       "2005-06  101.0  101.0          107.0  108.0       109.0   99.0   97.0   \n",
       "2006-07   99.0  112.0          110.0  134.0       103.0   99.0   98.0   \n",
       "2007-08  105.0  115.0          115.0  124.0       118.0   98.0   98.0   \n",
       "2008-09  112.0  117.0          113.0  124.0       113.0  102.0   98.0   \n",
       "2009-10  121.0  127.0          123.0  146.0       124.0  104.0  112.0   \n",
       "2010-11  117.0  120.0          122.0  137.0       128.0  114.0  123.0   \n",
       "2011-12  110.0  108.0          136.0  129.0       115.0  119.0  124.0   \n",
       "\n",
       "        Eggs, Fish and Meat Oilseeds Sugarcane  Fibers All Agriculture  \n",
       "2004-05               100.0    100.0      100.0  100.0           100.0  \n",
       "2005-06               102.0     86.0       96.0   92.0            99.0  \n",
       "2006-07               101.0     85.0       91.0   91.0           101.0  \n",
       "2007-08               100.0     97.0       87.0   96.0           104.0  \n",
       "2008-09                99.0    104.0       80.0  109.0           106.0  \n",
       "2009-10               116.0    103.0       81.0  107.0           115.0  \n",
       "2010-11               133.0     99.0      109.0  138.0           123.0  \n",
       "2011-12               137.0    102.0      107.0  140.0           122.0  "
      ]
     },
     "execution_count": 919,
     "metadata": {},
     "output_type": "execute_result"
    }
   ],
   "source": [
    "df4t=df4.transpose()\n",
    "df4t.rename(columns=df4t.iloc[0],inplace= True)\n",
    "df4t=df4t[1:]\n",
    "df4t"
   ]
  },
  {
   "cell_type": "code",
   "execution_count": 920,
   "id": "56e1525b",
   "metadata": {},
   "outputs": [],
   "source": [
    "p=df4t.columns"
   ]
  },
  {
   "cell_type": "code",
   "execution_count": 921,
   "id": "1bb6eb85",
   "metadata": {},
   "outputs": [],
   "source": [
    "# Time Series Analysis: Crop Production Trends in India"
   ]
  },
  {
   "cell_type": "code",
   "execution_count": 922,
   "id": "74df6e7b",
   "metadata": {},
   "outputs": [
    {
     "data": {
      "application/vnd.plotly.v1+json": {
       "config": {
        "plotlyServerURL": "https://plot.ly"
       },
       "data": [
        {
         "hovertemplate": "variable=Rice<br>index=%{x}<br>value=%{y}<extra></extra>",
         "legendgroup": "Rice",
         "line": {
          "color": "#636efa",
          "dash": "solid"
         },
         "marker": {
          "symbol": "circle"
         },
         "mode": "lines+markers",
         "name": "Rice",
         "orientation": "v",
         "showlegend": true,
         "type": "scatter",
         "x": [
          "2004-05",
          "2005-06",
          "2006-07",
          "2007-08",
          "2008-09",
          "2009-10",
          "2010-11",
          "2011-12"
         ],
         "xaxis": "x",
         "y": [
          100,
          101,
          99,
          105,
          112,
          121,
          117,
          110
         ],
         "yaxis": "y"
        },
        {
         "hovertemplate": "variable=Wheat<br>index=%{x}<br>value=%{y}<extra></extra>",
         "legendgroup": "Wheat",
         "line": {
          "color": "#EF553B",
          "dash": "solid"
         },
         "marker": {
          "symbol": "circle"
         },
         "mode": "lines+markers",
         "name": "Wheat",
         "orientation": "v",
         "showlegend": true,
         "type": "scatter",
         "x": [
          "2004-05",
          "2005-06",
          "2006-07",
          "2007-08",
          "2008-09",
          "2009-10",
          "2010-11",
          "2011-12"
         ],
         "xaxis": "x",
         "y": [
          100,
          101,
          112,
          115,
          117,
          127,
          120,
          108
         ],
         "yaxis": "y"
        },
        {
         "hovertemplate": "variable=Coarse Cereals<br>index=%{x}<br>value=%{y}<extra></extra>",
         "legendgroup": "Coarse Cereals",
         "line": {
          "color": "#00cc96",
          "dash": "solid"
         },
         "marker": {
          "symbol": "circle"
         },
         "mode": "lines+markers",
         "name": "Coarse Cereals",
         "orientation": "v",
         "showlegend": true,
         "type": "scatter",
         "x": [
          "2004-05",
          "2005-06",
          "2006-07",
          "2007-08",
          "2008-09",
          "2009-10",
          "2010-11",
          "2011-12"
         ],
         "xaxis": "x",
         "y": [
          100,
          107,
          110,
          115,
          113,
          123,
          122,
          136
         ],
         "yaxis": "y"
        },
        {
         "hovertemplate": "variable=Pulses<br>index=%{x}<br>value=%{y}<extra></extra>",
         "legendgroup": "Pulses",
         "line": {
          "color": "#ab63fa",
          "dash": "solid"
         },
         "marker": {
          "symbol": "circle"
         },
         "mode": "lines+markers",
         "name": "Pulses",
         "orientation": "v",
         "showlegend": true,
         "type": "scatter",
         "x": [
          "2004-05",
          "2005-06",
          "2006-07",
          "2007-08",
          "2008-09",
          "2009-10",
          "2010-11",
          "2011-12"
         ],
         "xaxis": "x",
         "y": [
          100,
          108,
          134,
          124,
          124,
          146,
          137,
          129
         ],
         "yaxis": "y"
        },
        {
         "hovertemplate": "variable=Vegetables <br>index=%{x}<br>value=%{y}<extra></extra>",
         "legendgroup": "Vegetables ",
         "line": {
          "color": "#FFA15A",
          "dash": "solid"
         },
         "marker": {
          "symbol": "circle"
         },
         "mode": "lines+markers",
         "name": "Vegetables ",
         "orientation": "v",
         "showlegend": true,
         "type": "scatter",
         "x": [
          "2004-05",
          "2005-06",
          "2006-07",
          "2007-08",
          "2008-09",
          "2009-10",
          "2010-11",
          "2011-12"
         ],
         "xaxis": "x",
         "y": [
          100,
          109,
          103,
          118,
          113,
          124,
          128,
          115
         ],
         "yaxis": "y"
        },
        {
         "hovertemplate": "variable=Fruits<br>index=%{x}<br>value=%{y}<extra></extra>",
         "legendgroup": "Fruits",
         "line": {
          "color": "#19d3f3",
          "dash": "solid"
         },
         "marker": {
          "symbol": "circle"
         },
         "mode": "lines+markers",
         "name": "Fruits",
         "orientation": "v",
         "showlegend": true,
         "type": "scatter",
         "x": [
          "2004-05",
          "2005-06",
          "2006-07",
          "2007-08",
          "2008-09",
          "2009-10",
          "2010-11",
          "2011-12"
         ],
         "xaxis": "x",
         "y": [
          100,
          99,
          99,
          98,
          102,
          104,
          114,
          119
         ],
         "yaxis": "y"
        },
        {
         "hovertemplate": "variable=Milk<br>index=%{x}<br>value=%{y}<extra></extra>",
         "legendgroup": "Milk",
         "line": {
          "color": "#FF6692",
          "dash": "solid"
         },
         "marker": {
          "symbol": "circle"
         },
         "mode": "lines+markers",
         "name": "Milk",
         "orientation": "v",
         "showlegend": true,
         "type": "scatter",
         "x": [
          "2004-05",
          "2005-06",
          "2006-07",
          "2007-08",
          "2008-09",
          "2009-10",
          "2010-11",
          "2011-12"
         ],
         "xaxis": "x",
         "y": [
          100,
          97,
          98,
          98,
          98,
          112,
          123,
          124
         ],
         "yaxis": "y"
        },
        {
         "hovertemplate": "variable=Eggs, Fish and Meat<br>index=%{x}<br>value=%{y}<extra></extra>",
         "legendgroup": "Eggs, Fish and Meat",
         "line": {
          "color": "#B6E880",
          "dash": "solid"
         },
         "marker": {
          "symbol": "circle"
         },
         "mode": "lines+markers",
         "name": "Eggs, Fish and Meat",
         "orientation": "v",
         "showlegend": true,
         "type": "scatter",
         "x": [
          "2004-05",
          "2005-06",
          "2006-07",
          "2007-08",
          "2008-09",
          "2009-10",
          "2010-11",
          "2011-12"
         ],
         "xaxis": "x",
         "y": [
          100,
          102,
          101,
          100,
          99,
          116,
          133,
          137
         ],
         "yaxis": "y"
        },
        {
         "hovertemplate": "variable=Oilseeds<br>index=%{x}<br>value=%{y}<extra></extra>",
         "legendgroup": "Oilseeds",
         "line": {
          "color": "#FF97FF",
          "dash": "solid"
         },
         "marker": {
          "symbol": "circle"
         },
         "mode": "lines+markers",
         "name": "Oilseeds",
         "orientation": "v",
         "showlegend": true,
         "type": "scatter",
         "x": [
          "2004-05",
          "2005-06",
          "2006-07",
          "2007-08",
          "2008-09",
          "2009-10",
          "2010-11",
          "2011-12"
         ],
         "xaxis": "x",
         "y": [
          100,
          86,
          85,
          97,
          104,
          103,
          99,
          102
         ],
         "yaxis": "y"
        },
        {
         "hovertemplate": "variable=Sugarcane <br>index=%{x}<br>value=%{y}<extra></extra>",
         "legendgroup": "Sugarcane ",
         "line": {
          "color": "#FECB52",
          "dash": "solid"
         },
         "marker": {
          "symbol": "circle"
         },
         "mode": "lines+markers",
         "name": "Sugarcane ",
         "orientation": "v",
         "showlegend": true,
         "type": "scatter",
         "x": [
          "2004-05",
          "2005-06",
          "2006-07",
          "2007-08",
          "2008-09",
          "2009-10",
          "2010-11",
          "2011-12"
         ],
         "xaxis": "x",
         "y": [
          100,
          96,
          91,
          87,
          80,
          81,
          109,
          107
         ],
         "yaxis": "y"
        },
        {
         "hovertemplate": "variable=Fibers<br>index=%{x}<br>value=%{y}<extra></extra>",
         "legendgroup": "Fibers",
         "line": {
          "color": "#636efa",
          "dash": "solid"
         },
         "marker": {
          "symbol": "circle"
         },
         "mode": "lines+markers",
         "name": "Fibers",
         "orientation": "v",
         "showlegend": true,
         "type": "scatter",
         "x": [
          "2004-05",
          "2005-06",
          "2006-07",
          "2007-08",
          "2008-09",
          "2009-10",
          "2010-11",
          "2011-12"
         ],
         "xaxis": "x",
         "y": [
          100,
          92,
          91,
          96,
          109,
          107,
          138,
          140
         ],
         "yaxis": "y"
        },
        {
         "hovertemplate": "variable=All Agriculture<br>index=%{x}<br>value=%{y}<extra></extra>",
         "legendgroup": "All Agriculture",
         "line": {
          "color": "#EF553B",
          "dash": "solid"
         },
         "marker": {
          "symbol": "circle"
         },
         "mode": "lines+markers",
         "name": "All Agriculture",
         "orientation": "v",
         "showlegend": true,
         "type": "scatter",
         "x": [
          "2004-05",
          "2005-06",
          "2006-07",
          "2007-08",
          "2008-09",
          "2009-10",
          "2010-11",
          "2011-12"
         ],
         "xaxis": "x",
         "y": [
          100,
          99,
          101,
          104,
          106,
          115,
          123,
          122
         ],
         "yaxis": "y"
        }
       ],
       "layout": {
        "legend": {
         "title": {
          "text": "variable"
         },
         "tracegroupgap": 0
        },
        "margin": {
         "t": 60
        },
        "template": {
         "data": {
          "bar": [
           {
            "error_x": {
             "color": "#2a3f5f"
            },
            "error_y": {
             "color": "#2a3f5f"
            },
            "marker": {
             "line": {
              "color": "#E5ECF6",
              "width": 0.5
             },
             "pattern": {
              "fillmode": "overlay",
              "size": 10,
              "solidity": 0.2
             }
            },
            "type": "bar"
           }
          ],
          "barpolar": [
           {
            "marker": {
             "line": {
              "color": "#E5ECF6",
              "width": 0.5
             },
             "pattern": {
              "fillmode": "overlay",
              "size": 10,
              "solidity": 0.2
             }
            },
            "type": "barpolar"
           }
          ],
          "carpet": [
           {
            "aaxis": {
             "endlinecolor": "#2a3f5f",
             "gridcolor": "white",
             "linecolor": "white",
             "minorgridcolor": "white",
             "startlinecolor": "#2a3f5f"
            },
            "baxis": {
             "endlinecolor": "#2a3f5f",
             "gridcolor": "white",
             "linecolor": "white",
             "minorgridcolor": "white",
             "startlinecolor": "#2a3f5f"
            },
            "type": "carpet"
           }
          ],
          "choropleth": [
           {
            "colorbar": {
             "outlinewidth": 0,
             "ticks": ""
            },
            "type": "choropleth"
           }
          ],
          "contour": [
           {
            "colorbar": {
             "outlinewidth": 0,
             "ticks": ""
            },
            "colorscale": [
             [
              0,
              "#0d0887"
             ],
             [
              0.1111111111111111,
              "#46039f"
             ],
             [
              0.2222222222222222,
              "#7201a8"
             ],
             [
              0.3333333333333333,
              "#9c179e"
             ],
             [
              0.4444444444444444,
              "#bd3786"
             ],
             [
              0.5555555555555556,
              "#d8576b"
             ],
             [
              0.6666666666666666,
              "#ed7953"
             ],
             [
              0.7777777777777778,
              "#fb9f3a"
             ],
             [
              0.8888888888888888,
              "#fdca26"
             ],
             [
              1,
              "#f0f921"
             ]
            ],
            "type": "contour"
           }
          ],
          "contourcarpet": [
           {
            "colorbar": {
             "outlinewidth": 0,
             "ticks": ""
            },
            "type": "contourcarpet"
           }
          ],
          "heatmap": [
           {
            "colorbar": {
             "outlinewidth": 0,
             "ticks": ""
            },
            "colorscale": [
             [
              0,
              "#0d0887"
             ],
             [
              0.1111111111111111,
              "#46039f"
             ],
             [
              0.2222222222222222,
              "#7201a8"
             ],
             [
              0.3333333333333333,
              "#9c179e"
             ],
             [
              0.4444444444444444,
              "#bd3786"
             ],
             [
              0.5555555555555556,
              "#d8576b"
             ],
             [
              0.6666666666666666,
              "#ed7953"
             ],
             [
              0.7777777777777778,
              "#fb9f3a"
             ],
             [
              0.8888888888888888,
              "#fdca26"
             ],
             [
              1,
              "#f0f921"
             ]
            ],
            "type": "heatmap"
           }
          ],
          "heatmapgl": [
           {
            "colorbar": {
             "outlinewidth": 0,
             "ticks": ""
            },
            "colorscale": [
             [
              0,
              "#0d0887"
             ],
             [
              0.1111111111111111,
              "#46039f"
             ],
             [
              0.2222222222222222,
              "#7201a8"
             ],
             [
              0.3333333333333333,
              "#9c179e"
             ],
             [
              0.4444444444444444,
              "#bd3786"
             ],
             [
              0.5555555555555556,
              "#d8576b"
             ],
             [
              0.6666666666666666,
              "#ed7953"
             ],
             [
              0.7777777777777778,
              "#fb9f3a"
             ],
             [
              0.8888888888888888,
              "#fdca26"
             ],
             [
              1,
              "#f0f921"
             ]
            ],
            "type": "heatmapgl"
           }
          ],
          "histogram": [
           {
            "marker": {
             "pattern": {
              "fillmode": "overlay",
              "size": 10,
              "solidity": 0.2
             }
            },
            "type": "histogram"
           }
          ],
          "histogram2d": [
           {
            "colorbar": {
             "outlinewidth": 0,
             "ticks": ""
            },
            "colorscale": [
             [
              0,
              "#0d0887"
             ],
             [
              0.1111111111111111,
              "#46039f"
             ],
             [
              0.2222222222222222,
              "#7201a8"
             ],
             [
              0.3333333333333333,
              "#9c179e"
             ],
             [
              0.4444444444444444,
              "#bd3786"
             ],
             [
              0.5555555555555556,
              "#d8576b"
             ],
             [
              0.6666666666666666,
              "#ed7953"
             ],
             [
              0.7777777777777778,
              "#fb9f3a"
             ],
             [
              0.8888888888888888,
              "#fdca26"
             ],
             [
              1,
              "#f0f921"
             ]
            ],
            "type": "histogram2d"
           }
          ],
          "histogram2dcontour": [
           {
            "colorbar": {
             "outlinewidth": 0,
             "ticks": ""
            },
            "colorscale": [
             [
              0,
              "#0d0887"
             ],
             [
              0.1111111111111111,
              "#46039f"
             ],
             [
              0.2222222222222222,
              "#7201a8"
             ],
             [
              0.3333333333333333,
              "#9c179e"
             ],
             [
              0.4444444444444444,
              "#bd3786"
             ],
             [
              0.5555555555555556,
              "#d8576b"
             ],
             [
              0.6666666666666666,
              "#ed7953"
             ],
             [
              0.7777777777777778,
              "#fb9f3a"
             ],
             [
              0.8888888888888888,
              "#fdca26"
             ],
             [
              1,
              "#f0f921"
             ]
            ],
            "type": "histogram2dcontour"
           }
          ],
          "mesh3d": [
           {
            "colorbar": {
             "outlinewidth": 0,
             "ticks": ""
            },
            "type": "mesh3d"
           }
          ],
          "parcoords": [
           {
            "line": {
             "colorbar": {
              "outlinewidth": 0,
              "ticks": ""
             }
            },
            "type": "parcoords"
           }
          ],
          "pie": [
           {
            "automargin": true,
            "type": "pie"
           }
          ],
          "scatter": [
           {
            "fillpattern": {
             "fillmode": "overlay",
             "size": 10,
             "solidity": 0.2
            },
            "type": "scatter"
           }
          ],
          "scatter3d": [
           {
            "line": {
             "colorbar": {
              "outlinewidth": 0,
              "ticks": ""
             }
            },
            "marker": {
             "colorbar": {
              "outlinewidth": 0,
              "ticks": ""
             }
            },
            "type": "scatter3d"
           }
          ],
          "scattercarpet": [
           {
            "marker": {
             "colorbar": {
              "outlinewidth": 0,
              "ticks": ""
             }
            },
            "type": "scattercarpet"
           }
          ],
          "scattergeo": [
           {
            "marker": {
             "colorbar": {
              "outlinewidth": 0,
              "ticks": ""
             }
            },
            "type": "scattergeo"
           }
          ],
          "scattergl": [
           {
            "marker": {
             "colorbar": {
              "outlinewidth": 0,
              "ticks": ""
             }
            },
            "type": "scattergl"
           }
          ],
          "scattermapbox": [
           {
            "marker": {
             "colorbar": {
              "outlinewidth": 0,
              "ticks": ""
             }
            },
            "type": "scattermapbox"
           }
          ],
          "scatterpolar": [
           {
            "marker": {
             "colorbar": {
              "outlinewidth": 0,
              "ticks": ""
             }
            },
            "type": "scatterpolar"
           }
          ],
          "scatterpolargl": [
           {
            "marker": {
             "colorbar": {
              "outlinewidth": 0,
              "ticks": ""
             }
            },
            "type": "scatterpolargl"
           }
          ],
          "scatterternary": [
           {
            "marker": {
             "colorbar": {
              "outlinewidth": 0,
              "ticks": ""
             }
            },
            "type": "scatterternary"
           }
          ],
          "surface": [
           {
            "colorbar": {
             "outlinewidth": 0,
             "ticks": ""
            },
            "colorscale": [
             [
              0,
              "#0d0887"
             ],
             [
              0.1111111111111111,
              "#46039f"
             ],
             [
              0.2222222222222222,
              "#7201a8"
             ],
             [
              0.3333333333333333,
              "#9c179e"
             ],
             [
              0.4444444444444444,
              "#bd3786"
             ],
             [
              0.5555555555555556,
              "#d8576b"
             ],
             [
              0.6666666666666666,
              "#ed7953"
             ],
             [
              0.7777777777777778,
              "#fb9f3a"
             ],
             [
              0.8888888888888888,
              "#fdca26"
             ],
             [
              1,
              "#f0f921"
             ]
            ],
            "type": "surface"
           }
          ],
          "table": [
           {
            "cells": {
             "fill": {
              "color": "#EBF0F8"
             },
             "line": {
              "color": "white"
             }
            },
            "header": {
             "fill": {
              "color": "#C8D4E3"
             },
             "line": {
              "color": "white"
             }
            },
            "type": "table"
           }
          ]
         },
         "layout": {
          "annotationdefaults": {
           "arrowcolor": "#2a3f5f",
           "arrowhead": 0,
           "arrowwidth": 1
          },
          "autotypenumbers": "strict",
          "coloraxis": {
           "colorbar": {
            "outlinewidth": 0,
            "ticks": ""
           }
          },
          "colorscale": {
           "diverging": [
            [
             0,
             "#8e0152"
            ],
            [
             0.1,
             "#c51b7d"
            ],
            [
             0.2,
             "#de77ae"
            ],
            [
             0.3,
             "#f1b6da"
            ],
            [
             0.4,
             "#fde0ef"
            ],
            [
             0.5,
             "#f7f7f7"
            ],
            [
             0.6,
             "#e6f5d0"
            ],
            [
             0.7,
             "#b8e186"
            ],
            [
             0.8,
             "#7fbc41"
            ],
            [
             0.9,
             "#4d9221"
            ],
            [
             1,
             "#276419"
            ]
           ],
           "sequential": [
            [
             0,
             "#0d0887"
            ],
            [
             0.1111111111111111,
             "#46039f"
            ],
            [
             0.2222222222222222,
             "#7201a8"
            ],
            [
             0.3333333333333333,
             "#9c179e"
            ],
            [
             0.4444444444444444,
             "#bd3786"
            ],
            [
             0.5555555555555556,
             "#d8576b"
            ],
            [
             0.6666666666666666,
             "#ed7953"
            ],
            [
             0.7777777777777778,
             "#fb9f3a"
            ],
            [
             0.8888888888888888,
             "#fdca26"
            ],
            [
             1,
             "#f0f921"
            ]
           ],
           "sequentialminus": [
            [
             0,
             "#0d0887"
            ],
            [
             0.1111111111111111,
             "#46039f"
            ],
            [
             0.2222222222222222,
             "#7201a8"
            ],
            [
             0.3333333333333333,
             "#9c179e"
            ],
            [
             0.4444444444444444,
             "#bd3786"
            ],
            [
             0.5555555555555556,
             "#d8576b"
            ],
            [
             0.6666666666666666,
             "#ed7953"
            ],
            [
             0.7777777777777778,
             "#fb9f3a"
            ],
            [
             0.8888888888888888,
             "#fdca26"
            ],
            [
             1,
             "#f0f921"
            ]
           ]
          },
          "colorway": [
           "#636efa",
           "#EF553B",
           "#00cc96",
           "#ab63fa",
           "#FFA15A",
           "#19d3f3",
           "#FF6692",
           "#B6E880",
           "#FF97FF",
           "#FECB52"
          ],
          "font": {
           "color": "#2a3f5f"
          },
          "geo": {
           "bgcolor": "white",
           "lakecolor": "white",
           "landcolor": "#E5ECF6",
           "showlakes": true,
           "showland": true,
           "subunitcolor": "white"
          },
          "hoverlabel": {
           "align": "left"
          },
          "hovermode": "closest",
          "mapbox": {
           "style": "light"
          },
          "paper_bgcolor": "white",
          "plot_bgcolor": "#E5ECF6",
          "polar": {
           "angularaxis": {
            "gridcolor": "white",
            "linecolor": "white",
            "ticks": ""
           },
           "bgcolor": "#E5ECF6",
           "radialaxis": {
            "gridcolor": "white",
            "linecolor": "white",
            "ticks": ""
           }
          },
          "scene": {
           "xaxis": {
            "backgroundcolor": "#E5ECF6",
            "gridcolor": "white",
            "gridwidth": 2,
            "linecolor": "white",
            "showbackground": true,
            "ticks": "",
            "zerolinecolor": "white"
           },
           "yaxis": {
            "backgroundcolor": "#E5ECF6",
            "gridcolor": "white",
            "gridwidth": 2,
            "linecolor": "white",
            "showbackground": true,
            "ticks": "",
            "zerolinecolor": "white"
           },
           "zaxis": {
            "backgroundcolor": "#E5ECF6",
            "gridcolor": "white",
            "gridwidth": 2,
            "linecolor": "white",
            "showbackground": true,
            "ticks": "",
            "zerolinecolor": "white"
           }
          },
          "shapedefaults": {
           "line": {
            "color": "#2a3f5f"
           }
          },
          "ternary": {
           "aaxis": {
            "gridcolor": "white",
            "linecolor": "white",
            "ticks": ""
           },
           "baxis": {
            "gridcolor": "white",
            "linecolor": "white",
            "ticks": ""
           },
           "bgcolor": "#E5ECF6",
           "caxis": {
            "gridcolor": "white",
            "linecolor": "white",
            "ticks": ""
           }
          },
          "title": {
           "x": 0.05
          },
          "xaxis": {
           "automargin": true,
           "gridcolor": "white",
           "linecolor": "white",
           "ticks": "",
           "title": {
            "standoff": 15
           },
           "zerolinecolor": "white",
           "zerolinewidth": 2
          },
          "yaxis": {
           "automargin": true,
           "gridcolor": "white",
           "linecolor": "white",
           "ticks": "",
           "title": {
            "standoff": 15
           },
           "zerolinecolor": "white",
           "zerolinewidth": 2
          }
         }
        },
        "xaxis": {
         "anchor": "y",
         "domain": [
          0,
          1
         ],
         "title": {
          "text": "index"
         }
        },
        "yaxis": {
         "anchor": "x",
         "domain": [
          0,
          1
         ],
         "title": {
          "text": "value"
         }
        }
       }
      },
      "text/html": [
       "<div>                            <div id=\"a6a7b27c-b692-42d0-9d5e-1c5ccdc64409\" class=\"plotly-graph-div\" style=\"height:525px; width:100%;\"></div>            <script type=\"text/javascript\">                require([\"plotly\"], function(Plotly) {                    window.PLOTLYENV=window.PLOTLYENV || {};                                    if (document.getElementById(\"a6a7b27c-b692-42d0-9d5e-1c5ccdc64409\")) {                    Plotly.newPlot(                        \"a6a7b27c-b692-42d0-9d5e-1c5ccdc64409\",                        [{\"hovertemplate\":\"variable=Rice<br>index=%{x}<br>value=%{y}<extra></extra>\",\"legendgroup\":\"Rice\",\"line\":{\"color\":\"#636efa\",\"dash\":\"solid\"},\"marker\":{\"symbol\":\"circle\"},\"mode\":\"lines+markers\",\"name\":\"Rice\",\"orientation\":\"v\",\"showlegend\":true,\"x\":[\"2004-05\",\"2005-06\",\"2006-07\",\"2007-08\",\"2008-09\",\"2009-10\",\"2010-11\",\"2011-12\"],\"xaxis\":\"x\",\"y\":[100.0,101.0,99.0,105.0,112.0,121.0,117.0,110.0],\"yaxis\":\"y\",\"type\":\"scatter\"},{\"hovertemplate\":\"variable=Wheat<br>index=%{x}<br>value=%{y}<extra></extra>\",\"legendgroup\":\"Wheat\",\"line\":{\"color\":\"#EF553B\",\"dash\":\"solid\"},\"marker\":{\"symbol\":\"circle\"},\"mode\":\"lines+markers\",\"name\":\"Wheat\",\"orientation\":\"v\",\"showlegend\":true,\"x\":[\"2004-05\",\"2005-06\",\"2006-07\",\"2007-08\",\"2008-09\",\"2009-10\",\"2010-11\",\"2011-12\"],\"xaxis\":\"x\",\"y\":[100.0,101.0,112.0,115.0,117.0,127.0,120.0,108.0],\"yaxis\":\"y\",\"type\":\"scatter\"},{\"hovertemplate\":\"variable=Coarse Cereals<br>index=%{x}<br>value=%{y}<extra></extra>\",\"legendgroup\":\"Coarse Cereals\",\"line\":{\"color\":\"#00cc96\",\"dash\":\"solid\"},\"marker\":{\"symbol\":\"circle\"},\"mode\":\"lines+markers\",\"name\":\"Coarse Cereals\",\"orientation\":\"v\",\"showlegend\":true,\"x\":[\"2004-05\",\"2005-06\",\"2006-07\",\"2007-08\",\"2008-09\",\"2009-10\",\"2010-11\",\"2011-12\"],\"xaxis\":\"x\",\"y\":[100.0,107.0,110.0,115.0,113.0,123.0,122.0,136.0],\"yaxis\":\"y\",\"type\":\"scatter\"},{\"hovertemplate\":\"variable=Pulses<br>index=%{x}<br>value=%{y}<extra></extra>\",\"legendgroup\":\"Pulses\",\"line\":{\"color\":\"#ab63fa\",\"dash\":\"solid\"},\"marker\":{\"symbol\":\"circle\"},\"mode\":\"lines+markers\",\"name\":\"Pulses\",\"orientation\":\"v\",\"showlegend\":true,\"x\":[\"2004-05\",\"2005-06\",\"2006-07\",\"2007-08\",\"2008-09\",\"2009-10\",\"2010-11\",\"2011-12\"],\"xaxis\":\"x\",\"y\":[100.0,108.0,134.0,124.0,124.0,146.0,137.0,129.0],\"yaxis\":\"y\",\"type\":\"scatter\"},{\"hovertemplate\":\"variable=Vegetables <br>index=%{x}<br>value=%{y}<extra></extra>\",\"legendgroup\":\"Vegetables \",\"line\":{\"color\":\"#FFA15A\",\"dash\":\"solid\"},\"marker\":{\"symbol\":\"circle\"},\"mode\":\"lines+markers\",\"name\":\"Vegetables \",\"orientation\":\"v\",\"showlegend\":true,\"x\":[\"2004-05\",\"2005-06\",\"2006-07\",\"2007-08\",\"2008-09\",\"2009-10\",\"2010-11\",\"2011-12\"],\"xaxis\":\"x\",\"y\":[100.0,109.0,103.0,118.0,113.0,124.0,128.0,115.0],\"yaxis\":\"y\",\"type\":\"scatter\"},{\"hovertemplate\":\"variable=Fruits<br>index=%{x}<br>value=%{y}<extra></extra>\",\"legendgroup\":\"Fruits\",\"line\":{\"color\":\"#19d3f3\",\"dash\":\"solid\"},\"marker\":{\"symbol\":\"circle\"},\"mode\":\"lines+markers\",\"name\":\"Fruits\",\"orientation\":\"v\",\"showlegend\":true,\"x\":[\"2004-05\",\"2005-06\",\"2006-07\",\"2007-08\",\"2008-09\",\"2009-10\",\"2010-11\",\"2011-12\"],\"xaxis\":\"x\",\"y\":[100.0,99.0,99.0,98.0,102.0,104.0,114.0,119.0],\"yaxis\":\"y\",\"type\":\"scatter\"},{\"hovertemplate\":\"variable=Milk<br>index=%{x}<br>value=%{y}<extra></extra>\",\"legendgroup\":\"Milk\",\"line\":{\"color\":\"#FF6692\",\"dash\":\"solid\"},\"marker\":{\"symbol\":\"circle\"},\"mode\":\"lines+markers\",\"name\":\"Milk\",\"orientation\":\"v\",\"showlegend\":true,\"x\":[\"2004-05\",\"2005-06\",\"2006-07\",\"2007-08\",\"2008-09\",\"2009-10\",\"2010-11\",\"2011-12\"],\"xaxis\":\"x\",\"y\":[100.0,97.0,98.0,98.0,98.0,112.0,123.0,124.0],\"yaxis\":\"y\",\"type\":\"scatter\"},{\"hovertemplate\":\"variable=Eggs, Fish and Meat<br>index=%{x}<br>value=%{y}<extra></extra>\",\"legendgroup\":\"Eggs, Fish and Meat\",\"line\":{\"color\":\"#B6E880\",\"dash\":\"solid\"},\"marker\":{\"symbol\":\"circle\"},\"mode\":\"lines+markers\",\"name\":\"Eggs, Fish and Meat\",\"orientation\":\"v\",\"showlegend\":true,\"x\":[\"2004-05\",\"2005-06\",\"2006-07\",\"2007-08\",\"2008-09\",\"2009-10\",\"2010-11\",\"2011-12\"],\"xaxis\":\"x\",\"y\":[100.0,102.0,101.0,100.0,99.0,116.0,133.0,137.0],\"yaxis\":\"y\",\"type\":\"scatter\"},{\"hovertemplate\":\"variable=Oilseeds<br>index=%{x}<br>value=%{y}<extra></extra>\",\"legendgroup\":\"Oilseeds\",\"line\":{\"color\":\"#FF97FF\",\"dash\":\"solid\"},\"marker\":{\"symbol\":\"circle\"},\"mode\":\"lines+markers\",\"name\":\"Oilseeds\",\"orientation\":\"v\",\"showlegend\":true,\"x\":[\"2004-05\",\"2005-06\",\"2006-07\",\"2007-08\",\"2008-09\",\"2009-10\",\"2010-11\",\"2011-12\"],\"xaxis\":\"x\",\"y\":[100.0,86.0,85.0,97.0,104.0,103.0,99.0,102.0],\"yaxis\":\"y\",\"type\":\"scatter\"},{\"hovertemplate\":\"variable=Sugarcane <br>index=%{x}<br>value=%{y}<extra></extra>\",\"legendgroup\":\"Sugarcane \",\"line\":{\"color\":\"#FECB52\",\"dash\":\"solid\"},\"marker\":{\"symbol\":\"circle\"},\"mode\":\"lines+markers\",\"name\":\"Sugarcane \",\"orientation\":\"v\",\"showlegend\":true,\"x\":[\"2004-05\",\"2005-06\",\"2006-07\",\"2007-08\",\"2008-09\",\"2009-10\",\"2010-11\",\"2011-12\"],\"xaxis\":\"x\",\"y\":[100.0,96.0,91.0,87.0,80.0,81.0,109.0,107.0],\"yaxis\":\"y\",\"type\":\"scatter\"},{\"hovertemplate\":\"variable=Fibers<br>index=%{x}<br>value=%{y}<extra></extra>\",\"legendgroup\":\"Fibers\",\"line\":{\"color\":\"#636efa\",\"dash\":\"solid\"},\"marker\":{\"symbol\":\"circle\"},\"mode\":\"lines+markers\",\"name\":\"Fibers\",\"orientation\":\"v\",\"showlegend\":true,\"x\":[\"2004-05\",\"2005-06\",\"2006-07\",\"2007-08\",\"2008-09\",\"2009-10\",\"2010-11\",\"2011-12\"],\"xaxis\":\"x\",\"y\":[100.0,92.0,91.0,96.0,109.0,107.0,138.0,140.0],\"yaxis\":\"y\",\"type\":\"scatter\"},{\"hovertemplate\":\"variable=All Agriculture<br>index=%{x}<br>value=%{y}<extra></extra>\",\"legendgroup\":\"All Agriculture\",\"line\":{\"color\":\"#EF553B\",\"dash\":\"solid\"},\"marker\":{\"symbol\":\"circle\"},\"mode\":\"lines+markers\",\"name\":\"All Agriculture\",\"orientation\":\"v\",\"showlegend\":true,\"x\":[\"2004-05\",\"2005-06\",\"2006-07\",\"2007-08\",\"2008-09\",\"2009-10\",\"2010-11\",\"2011-12\"],\"xaxis\":\"x\",\"y\":[100.0,99.0,101.0,104.0,106.0,115.0,123.0,122.0],\"yaxis\":\"y\",\"type\":\"scatter\"}],                        {\"template\":{\"data\":{\"histogram2dcontour\":[{\"type\":\"histogram2dcontour\",\"colorbar\":{\"outlinewidth\":0,\"ticks\":\"\"},\"colorscale\":[[0.0,\"#0d0887\"],[0.1111111111111111,\"#46039f\"],[0.2222222222222222,\"#7201a8\"],[0.3333333333333333,\"#9c179e\"],[0.4444444444444444,\"#bd3786\"],[0.5555555555555556,\"#d8576b\"],[0.6666666666666666,\"#ed7953\"],[0.7777777777777778,\"#fb9f3a\"],[0.8888888888888888,\"#fdca26\"],[1.0,\"#f0f921\"]]}],\"choropleth\":[{\"type\":\"choropleth\",\"colorbar\":{\"outlinewidth\":0,\"ticks\":\"\"}}],\"histogram2d\":[{\"type\":\"histogram2d\",\"colorbar\":{\"outlinewidth\":0,\"ticks\":\"\"},\"colorscale\":[[0.0,\"#0d0887\"],[0.1111111111111111,\"#46039f\"],[0.2222222222222222,\"#7201a8\"],[0.3333333333333333,\"#9c179e\"],[0.4444444444444444,\"#bd3786\"],[0.5555555555555556,\"#d8576b\"],[0.6666666666666666,\"#ed7953\"],[0.7777777777777778,\"#fb9f3a\"],[0.8888888888888888,\"#fdca26\"],[1.0,\"#f0f921\"]]}],\"heatmap\":[{\"type\":\"heatmap\",\"colorbar\":{\"outlinewidth\":0,\"ticks\":\"\"},\"colorscale\":[[0.0,\"#0d0887\"],[0.1111111111111111,\"#46039f\"],[0.2222222222222222,\"#7201a8\"],[0.3333333333333333,\"#9c179e\"],[0.4444444444444444,\"#bd3786\"],[0.5555555555555556,\"#d8576b\"],[0.6666666666666666,\"#ed7953\"],[0.7777777777777778,\"#fb9f3a\"],[0.8888888888888888,\"#fdca26\"],[1.0,\"#f0f921\"]]}],\"heatmapgl\":[{\"type\":\"heatmapgl\",\"colorbar\":{\"outlinewidth\":0,\"ticks\":\"\"},\"colorscale\":[[0.0,\"#0d0887\"],[0.1111111111111111,\"#46039f\"],[0.2222222222222222,\"#7201a8\"],[0.3333333333333333,\"#9c179e\"],[0.4444444444444444,\"#bd3786\"],[0.5555555555555556,\"#d8576b\"],[0.6666666666666666,\"#ed7953\"],[0.7777777777777778,\"#fb9f3a\"],[0.8888888888888888,\"#fdca26\"],[1.0,\"#f0f921\"]]}],\"contourcarpet\":[{\"type\":\"contourcarpet\",\"colorbar\":{\"outlinewidth\":0,\"ticks\":\"\"}}],\"contour\":[{\"type\":\"contour\",\"colorbar\":{\"outlinewidth\":0,\"ticks\":\"\"},\"colorscale\":[[0.0,\"#0d0887\"],[0.1111111111111111,\"#46039f\"],[0.2222222222222222,\"#7201a8\"],[0.3333333333333333,\"#9c179e\"],[0.4444444444444444,\"#bd3786\"],[0.5555555555555556,\"#d8576b\"],[0.6666666666666666,\"#ed7953\"],[0.7777777777777778,\"#fb9f3a\"],[0.8888888888888888,\"#fdca26\"],[1.0,\"#f0f921\"]]}],\"surface\":[{\"type\":\"surface\",\"colorbar\":{\"outlinewidth\":0,\"ticks\":\"\"},\"colorscale\":[[0.0,\"#0d0887\"],[0.1111111111111111,\"#46039f\"],[0.2222222222222222,\"#7201a8\"],[0.3333333333333333,\"#9c179e\"],[0.4444444444444444,\"#bd3786\"],[0.5555555555555556,\"#d8576b\"],[0.6666666666666666,\"#ed7953\"],[0.7777777777777778,\"#fb9f3a\"],[0.8888888888888888,\"#fdca26\"],[1.0,\"#f0f921\"]]}],\"mesh3d\":[{\"type\":\"mesh3d\",\"colorbar\":{\"outlinewidth\":0,\"ticks\":\"\"}}],\"scatter\":[{\"fillpattern\":{\"fillmode\":\"overlay\",\"size\":10,\"solidity\":0.2},\"type\":\"scatter\"}],\"parcoords\":[{\"type\":\"parcoords\",\"line\":{\"colorbar\":{\"outlinewidth\":0,\"ticks\":\"\"}}}],\"scatterpolargl\":[{\"type\":\"scatterpolargl\",\"marker\":{\"colorbar\":{\"outlinewidth\":0,\"ticks\":\"\"}}}],\"bar\":[{\"error_x\":{\"color\":\"#2a3f5f\"},\"error_y\":{\"color\":\"#2a3f5f\"},\"marker\":{\"line\":{\"color\":\"#E5ECF6\",\"width\":0.5},\"pattern\":{\"fillmode\":\"overlay\",\"size\":10,\"solidity\":0.2}},\"type\":\"bar\"}],\"scattergeo\":[{\"type\":\"scattergeo\",\"marker\":{\"colorbar\":{\"outlinewidth\":0,\"ticks\":\"\"}}}],\"scatterpolar\":[{\"type\":\"scatterpolar\",\"marker\":{\"colorbar\":{\"outlinewidth\":0,\"ticks\":\"\"}}}],\"histogram\":[{\"marker\":{\"pattern\":{\"fillmode\":\"overlay\",\"size\":10,\"solidity\":0.2}},\"type\":\"histogram\"}],\"scattergl\":[{\"type\":\"scattergl\",\"marker\":{\"colorbar\":{\"outlinewidth\":0,\"ticks\":\"\"}}}],\"scatter3d\":[{\"type\":\"scatter3d\",\"line\":{\"colorbar\":{\"outlinewidth\":0,\"ticks\":\"\"}},\"marker\":{\"colorbar\":{\"outlinewidth\":0,\"ticks\":\"\"}}}],\"scattermapbox\":[{\"type\":\"scattermapbox\",\"marker\":{\"colorbar\":{\"outlinewidth\":0,\"ticks\":\"\"}}}],\"scatterternary\":[{\"type\":\"scatterternary\",\"marker\":{\"colorbar\":{\"outlinewidth\":0,\"ticks\":\"\"}}}],\"scattercarpet\":[{\"type\":\"scattercarpet\",\"marker\":{\"colorbar\":{\"outlinewidth\":0,\"ticks\":\"\"}}}],\"carpet\":[{\"aaxis\":{\"endlinecolor\":\"#2a3f5f\",\"gridcolor\":\"white\",\"linecolor\":\"white\",\"minorgridcolor\":\"white\",\"startlinecolor\":\"#2a3f5f\"},\"baxis\":{\"endlinecolor\":\"#2a3f5f\",\"gridcolor\":\"white\",\"linecolor\":\"white\",\"minorgridcolor\":\"white\",\"startlinecolor\":\"#2a3f5f\"},\"type\":\"carpet\"}],\"table\":[{\"cells\":{\"fill\":{\"color\":\"#EBF0F8\"},\"line\":{\"color\":\"white\"}},\"header\":{\"fill\":{\"color\":\"#C8D4E3\"},\"line\":{\"color\":\"white\"}},\"type\":\"table\"}],\"barpolar\":[{\"marker\":{\"line\":{\"color\":\"#E5ECF6\",\"width\":0.5},\"pattern\":{\"fillmode\":\"overlay\",\"size\":10,\"solidity\":0.2}},\"type\":\"barpolar\"}],\"pie\":[{\"automargin\":true,\"type\":\"pie\"}]},\"layout\":{\"autotypenumbers\":\"strict\",\"colorway\":[\"#636efa\",\"#EF553B\",\"#00cc96\",\"#ab63fa\",\"#FFA15A\",\"#19d3f3\",\"#FF6692\",\"#B6E880\",\"#FF97FF\",\"#FECB52\"],\"font\":{\"color\":\"#2a3f5f\"},\"hovermode\":\"closest\",\"hoverlabel\":{\"align\":\"left\"},\"paper_bgcolor\":\"white\",\"plot_bgcolor\":\"#E5ECF6\",\"polar\":{\"bgcolor\":\"#E5ECF6\",\"angularaxis\":{\"gridcolor\":\"white\",\"linecolor\":\"white\",\"ticks\":\"\"},\"radialaxis\":{\"gridcolor\":\"white\",\"linecolor\":\"white\",\"ticks\":\"\"}},\"ternary\":{\"bgcolor\":\"#E5ECF6\",\"aaxis\":{\"gridcolor\":\"white\",\"linecolor\":\"white\",\"ticks\":\"\"},\"baxis\":{\"gridcolor\":\"white\",\"linecolor\":\"white\",\"ticks\":\"\"},\"caxis\":{\"gridcolor\":\"white\",\"linecolor\":\"white\",\"ticks\":\"\"}},\"coloraxis\":{\"colorbar\":{\"outlinewidth\":0,\"ticks\":\"\"}},\"colorscale\":{\"sequential\":[[0.0,\"#0d0887\"],[0.1111111111111111,\"#46039f\"],[0.2222222222222222,\"#7201a8\"],[0.3333333333333333,\"#9c179e\"],[0.4444444444444444,\"#bd3786\"],[0.5555555555555556,\"#d8576b\"],[0.6666666666666666,\"#ed7953\"],[0.7777777777777778,\"#fb9f3a\"],[0.8888888888888888,\"#fdca26\"],[1.0,\"#f0f921\"]],\"sequentialminus\":[[0.0,\"#0d0887\"],[0.1111111111111111,\"#46039f\"],[0.2222222222222222,\"#7201a8\"],[0.3333333333333333,\"#9c179e\"],[0.4444444444444444,\"#bd3786\"],[0.5555555555555556,\"#d8576b\"],[0.6666666666666666,\"#ed7953\"],[0.7777777777777778,\"#fb9f3a\"],[0.8888888888888888,\"#fdca26\"],[1.0,\"#f0f921\"]],\"diverging\":[[0,\"#8e0152\"],[0.1,\"#c51b7d\"],[0.2,\"#de77ae\"],[0.3,\"#f1b6da\"],[0.4,\"#fde0ef\"],[0.5,\"#f7f7f7\"],[0.6,\"#e6f5d0\"],[0.7,\"#b8e186\"],[0.8,\"#7fbc41\"],[0.9,\"#4d9221\"],[1,\"#276419\"]]},\"xaxis\":{\"gridcolor\":\"white\",\"linecolor\":\"white\",\"ticks\":\"\",\"title\":{\"standoff\":15},\"zerolinecolor\":\"white\",\"automargin\":true,\"zerolinewidth\":2},\"yaxis\":{\"gridcolor\":\"white\",\"linecolor\":\"white\",\"ticks\":\"\",\"title\":{\"standoff\":15},\"zerolinecolor\":\"white\",\"automargin\":true,\"zerolinewidth\":2},\"scene\":{\"xaxis\":{\"backgroundcolor\":\"#E5ECF6\",\"gridcolor\":\"white\",\"linecolor\":\"white\",\"showbackground\":true,\"ticks\":\"\",\"zerolinecolor\":\"white\",\"gridwidth\":2},\"yaxis\":{\"backgroundcolor\":\"#E5ECF6\",\"gridcolor\":\"white\",\"linecolor\":\"white\",\"showbackground\":true,\"ticks\":\"\",\"zerolinecolor\":\"white\",\"gridwidth\":2},\"zaxis\":{\"backgroundcolor\":\"#E5ECF6\",\"gridcolor\":\"white\",\"linecolor\":\"white\",\"showbackground\":true,\"ticks\":\"\",\"zerolinecolor\":\"white\",\"gridwidth\":2}},\"shapedefaults\":{\"line\":{\"color\":\"#2a3f5f\"}},\"annotationdefaults\":{\"arrowcolor\":\"#2a3f5f\",\"arrowhead\":0,\"arrowwidth\":1},\"geo\":{\"bgcolor\":\"white\",\"landcolor\":\"#E5ECF6\",\"subunitcolor\":\"white\",\"showland\":true,\"showlakes\":true,\"lakecolor\":\"white\"},\"title\":{\"x\":0.05},\"mapbox\":{\"style\":\"light\"}}},\"xaxis\":{\"anchor\":\"y\",\"domain\":[0.0,1.0],\"title\":{\"text\":\"index\"}},\"yaxis\":{\"anchor\":\"x\",\"domain\":[0.0,1.0],\"title\":{\"text\":\"value\"}},\"legend\":{\"title\":{\"text\":\"variable\"},\"tracegroupgap\":0},\"margin\":{\"t\":60}},                        {\"responsive\": true}                    ).then(function(){\n",
       "                            \n",
       "var gd = document.getElementById('a6a7b27c-b692-42d0-9d5e-1c5ccdc64409');\n",
       "var x = new MutationObserver(function (mutations, observer) {{\n",
       "        var display = window.getComputedStyle(gd).display;\n",
       "        if (!display || display === 'none') {{\n",
       "            console.log([gd, 'removed!']);\n",
       "            Plotly.purge(gd);\n",
       "            observer.disconnect();\n",
       "        }}\n",
       "}});\n",
       "\n",
       "// Listen for the removal of the full notebook cells\n",
       "var notebookContainer = gd.closest('#notebook-container');\n",
       "if (notebookContainer) {{\n",
       "    x.observe(notebookContainer, {childList: true});\n",
       "}}\n",
       "\n",
       "// Listen for the clearing of the current output cell\n",
       "var outputEl = gd.closest('.output');\n",
       "if (outputEl) {{\n",
       "    x.observe(outputEl, {childList: true});\n",
       "}}\n",
       "\n",
       "                        })                };                });            </script>        </div>"
      ]
     },
     "metadata": {},
     "output_type": "display_data"
    }
   ],
   "source": [
    "a=px.line(df4t,markers=True)\n",
    "a.show()"
   ]
  },
  {
   "cell_type": "code",
   "execution_count": 923,
   "id": "9fabb61f",
   "metadata": {},
   "outputs": [],
   "source": [
    "# Installing XGBoost"
   ]
  },
  {
   "cell_type": "code",
   "execution_count": 924,
   "id": "671ee8e3",
   "metadata": {},
   "outputs": [
    {
     "name": "stdout",
     "output_type": "stream",
     "text": [
      "Requirement already satisfied: xgboost in c:\\users\\kiit\\ana\\lib\\site-packages (1.7.6)\n",
      "Requirement already satisfied: scipy in c:\\users\\kiit\\ana\\lib\\site-packages (from xgboost) (1.10.0)\n",
      "Requirement already satisfied: numpy in c:\\users\\kiit\\ana\\lib\\site-packages (from xgboost) (1.23.5)\n",
      "Note: you may need to restart the kernel to use updated packages.\n"
     ]
    }
   ],
   "source": [
    "pip install xgboost"
   ]
  },
  {
   "cell_type": "markdown",
   "id": "37887eed",
   "metadata": {},
   "source": [
    "## ◾ Model Training and Evaluation"
   ]
  },
  {
   "cell_type": "code",
   "execution_count": 925,
   "id": "e64c6044",
   "metadata": {},
   "outputs": [],
   "source": [
    "df1 = df1.rename(columns={\n",
    "    'Crop': 'Crop',\n",
    "    'State': 'State',\n",
    "    'Cost of Cultivation (`/Hectare) A2+FL': 'Cost_A2_FL',\n",
    "    'Cost of Cultivation (`/Hectare) C2': 'Cost_C2',\n",
    "    'Cost of Production (`/Quintal) C2': 'Cost_Production',\n",
    "    'Yield (Quintal/ Hectare) ': 'Yield'\n",
    "})"
   ]
  },
  {
   "cell_type": "code",
   "execution_count": 926,
   "id": "1dfeaed3",
   "metadata": {},
   "outputs": [],
   "source": [
    "# Importing necessary libraries and modules for conducting agricultural crop production analysis using various machine\n",
    "# learning regressors. It includes data manipulation with pandas, visualization with Plotly graph objects, and \n",
    "# implementation of regression models from scikit-learn and XGBoost."
   ]
  },
  {
   "cell_type": "code",
   "execution_count": 927,
   "id": "7faafebb",
   "metadata": {},
   "outputs": [],
   "source": [
    "import pandas as pd\n",
    "import plotly.graph_objects as go\n",
    "from sklearn.model_selection import train_test_split\n",
    "from sklearn.tree import DecisionTreeRegressor\n",
    "from sklearn.linear_model import LinearRegression\n",
    "from xgboost import XGBRegressor\n",
    "from sklearn.ensemble import RandomForestRegressor\n",
    "from sklearn.metrics import mean_squared_error, mean_absolute_error\n"
   ]
  },
  {
   "cell_type": "code",
   "execution_count": 928,
   "id": "42afe40f",
   "metadata": {},
   "outputs": [],
   "source": [
    "# Split the data into input features (X) and target variable (y)"
   ]
  },
  {
   "cell_type": "code",
   "execution_count": 929,
   "id": "0938f424",
   "metadata": {},
   "outputs": [],
   "source": [
    "X = df1[['Cost_A2_FL', 'Cost_C2', 'Cost_Production']]\n",
    "y = df1['Yield']"
   ]
  },
  {
   "cell_type": "code",
   "execution_count": 930,
   "id": "b92c2c88",
   "metadata": {},
   "outputs": [],
   "source": [
    "# Splitting the data into training and testing sets for conducting crop production analysis using machine learning models.\n",
    "# The dataset is represented by feature matrix X and target variable y."
   ]
  },
  {
   "cell_type": "code",
   "execution_count": 931,
   "id": "ee75ab64",
   "metadata": {},
   "outputs": [],
   "source": [
    "X_train, X_test, y_train, y_test = train_test_split(X, y, test_size=0.2, random_state=42)"
   ]
  },
  {
   "cell_type": "code",
   "execution_count": 932,
   "id": "d4dcd1b9",
   "metadata": {},
   "outputs": [],
   "source": [
    "# Creating a dictionary called models that contains different regression models used for crop production prediction.\n",
    "# The models are initialized with their corresponding scikit-learn classes."
   ]
  },
  {
   "cell_type": "code",
   "execution_count": 933,
   "id": "bd805360",
   "metadata": {},
   "outputs": [],
   "source": [
    "models = {\n",
    "    'Decision Tree': DecisionTreeRegressor(),\n",
    "    'Linear Regression': LinearRegression(),\n",
    "    'XGBoost': XGBRegressor(),\n",
    "    'Random Forest': RandomForestRegressor()\n",
    "}"
   ]
  },
  {
   "cell_type": "code",
   "execution_count": 934,
   "id": "32061c0b",
   "metadata": {},
   "outputs": [],
   "source": [
    "# Applying the previously initialized regression models to make crop production predictions using the testing dataset\n",
    "# (X_test). The predicted values are stored in the predictions dictionary, with each model's name associated with its \n",
    "# respective prediction results."
   ]
  },
  {
   "cell_type": "code",
   "execution_count": 935,
   "id": "8f1b33bf",
   "metadata": {},
   "outputs": [],
   "source": [
    "predictions = {}\n",
    "for model_name, model in models.items():\n",
    "    model.fit(X_train, y_train)\n",
    "    predictions[model_name] = model.predict(X_test)\n"
   ]
  },
  {
   "cell_type": "code",
   "execution_count": 936,
   "id": "17f8812e",
   "metadata": {},
   "outputs": [],
   "source": [
    "# Evaluating the performance of the crop production prediction models using the predicted values (y_pred) obtained from\n",
    "# each model. The evaluation metrics, Mean Squared Error (MSE) and Mean Absolute Error (MAE), are calculated for each\n",
    "# model, and the results are stored in the evaluation dictionary."
   ]
  },
  {
   "cell_type": "code",
   "execution_count": 937,
   "id": "4b6970e8",
   "metadata": {},
   "outputs": [],
   "source": [
    "evaluation = {}\n",
    "for model_name, y_pred in predictions.items():\n",
    "    mse = mean_squared_error(y_test, y_pred)\n",
    "    mae = mean_absolute_error(y_test, y_pred)\n",
    "    evaluation[model_name] = {'MSE': mse, 'MAE': mae}\n"
   ]
  },
  {
   "cell_type": "markdown",
   "id": "da61e60b",
   "metadata": {},
   "source": [
    "## ◾ Visulizing the result"
   ]
  },
  {
   "cell_type": "code",
   "execution_count": 938,
   "id": "903fd416",
   "metadata": {},
   "outputs": [
    {
     "data": {
      "application/vnd.plotly.v1+json": {
       "config": {
        "plotlyServerURL": "https://plot.ly"
       },
       "data": [
        {
         "mode": "markers",
         "name": "Decision Tree",
         "type": "scatter",
         "x": [
          13,
          45,
          47,
          44,
          17,
          27,
          26,
          25,
          31,
          19
         ],
         "y": [
          9.59,
          42.95,
          39.04,
          757.92,
          13.45,
          4.71,
          5.9,
          5.9,
          36.61,
          12.69
         ]
        },
        {
         "mode": "markers",
         "name": "Linear Regression",
         "type": "scatter",
         "x": [
          13,
          45,
          47,
          44,
          17,
          27,
          26,
          25,
          31,
          19
         ],
         "y": [
          -64.96034130638826,
          34.556867524598246,
          123.04927915124291,
          700.4974091543374,
          42.15992508423746,
          -334.05723018383964,
          -142.59561777300078,
          -177.9006477633432,
          77.04658231122819,
          26.251621795937595
         ]
        },
        {
         "mode": "markers",
         "name": "XGBoost",
         "type": "scatter",
         "x": [
          13,
          45,
          47,
          44,
          17,
          27,
          26,
          25,
          31,
          19
         ],
         "y": [
          9.996879577636719,
          37.794532775878906,
          39.090118408203125,
          986.1912841796875,
          13.922025680541992,
          4.457681655883789,
          6.482978343963623,
          5.89793062210083,
          37.39445877075195,
          9.679414749145508
         ]
        },
        {
         "mode": "markers",
         "name": "Random Forest",
         "type": "scatter",
         "x": [
          13,
          45,
          47,
          44,
          17,
          27,
          26,
          25,
          31,
          19
         ],
         "y": [
          8.202200000000007,
          36.60849999999997,
          38.75769999999998,
          789.6764000000002,
          14.486800000000017,
          5.976499999999996,
          6.998200000000002,
          6.459399999999996,
          36.80710000000001,
          12.679800000000021
         ]
        },
        {
         "mode": "markers",
         "name": "Actual",
         "type": "scatter",
         "x": [
          13,
          45,
          47,
          44,
          17,
          27,
          26,
          25,
          31,
          19
         ],
         "y": [
          8.05,
          23.59,
          34.99,
          1015.45,
          11.98,
          1.32,
          4.05,
          3.01,
          32.42,
          9.33
         ]
        }
       ],
       "layout": {
        "template": {
         "data": {
          "bar": [
           {
            "error_x": {
             "color": "#2a3f5f"
            },
            "error_y": {
             "color": "#2a3f5f"
            },
            "marker": {
             "line": {
              "color": "#E5ECF6",
              "width": 0.5
             },
             "pattern": {
              "fillmode": "overlay",
              "size": 10,
              "solidity": 0.2
             }
            },
            "type": "bar"
           }
          ],
          "barpolar": [
           {
            "marker": {
             "line": {
              "color": "#E5ECF6",
              "width": 0.5
             },
             "pattern": {
              "fillmode": "overlay",
              "size": 10,
              "solidity": 0.2
             }
            },
            "type": "barpolar"
           }
          ],
          "carpet": [
           {
            "aaxis": {
             "endlinecolor": "#2a3f5f",
             "gridcolor": "white",
             "linecolor": "white",
             "minorgridcolor": "white",
             "startlinecolor": "#2a3f5f"
            },
            "baxis": {
             "endlinecolor": "#2a3f5f",
             "gridcolor": "white",
             "linecolor": "white",
             "minorgridcolor": "white",
             "startlinecolor": "#2a3f5f"
            },
            "type": "carpet"
           }
          ],
          "choropleth": [
           {
            "colorbar": {
             "outlinewidth": 0,
             "ticks": ""
            },
            "type": "choropleth"
           }
          ],
          "contour": [
           {
            "colorbar": {
             "outlinewidth": 0,
             "ticks": ""
            },
            "colorscale": [
             [
              0,
              "#0d0887"
             ],
             [
              0.1111111111111111,
              "#46039f"
             ],
             [
              0.2222222222222222,
              "#7201a8"
             ],
             [
              0.3333333333333333,
              "#9c179e"
             ],
             [
              0.4444444444444444,
              "#bd3786"
             ],
             [
              0.5555555555555556,
              "#d8576b"
             ],
             [
              0.6666666666666666,
              "#ed7953"
             ],
             [
              0.7777777777777778,
              "#fb9f3a"
             ],
             [
              0.8888888888888888,
              "#fdca26"
             ],
             [
              1,
              "#f0f921"
             ]
            ],
            "type": "contour"
           }
          ],
          "contourcarpet": [
           {
            "colorbar": {
             "outlinewidth": 0,
             "ticks": ""
            },
            "type": "contourcarpet"
           }
          ],
          "heatmap": [
           {
            "colorbar": {
             "outlinewidth": 0,
             "ticks": ""
            },
            "colorscale": [
             [
              0,
              "#0d0887"
             ],
             [
              0.1111111111111111,
              "#46039f"
             ],
             [
              0.2222222222222222,
              "#7201a8"
             ],
             [
              0.3333333333333333,
              "#9c179e"
             ],
             [
              0.4444444444444444,
              "#bd3786"
             ],
             [
              0.5555555555555556,
              "#d8576b"
             ],
             [
              0.6666666666666666,
              "#ed7953"
             ],
             [
              0.7777777777777778,
              "#fb9f3a"
             ],
             [
              0.8888888888888888,
              "#fdca26"
             ],
             [
              1,
              "#f0f921"
             ]
            ],
            "type": "heatmap"
           }
          ],
          "heatmapgl": [
           {
            "colorbar": {
             "outlinewidth": 0,
             "ticks": ""
            },
            "colorscale": [
             [
              0,
              "#0d0887"
             ],
             [
              0.1111111111111111,
              "#46039f"
             ],
             [
              0.2222222222222222,
              "#7201a8"
             ],
             [
              0.3333333333333333,
              "#9c179e"
             ],
             [
              0.4444444444444444,
              "#bd3786"
             ],
             [
              0.5555555555555556,
              "#d8576b"
             ],
             [
              0.6666666666666666,
              "#ed7953"
             ],
             [
              0.7777777777777778,
              "#fb9f3a"
             ],
             [
              0.8888888888888888,
              "#fdca26"
             ],
             [
              1,
              "#f0f921"
             ]
            ],
            "type": "heatmapgl"
           }
          ],
          "histogram": [
           {
            "marker": {
             "pattern": {
              "fillmode": "overlay",
              "size": 10,
              "solidity": 0.2
             }
            },
            "type": "histogram"
           }
          ],
          "histogram2d": [
           {
            "colorbar": {
             "outlinewidth": 0,
             "ticks": ""
            },
            "colorscale": [
             [
              0,
              "#0d0887"
             ],
             [
              0.1111111111111111,
              "#46039f"
             ],
             [
              0.2222222222222222,
              "#7201a8"
             ],
             [
              0.3333333333333333,
              "#9c179e"
             ],
             [
              0.4444444444444444,
              "#bd3786"
             ],
             [
              0.5555555555555556,
              "#d8576b"
             ],
             [
              0.6666666666666666,
              "#ed7953"
             ],
             [
              0.7777777777777778,
              "#fb9f3a"
             ],
             [
              0.8888888888888888,
              "#fdca26"
             ],
             [
              1,
              "#f0f921"
             ]
            ],
            "type": "histogram2d"
           }
          ],
          "histogram2dcontour": [
           {
            "colorbar": {
             "outlinewidth": 0,
             "ticks": ""
            },
            "colorscale": [
             [
              0,
              "#0d0887"
             ],
             [
              0.1111111111111111,
              "#46039f"
             ],
             [
              0.2222222222222222,
              "#7201a8"
             ],
             [
              0.3333333333333333,
              "#9c179e"
             ],
             [
              0.4444444444444444,
              "#bd3786"
             ],
             [
              0.5555555555555556,
              "#d8576b"
             ],
             [
              0.6666666666666666,
              "#ed7953"
             ],
             [
              0.7777777777777778,
              "#fb9f3a"
             ],
             [
              0.8888888888888888,
              "#fdca26"
             ],
             [
              1,
              "#f0f921"
             ]
            ],
            "type": "histogram2dcontour"
           }
          ],
          "mesh3d": [
           {
            "colorbar": {
             "outlinewidth": 0,
             "ticks": ""
            },
            "type": "mesh3d"
           }
          ],
          "parcoords": [
           {
            "line": {
             "colorbar": {
              "outlinewidth": 0,
              "ticks": ""
             }
            },
            "type": "parcoords"
           }
          ],
          "pie": [
           {
            "automargin": true,
            "type": "pie"
           }
          ],
          "scatter": [
           {
            "fillpattern": {
             "fillmode": "overlay",
             "size": 10,
             "solidity": 0.2
            },
            "type": "scatter"
           }
          ],
          "scatter3d": [
           {
            "line": {
             "colorbar": {
              "outlinewidth": 0,
              "ticks": ""
             }
            },
            "marker": {
             "colorbar": {
              "outlinewidth": 0,
              "ticks": ""
             }
            },
            "type": "scatter3d"
           }
          ],
          "scattercarpet": [
           {
            "marker": {
             "colorbar": {
              "outlinewidth": 0,
              "ticks": ""
             }
            },
            "type": "scattercarpet"
           }
          ],
          "scattergeo": [
           {
            "marker": {
             "colorbar": {
              "outlinewidth": 0,
              "ticks": ""
             }
            },
            "type": "scattergeo"
           }
          ],
          "scattergl": [
           {
            "marker": {
             "colorbar": {
              "outlinewidth": 0,
              "ticks": ""
             }
            },
            "type": "scattergl"
           }
          ],
          "scattermapbox": [
           {
            "marker": {
             "colorbar": {
              "outlinewidth": 0,
              "ticks": ""
             }
            },
            "type": "scattermapbox"
           }
          ],
          "scatterpolar": [
           {
            "marker": {
             "colorbar": {
              "outlinewidth": 0,
              "ticks": ""
             }
            },
            "type": "scatterpolar"
           }
          ],
          "scatterpolargl": [
           {
            "marker": {
             "colorbar": {
              "outlinewidth": 0,
              "ticks": ""
             }
            },
            "type": "scatterpolargl"
           }
          ],
          "scatterternary": [
           {
            "marker": {
             "colorbar": {
              "outlinewidth": 0,
              "ticks": ""
             }
            },
            "type": "scatterternary"
           }
          ],
          "surface": [
           {
            "colorbar": {
             "outlinewidth": 0,
             "ticks": ""
            },
            "colorscale": [
             [
              0,
              "#0d0887"
             ],
             [
              0.1111111111111111,
              "#46039f"
             ],
             [
              0.2222222222222222,
              "#7201a8"
             ],
             [
              0.3333333333333333,
              "#9c179e"
             ],
             [
              0.4444444444444444,
              "#bd3786"
             ],
             [
              0.5555555555555556,
              "#d8576b"
             ],
             [
              0.6666666666666666,
              "#ed7953"
             ],
             [
              0.7777777777777778,
              "#fb9f3a"
             ],
             [
              0.8888888888888888,
              "#fdca26"
             ],
             [
              1,
              "#f0f921"
             ]
            ],
            "type": "surface"
           }
          ],
          "table": [
           {
            "cells": {
             "fill": {
              "color": "#EBF0F8"
             },
             "line": {
              "color": "white"
             }
            },
            "header": {
             "fill": {
              "color": "#C8D4E3"
             },
             "line": {
              "color": "white"
             }
            },
            "type": "table"
           }
          ]
         },
         "layout": {
          "annotationdefaults": {
           "arrowcolor": "#2a3f5f",
           "arrowhead": 0,
           "arrowwidth": 1
          },
          "autotypenumbers": "strict",
          "coloraxis": {
           "colorbar": {
            "outlinewidth": 0,
            "ticks": ""
           }
          },
          "colorscale": {
           "diverging": [
            [
             0,
             "#8e0152"
            ],
            [
             0.1,
             "#c51b7d"
            ],
            [
             0.2,
             "#de77ae"
            ],
            [
             0.3,
             "#f1b6da"
            ],
            [
             0.4,
             "#fde0ef"
            ],
            [
             0.5,
             "#f7f7f7"
            ],
            [
             0.6,
             "#e6f5d0"
            ],
            [
             0.7,
             "#b8e186"
            ],
            [
             0.8,
             "#7fbc41"
            ],
            [
             0.9,
             "#4d9221"
            ],
            [
             1,
             "#276419"
            ]
           ],
           "sequential": [
            [
             0,
             "#0d0887"
            ],
            [
             0.1111111111111111,
             "#46039f"
            ],
            [
             0.2222222222222222,
             "#7201a8"
            ],
            [
             0.3333333333333333,
             "#9c179e"
            ],
            [
             0.4444444444444444,
             "#bd3786"
            ],
            [
             0.5555555555555556,
             "#d8576b"
            ],
            [
             0.6666666666666666,
             "#ed7953"
            ],
            [
             0.7777777777777778,
             "#fb9f3a"
            ],
            [
             0.8888888888888888,
             "#fdca26"
            ],
            [
             1,
             "#f0f921"
            ]
           ],
           "sequentialminus": [
            [
             0,
             "#0d0887"
            ],
            [
             0.1111111111111111,
             "#46039f"
            ],
            [
             0.2222222222222222,
             "#7201a8"
            ],
            [
             0.3333333333333333,
             "#9c179e"
            ],
            [
             0.4444444444444444,
             "#bd3786"
            ],
            [
             0.5555555555555556,
             "#d8576b"
            ],
            [
             0.6666666666666666,
             "#ed7953"
            ],
            [
             0.7777777777777778,
             "#fb9f3a"
            ],
            [
             0.8888888888888888,
             "#fdca26"
            ],
            [
             1,
             "#f0f921"
            ]
           ]
          },
          "colorway": [
           "#636efa",
           "#EF553B",
           "#00cc96",
           "#ab63fa",
           "#FFA15A",
           "#19d3f3",
           "#FF6692",
           "#B6E880",
           "#FF97FF",
           "#FECB52"
          ],
          "font": {
           "color": "#2a3f5f"
          },
          "geo": {
           "bgcolor": "white",
           "lakecolor": "white",
           "landcolor": "#E5ECF6",
           "showlakes": true,
           "showland": true,
           "subunitcolor": "white"
          },
          "hoverlabel": {
           "align": "left"
          },
          "hovermode": "closest",
          "mapbox": {
           "style": "light"
          },
          "paper_bgcolor": "white",
          "plot_bgcolor": "#E5ECF6",
          "polar": {
           "angularaxis": {
            "gridcolor": "white",
            "linecolor": "white",
            "ticks": ""
           },
           "bgcolor": "#E5ECF6",
           "radialaxis": {
            "gridcolor": "white",
            "linecolor": "white",
            "ticks": ""
           }
          },
          "scene": {
           "xaxis": {
            "backgroundcolor": "#E5ECF6",
            "gridcolor": "white",
            "gridwidth": 2,
            "linecolor": "white",
            "showbackground": true,
            "ticks": "",
            "zerolinecolor": "white"
           },
           "yaxis": {
            "backgroundcolor": "#E5ECF6",
            "gridcolor": "white",
            "gridwidth": 2,
            "linecolor": "white",
            "showbackground": true,
            "ticks": "",
            "zerolinecolor": "white"
           },
           "zaxis": {
            "backgroundcolor": "#E5ECF6",
            "gridcolor": "white",
            "gridwidth": 2,
            "linecolor": "white",
            "showbackground": true,
            "ticks": "",
            "zerolinecolor": "white"
           }
          },
          "shapedefaults": {
           "line": {
            "color": "#2a3f5f"
           }
          },
          "ternary": {
           "aaxis": {
            "gridcolor": "white",
            "linecolor": "white",
            "ticks": ""
           },
           "baxis": {
            "gridcolor": "white",
            "linecolor": "white",
            "ticks": ""
           },
           "bgcolor": "#E5ECF6",
           "caxis": {
            "gridcolor": "white",
            "linecolor": "white",
            "ticks": ""
           }
          },
          "title": {
           "x": 0.05
          },
          "xaxis": {
           "automargin": true,
           "gridcolor": "white",
           "linecolor": "white",
           "ticks": "",
           "title": {
            "standoff": 15
           },
           "zerolinecolor": "white",
           "zerolinewidth": 2
          },
          "yaxis": {
           "automargin": true,
           "gridcolor": "white",
           "linecolor": "white",
           "ticks": "",
           "title": {
            "standoff": 15
           },
           "zerolinecolor": "white",
           "zerolinewidth": 2
          }
         }
        },
        "title": {
         "text": "Crop Yield Prediction"
        },
        "xaxis": {
         "title": {
          "text": "Data Point"
         }
        },
        "yaxis": {
         "title": {
          "text": "Yield"
         }
        }
       }
      },
      "text/html": [
       "<div>                            <div id=\"baf46ed5-aedc-46ee-82d8-61c69e3cd718\" class=\"plotly-graph-div\" style=\"height:525px; width:100%;\"></div>            <script type=\"text/javascript\">                require([\"plotly\"], function(Plotly) {                    window.PLOTLYENV=window.PLOTLYENV || {};                                    if (document.getElementById(\"baf46ed5-aedc-46ee-82d8-61c69e3cd718\")) {                    Plotly.newPlot(                        \"baf46ed5-aedc-46ee-82d8-61c69e3cd718\",                        [{\"mode\":\"markers\",\"name\":\"Decision Tree\",\"x\":[13,45,47,44,17,27,26,25,31,19],\"y\":[9.59,42.95,39.04,757.92,13.45,4.71,5.9,5.9,36.61,12.69],\"type\":\"scatter\"},{\"mode\":\"markers\",\"name\":\"Linear Regression\",\"x\":[13,45,47,44,17,27,26,25,31,19],\"y\":[-64.96034130638826,34.556867524598246,123.04927915124291,700.4974091543374,42.15992508423746,-334.05723018383964,-142.59561777300078,-177.9006477633432,77.04658231122819,26.251621795937595],\"type\":\"scatter\"},{\"mode\":\"markers\",\"name\":\"XGBoost\",\"x\":[13,45,47,44,17,27,26,25,31,19],\"y\":[9.996879577636719,37.794532775878906,39.090118408203125,986.1912841796875,13.922025680541992,4.457681655883789,6.482978343963623,5.89793062210083,37.39445877075195,9.679414749145508],\"type\":\"scatter\"},{\"mode\":\"markers\",\"name\":\"Random Forest\",\"x\":[13,45,47,44,17,27,26,25,31,19],\"y\":[8.202200000000007,36.60849999999997,38.75769999999998,789.6764000000002,14.486800000000017,5.976499999999996,6.998200000000002,6.459399999999996,36.80710000000001,12.679800000000021],\"type\":\"scatter\"},{\"mode\":\"markers\",\"name\":\"Actual\",\"x\":[13,45,47,44,17,27,26,25,31,19],\"y\":[8.05,23.59,34.99,1015.45,11.98,1.32,4.05,3.01,32.42,9.33],\"type\":\"scatter\"}],                        {\"template\":{\"data\":{\"histogram2dcontour\":[{\"type\":\"histogram2dcontour\",\"colorbar\":{\"outlinewidth\":0,\"ticks\":\"\"},\"colorscale\":[[0.0,\"#0d0887\"],[0.1111111111111111,\"#46039f\"],[0.2222222222222222,\"#7201a8\"],[0.3333333333333333,\"#9c179e\"],[0.4444444444444444,\"#bd3786\"],[0.5555555555555556,\"#d8576b\"],[0.6666666666666666,\"#ed7953\"],[0.7777777777777778,\"#fb9f3a\"],[0.8888888888888888,\"#fdca26\"],[1.0,\"#f0f921\"]]}],\"choropleth\":[{\"type\":\"choropleth\",\"colorbar\":{\"outlinewidth\":0,\"ticks\":\"\"}}],\"histogram2d\":[{\"type\":\"histogram2d\",\"colorbar\":{\"outlinewidth\":0,\"ticks\":\"\"},\"colorscale\":[[0.0,\"#0d0887\"],[0.1111111111111111,\"#46039f\"],[0.2222222222222222,\"#7201a8\"],[0.3333333333333333,\"#9c179e\"],[0.4444444444444444,\"#bd3786\"],[0.5555555555555556,\"#d8576b\"],[0.6666666666666666,\"#ed7953\"],[0.7777777777777778,\"#fb9f3a\"],[0.8888888888888888,\"#fdca26\"],[1.0,\"#f0f921\"]]}],\"heatmap\":[{\"type\":\"heatmap\",\"colorbar\":{\"outlinewidth\":0,\"ticks\":\"\"},\"colorscale\":[[0.0,\"#0d0887\"],[0.1111111111111111,\"#46039f\"],[0.2222222222222222,\"#7201a8\"],[0.3333333333333333,\"#9c179e\"],[0.4444444444444444,\"#bd3786\"],[0.5555555555555556,\"#d8576b\"],[0.6666666666666666,\"#ed7953\"],[0.7777777777777778,\"#fb9f3a\"],[0.8888888888888888,\"#fdca26\"],[1.0,\"#f0f921\"]]}],\"heatmapgl\":[{\"type\":\"heatmapgl\",\"colorbar\":{\"outlinewidth\":0,\"ticks\":\"\"},\"colorscale\":[[0.0,\"#0d0887\"],[0.1111111111111111,\"#46039f\"],[0.2222222222222222,\"#7201a8\"],[0.3333333333333333,\"#9c179e\"],[0.4444444444444444,\"#bd3786\"],[0.5555555555555556,\"#d8576b\"],[0.6666666666666666,\"#ed7953\"],[0.7777777777777778,\"#fb9f3a\"],[0.8888888888888888,\"#fdca26\"],[1.0,\"#f0f921\"]]}],\"contourcarpet\":[{\"type\":\"contourcarpet\",\"colorbar\":{\"outlinewidth\":0,\"ticks\":\"\"}}],\"contour\":[{\"type\":\"contour\",\"colorbar\":{\"outlinewidth\":0,\"ticks\":\"\"},\"colorscale\":[[0.0,\"#0d0887\"],[0.1111111111111111,\"#46039f\"],[0.2222222222222222,\"#7201a8\"],[0.3333333333333333,\"#9c179e\"],[0.4444444444444444,\"#bd3786\"],[0.5555555555555556,\"#d8576b\"],[0.6666666666666666,\"#ed7953\"],[0.7777777777777778,\"#fb9f3a\"],[0.8888888888888888,\"#fdca26\"],[1.0,\"#f0f921\"]]}],\"surface\":[{\"type\":\"surface\",\"colorbar\":{\"outlinewidth\":0,\"ticks\":\"\"},\"colorscale\":[[0.0,\"#0d0887\"],[0.1111111111111111,\"#46039f\"],[0.2222222222222222,\"#7201a8\"],[0.3333333333333333,\"#9c179e\"],[0.4444444444444444,\"#bd3786\"],[0.5555555555555556,\"#d8576b\"],[0.6666666666666666,\"#ed7953\"],[0.7777777777777778,\"#fb9f3a\"],[0.8888888888888888,\"#fdca26\"],[1.0,\"#f0f921\"]]}],\"mesh3d\":[{\"type\":\"mesh3d\",\"colorbar\":{\"outlinewidth\":0,\"ticks\":\"\"}}],\"scatter\":[{\"fillpattern\":{\"fillmode\":\"overlay\",\"size\":10,\"solidity\":0.2},\"type\":\"scatter\"}],\"parcoords\":[{\"type\":\"parcoords\",\"line\":{\"colorbar\":{\"outlinewidth\":0,\"ticks\":\"\"}}}],\"scatterpolargl\":[{\"type\":\"scatterpolargl\",\"marker\":{\"colorbar\":{\"outlinewidth\":0,\"ticks\":\"\"}}}],\"bar\":[{\"error_x\":{\"color\":\"#2a3f5f\"},\"error_y\":{\"color\":\"#2a3f5f\"},\"marker\":{\"line\":{\"color\":\"#E5ECF6\",\"width\":0.5},\"pattern\":{\"fillmode\":\"overlay\",\"size\":10,\"solidity\":0.2}},\"type\":\"bar\"}],\"scattergeo\":[{\"type\":\"scattergeo\",\"marker\":{\"colorbar\":{\"outlinewidth\":0,\"ticks\":\"\"}}}],\"scatterpolar\":[{\"type\":\"scatterpolar\",\"marker\":{\"colorbar\":{\"outlinewidth\":0,\"ticks\":\"\"}}}],\"histogram\":[{\"marker\":{\"pattern\":{\"fillmode\":\"overlay\",\"size\":10,\"solidity\":0.2}},\"type\":\"histogram\"}],\"scattergl\":[{\"type\":\"scattergl\",\"marker\":{\"colorbar\":{\"outlinewidth\":0,\"ticks\":\"\"}}}],\"scatter3d\":[{\"type\":\"scatter3d\",\"line\":{\"colorbar\":{\"outlinewidth\":0,\"ticks\":\"\"}},\"marker\":{\"colorbar\":{\"outlinewidth\":0,\"ticks\":\"\"}}}],\"scattermapbox\":[{\"type\":\"scattermapbox\",\"marker\":{\"colorbar\":{\"outlinewidth\":0,\"ticks\":\"\"}}}],\"scatterternary\":[{\"type\":\"scatterternary\",\"marker\":{\"colorbar\":{\"outlinewidth\":0,\"ticks\":\"\"}}}],\"scattercarpet\":[{\"type\":\"scattercarpet\",\"marker\":{\"colorbar\":{\"outlinewidth\":0,\"ticks\":\"\"}}}],\"carpet\":[{\"aaxis\":{\"endlinecolor\":\"#2a3f5f\",\"gridcolor\":\"white\",\"linecolor\":\"white\",\"minorgridcolor\":\"white\",\"startlinecolor\":\"#2a3f5f\"},\"baxis\":{\"endlinecolor\":\"#2a3f5f\",\"gridcolor\":\"white\",\"linecolor\":\"white\",\"minorgridcolor\":\"white\",\"startlinecolor\":\"#2a3f5f\"},\"type\":\"carpet\"}],\"table\":[{\"cells\":{\"fill\":{\"color\":\"#EBF0F8\"},\"line\":{\"color\":\"white\"}},\"header\":{\"fill\":{\"color\":\"#C8D4E3\"},\"line\":{\"color\":\"white\"}},\"type\":\"table\"}],\"barpolar\":[{\"marker\":{\"line\":{\"color\":\"#E5ECF6\",\"width\":0.5},\"pattern\":{\"fillmode\":\"overlay\",\"size\":10,\"solidity\":0.2}},\"type\":\"barpolar\"}],\"pie\":[{\"automargin\":true,\"type\":\"pie\"}]},\"layout\":{\"autotypenumbers\":\"strict\",\"colorway\":[\"#636efa\",\"#EF553B\",\"#00cc96\",\"#ab63fa\",\"#FFA15A\",\"#19d3f3\",\"#FF6692\",\"#B6E880\",\"#FF97FF\",\"#FECB52\"],\"font\":{\"color\":\"#2a3f5f\"},\"hovermode\":\"closest\",\"hoverlabel\":{\"align\":\"left\"},\"paper_bgcolor\":\"white\",\"plot_bgcolor\":\"#E5ECF6\",\"polar\":{\"bgcolor\":\"#E5ECF6\",\"angularaxis\":{\"gridcolor\":\"white\",\"linecolor\":\"white\",\"ticks\":\"\"},\"radialaxis\":{\"gridcolor\":\"white\",\"linecolor\":\"white\",\"ticks\":\"\"}},\"ternary\":{\"bgcolor\":\"#E5ECF6\",\"aaxis\":{\"gridcolor\":\"white\",\"linecolor\":\"white\",\"ticks\":\"\"},\"baxis\":{\"gridcolor\":\"white\",\"linecolor\":\"white\",\"ticks\":\"\"},\"caxis\":{\"gridcolor\":\"white\",\"linecolor\":\"white\",\"ticks\":\"\"}},\"coloraxis\":{\"colorbar\":{\"outlinewidth\":0,\"ticks\":\"\"}},\"colorscale\":{\"sequential\":[[0.0,\"#0d0887\"],[0.1111111111111111,\"#46039f\"],[0.2222222222222222,\"#7201a8\"],[0.3333333333333333,\"#9c179e\"],[0.4444444444444444,\"#bd3786\"],[0.5555555555555556,\"#d8576b\"],[0.6666666666666666,\"#ed7953\"],[0.7777777777777778,\"#fb9f3a\"],[0.8888888888888888,\"#fdca26\"],[1.0,\"#f0f921\"]],\"sequentialminus\":[[0.0,\"#0d0887\"],[0.1111111111111111,\"#46039f\"],[0.2222222222222222,\"#7201a8\"],[0.3333333333333333,\"#9c179e\"],[0.4444444444444444,\"#bd3786\"],[0.5555555555555556,\"#d8576b\"],[0.6666666666666666,\"#ed7953\"],[0.7777777777777778,\"#fb9f3a\"],[0.8888888888888888,\"#fdca26\"],[1.0,\"#f0f921\"]],\"diverging\":[[0,\"#8e0152\"],[0.1,\"#c51b7d\"],[0.2,\"#de77ae\"],[0.3,\"#f1b6da\"],[0.4,\"#fde0ef\"],[0.5,\"#f7f7f7\"],[0.6,\"#e6f5d0\"],[0.7,\"#b8e186\"],[0.8,\"#7fbc41\"],[0.9,\"#4d9221\"],[1,\"#276419\"]]},\"xaxis\":{\"gridcolor\":\"white\",\"linecolor\":\"white\",\"ticks\":\"\",\"title\":{\"standoff\":15},\"zerolinecolor\":\"white\",\"automargin\":true,\"zerolinewidth\":2},\"yaxis\":{\"gridcolor\":\"white\",\"linecolor\":\"white\",\"ticks\":\"\",\"title\":{\"standoff\":15},\"zerolinecolor\":\"white\",\"automargin\":true,\"zerolinewidth\":2},\"scene\":{\"xaxis\":{\"backgroundcolor\":\"#E5ECF6\",\"gridcolor\":\"white\",\"linecolor\":\"white\",\"showbackground\":true,\"ticks\":\"\",\"zerolinecolor\":\"white\",\"gridwidth\":2},\"yaxis\":{\"backgroundcolor\":\"#E5ECF6\",\"gridcolor\":\"white\",\"linecolor\":\"white\",\"showbackground\":true,\"ticks\":\"\",\"zerolinecolor\":\"white\",\"gridwidth\":2},\"zaxis\":{\"backgroundcolor\":\"#E5ECF6\",\"gridcolor\":\"white\",\"linecolor\":\"white\",\"showbackground\":true,\"ticks\":\"\",\"zerolinecolor\":\"white\",\"gridwidth\":2}},\"shapedefaults\":{\"line\":{\"color\":\"#2a3f5f\"}},\"annotationdefaults\":{\"arrowcolor\":\"#2a3f5f\",\"arrowhead\":0,\"arrowwidth\":1},\"geo\":{\"bgcolor\":\"white\",\"landcolor\":\"#E5ECF6\",\"subunitcolor\":\"white\",\"showland\":true,\"showlakes\":true,\"lakecolor\":\"white\"},\"title\":{\"x\":0.05},\"mapbox\":{\"style\":\"light\"}}},\"title\":{\"text\":\"Crop Yield Prediction\"},\"xaxis\":{\"title\":{\"text\":\"Data Point\"}},\"yaxis\":{\"title\":{\"text\":\"Yield\"}}},                        {\"responsive\": true}                    ).then(function(){\n",
       "                            \n",
       "var gd = document.getElementById('baf46ed5-aedc-46ee-82d8-61c69e3cd718');\n",
       "var x = new MutationObserver(function (mutations, observer) {{\n",
       "        var display = window.getComputedStyle(gd).display;\n",
       "        if (!display || display === 'none') {{\n",
       "            console.log([gd, 'removed!']);\n",
       "            Plotly.purge(gd);\n",
       "            observer.disconnect();\n",
       "        }}\n",
       "}});\n",
       "\n",
       "// Listen for the removal of the full notebook cells\n",
       "var notebookContainer = gd.closest('#notebook-container');\n",
       "if (notebookContainer) {{\n",
       "    x.observe(notebookContainer, {childList: true});\n",
       "}}\n",
       "\n",
       "// Listen for the clearing of the current output cell\n",
       "var outputEl = gd.closest('.output');\n",
       "if (outputEl) {{\n",
       "    x.observe(outputEl, {childList: true});\n",
       "}}\n",
       "\n",
       "                        })                };                });            </script>        </div>"
      ]
     },
     "metadata": {},
     "output_type": "display_data"
    }
   ],
   "source": [
    "fig = go.Figure()\n",
    "\n",
    "for model_name, y_pred in predictions.items():\n",
    "    fig.add_trace(go.Scatter(\n",
    "        x=y_test.index,\n",
    "        y=y_pred,\n",
    "        mode='markers',\n",
    "        name=model_name\n",
    "    ))\n",
    "fig.add_trace(go.Scatter(\n",
    "    x=y_test.index,\n",
    "    y=y_test,\n",
    "    mode='markers',\n",
    "    name='Actual'\n",
    "))\n",
    "fig.update_layout(\n",
    "    title='Crop Yield Prediction',\n",
    "    xaxis_title='Data Point',\n",
    "    yaxis_title='Yield',\n",
    ")\n",
    "fig.show()\n",
    "\n"
   ]
  },
  {
   "cell_type": "markdown",
   "id": "4ff33a30",
   "metadata": {},
   "source": [
    "##  ◾ Evaluation results"
   ]
  },
  {
   "cell_type": "code",
   "execution_count": 939,
   "id": "9c8bc04d",
   "metadata": {},
   "outputs": [
    {
     "name": "stdout",
     "output_type": "stream",
     "text": [
      "Evaluation Results:\n",
      "Decision Tree:\n",
      "MSE: 6676.9557900000045\n",
      "MAE: 29.96300000000001\n",
      "----------------------------------------\n",
      "Linear Regression:\n",
      "MSE: 28230.05404690466\n",
      "MAE: 124.1650703739479\n",
      "----------------------------------------\n",
      "XGBoost:\n",
      "MSE: 113.11858814325804\n",
      "MAE: 6.5234736404419\n",
      "----------------------------------------\n",
      "Random Forest:\n",
      "MSE: 5123.644361587993\n",
      "MAE: 26.400979999999993\n",
      "----------------------------------------\n"
     ]
    }
   ],
   "source": [
    "print('Evaluation Results:')\n",
    "for model_name, metrics in evaluation.items():\n",
    "    print(f'{model_name}:')\n",
    "    print(f'MSE: {metrics[\"MSE\"]}')\n",
    "    print(f'MAE: {metrics[\"MAE\"]}')\n",
    "    print('----------------------------------------')"
   ]
  },
  {
   "cell_type": "markdown",
   "id": "f0fb69d0",
   "metadata": {},
   "source": [
    "*The evaluation results of the crop production prediction models reveal valuable insights into their performance. The Decision Tree model demonstrates relatively low errors, with an MSE of 101.92 and an MAE of 6.39. It indicates the model's ability to capture patterns in the data effectively. On the other hand, the Linear Regression model shows significantly higher errors, with an MSE of 28230.05 and an MAE of 124.17, indicating challenges in fitting the data linearly. The XGBoost model strikes a balance with an MSE of 113.12 and an MAE of 6.52, showcasing its robustness in handling complex relationships and yielding accurate predictions. Lastly, the Random Forest model presents an MSE of 4880.15 and an MAE of 25.85, showcasing its ability to handle multiple decision trees effectively. Considering the evaluation metrics, the XGBoost model emerges as the most promising choice for crop yield prediction, offering accurate forecasts with relatively low errors. These results hold immense potential to empower the agricultural sector in India with data-driven insights, paving the way for improved planning, decision-making, and sustainable agricultural practices.*"
   ]
  },
  {
   "cell_type": "markdown",
   "id": "4451271d",
   "metadata": {},
   "source": [
    "--------------------------------------------------------------------------------------------------------------------------------"
   ]
  },
  {
   "cell_type": "markdown",
   "id": "fc7c1123",
   "metadata": {},
   "source": [
    "\n",
    "**The outcomes of this project can have significant implications for the agricultural sector, enabling farmers to plan their activities better, policymakers to formulate data-driven policies, and stakeholders to make informed decisions concerning resource allocation and risk management. The predictive analysis aims to contribute to the advancement of India's agricultural landscape, promoting sustainability, productivity, and food security.**"
   ]
  },
  {
   "cell_type": "markdown",
   "id": "2781dd14",
   "metadata": {},
   "source": [
    "------------------------------------------------------------------------------------------------------------------------------"
   ]
  }
 ],
 "metadata": {
  "kernelspec": {
   "display_name": "Python 3 (ipykernel)",
   "language": "python",
   "name": "python3"
  },
  "language_info": {
   "codemirror_mode": {
    "name": "ipython",
    "version": 3
   },
   "file_extension": ".py",
   "mimetype": "text/x-python",
   "name": "python",
   "nbconvert_exporter": "python",
   "pygments_lexer": "ipython3",
   "version": "3.10.9"
  }
 },
 "nbformat": 4,
 "nbformat_minor": 5
}
